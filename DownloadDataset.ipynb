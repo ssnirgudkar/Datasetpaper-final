{
  "nbformat": 4,
  "nbformat_minor": 0,
  "metadata": {
    "colab": {
      "name": "DownloadDataset.ipynb",
      "provenance": [],
      "collapsed_sections": [],
      "authorship_tag": "ABX9TyP5P//yMOln/ZXH0wYi68bu",
      "include_colab_link": true
    },
    "kernelspec": {
      "name": "python3",
      "display_name": "Python 3"
    },
    "language_info": {
      "name": "python"
    }
  },
  "cells": [
    {
      "cell_type": "markdown",
      "metadata": {
        "id": "view-in-github",
        "colab_type": "text"
      },
      "source": [
        "<a href=\"https://colab.research.google.com/github/ssnirgudkar/Datasetpaper-final/blob/main/DownloadDataset.ipynb\" target=\"_parent\"><img src=\"https://colab.research.google.com/assets/colab-badge.svg\" alt=\"Open In Colab\"/></a>"
      ]
    },
    {
      "cell_type": "code",
      "source": [
        "import zipfile\n",
        "from google.colab import drive\n",
        "drive.mount('/content/drive')"
      ],
      "metadata": {
        "colab": {
          "base_uri": "https://localhost:8080/"
        },
        "id": "Yo70_PI6lLlq",
        "outputId": "25ab5214-d9de-45b3-b3bf-0a85fa79f2be"
      },
      "execution_count": 1,
      "outputs": [
        {
          "output_type": "stream",
          "name": "stdout",
          "text": [
            "Mounted at /content/drive\n"
          ]
        }
      ]
    },
    {
      "cell_type": "code",
      "source": [
        "# Remove files from this folder in google drive so there is no duplication\n",
        "#!rm -rf /content/drive/MyDrive/DatasetMetricReport/revised_json/*.json "
      ],
      "metadata": {
        "id": "ESjES1dEF6yA"
      },
      "execution_count": 3,
      "outputs": []
    },
    {
      "cell_type": "code",
      "execution_count": null,
      "metadata": {
        "id": "Juxe_1r4hDfb"
      },
      "outputs": [],
      "source": [
        "## This script is used to download the segmented images from segments.ai\n",
        "## Once a release is created, all the mask files can be downloaded with this script\n",
        "## The download also consists of original images.\n",
        "## Please make sure that you install latest segments.ai because they keep changing API arguments\n",
        "## From command shell (administrative) pip install segments-ai --upgrade\n",
        "## The key given to SegmentsClient is a unique key generated for me.\n",
        "## E.g. On mlpc, use python3 DownloadSegmentedImages.py ( DO NOT USE python, USE python3)\n",
        "!pip install segments-ai --upgrade\n",
        "\n",
        "from segments import SegmentsClient, SegmentsDataset\n",
        "from segments.utils import export_dataset\n",
        "import sys\n",
        "import argparse\n",
        "import json\n",
        "import requests\n",
        "import os\n",
        "\n",
        "\n",
        "\n",
        "def downloadDataset(account_name, dataset_path, version, export_format, userlabel, client):\n",
        "    full_dataset_path = account_name + '/' + dataset_path\n",
        "    release_file = client.get_release(full_dataset_path, version) \n",
        "    print(release_file)\n",
        "    url = (requests.get(release_file['attributes']['url']))\n",
        "    print(url)\n",
        "    content = json.loads(url.text)\n",
        "\n",
        "    json_file_name = dataset_path + '-' + version + '.json'\n",
        "    with open(json_file_name, \"w\") as json_file:\n",
        "        json.dump(content, json_file)\n",
        "    #print(\"JSON file contents={0}\".format(content))\n",
        "\n",
        "    release_dataset = SegmentsDataset(release_file, labelset=userlabel, filter_by=['labeled', 'reviewed'])\n",
        "    # Export to COCO format\n",
        "    json_file = ''\n",
        "    downloadDir = ''\n",
        "    if ('coco' in export_format):\n",
        "        (json_file, downloadDir) = export_dataset(release_dataset, export_format=export_format)\n",
        "    else:\n",
        "        downloadDir = export_dataset(release_dataset, export_format=export_format)\n",
        "    print(\"Images downloaded to dir = {0}\".format(downloadDir))\n",
        "\n",
        "    # Rename each file from XX.YY.png to aXX_YY.png\n",
        "    for eachFile in os.listdir(downloadDir):\n",
        "        newName = eachFile.replace('.', '_', 1) # replace only first occurrence of first '.'\n",
        "        newName = \"a\" + newName\n",
        "        os.rename(os.path.join(downloadDir, eachFile), os.path.join(downloadDir, newName))\n",
        "\n",
        "    (dir, leafDir) = os.path.split(downloadDir)\n",
        "    newLeafDir = leafDir + '_' + export_format\n",
        "    newDirPath = os.path.join(dir, newLeafDir)\n",
        "    os.rename(downloadDir, newDirPath)\n",
        "    print(\"Directory renamed to = {0}\".format(newDirPath))\n",
        "    print(\"Dataset downloaded successfully.\")\n",
        "    return json_file_name\n",
        "        \n",
        "\n",
        "def main(args):\n",
        "    account_name = None\n",
        "    if args['account_name'] is None:\n",
        "        print('Specify account name')\n",
        "        sys.exit(1)\n",
        "    else:\n",
        "        print(\"account name = {0}\".format(args['account_name']))\n",
        "        account_name = args['account_name']\n",
        "\n",
        "    dataset_path_list = None\n",
        "    if args['dataset_path'] is None:\n",
        "        print('Specify dataset path')\n",
        "        sys.exit(1)\n",
        "    else:\n",
        "        print(\"dataset path = {0}\".format(args['dataset_path']))\n",
        "        dataset_path_list = args['dataset_path']\n",
        "\n",
        "    version = None\n",
        "    if args['version'] is None:\n",
        "        print('Specify version')\n",
        "        sys.exit(1)\n",
        "    else:\n",
        "        print(\"version = {0}\".format(args['version']))\n",
        "        version = args['version']\n",
        "\n",
        "    userlabel = None\n",
        "    if args['userlabel'] is None:\n",
        "        print('Specify userlabel (ground-truth) or segmentation')\n",
        "        sys.exit(1)\n",
        "    else:\n",
        "        print(\"user label = {0}\".format(args[\"userlabel\"]))\n",
        "        userlabel = args[\"userlabel\"]\n",
        "\n",
        "\n",
        "    # Initialize a SegmentsDataset from the release file\n",
        "    if (account_name == \"ssnirgudkar\"):\n",
        "        client = SegmentsClient('a89182567b17766b91773021b18d04574cd75109')\n",
        "    if (account_name == \"brunswick\"):\n",
        "        client = SegmentsClient('98e631fa8e12a9a4d998b999d6f8e25aa2feb358')\n",
        "\n",
        "    json_file_names = []\n",
        "    if (dataset_path_list == \"all\"):\n",
        "        datasets = client.get_datasets()\n",
        "        for dataset in datasets:\n",
        "            dataset_path = dataset[\"name\"]\n",
        "            if (dataset_path == \"playground\"):\n",
        "                continue\n",
        "            print(\"dataset:{0},version:{1}\".format(dataset_path,version))\n",
        "            json_file_name = downloadDataset(account_name, dataset_path, version, args['export_format'], userlabel, client)\n",
        "            json_file_names.append(json_file_name)\n",
        "    else:\n",
        "        dataset_paths = dataset_path_list.split(',')\n",
        "        for dataset_path in dataset_paths:\n",
        "            json_file_name = downloadDataset(account_name, dataset_path, version, args['export_format'], userlabel, client)\n",
        "            json_file_names.append(json_file_name)\n",
        "\n",
        "    return json_file_names\n",
        "\n",
        "\n",
        "\n",
        "\n",
        "\n",
        "    \n",
        "\n",
        "#release_file = 'IR-2019-10-15-rex4usv-13-38-24.json'\n",
        "#dataset = SegmentsDataset(release_file, labelset='ground-truth', filter_by=['labeled'])\n",
        "\n",
        "    \n",
        "\n",
        "# To visualize the masks, following code can be used.\n",
        "# import matplotlib.pyplot as plt\n",
        "# from segments.utils import get_semantic_bitmap\n",
        "'''\n",
        "for sample in release_dataset1:\n",
        "    # Print the sample name and list of labeled objects\n",
        "    print(sample['name'])\n",
        "    print(sample['annotations'])\n",
        "    \n",
        "    # Show the image\n",
        "    plt.imshow(sample['image'])\n",
        "    plt.show()\n",
        "    \n",
        "    # Show the instance segmentation label\n",
        "    plt.imshow(sample['segmentation_bitmap'])\n",
        "    plt.show()\n",
        "    \n",
        "    # Show the semantic segmentation label\n",
        "    semantic_bitmap = get_semantic_bitmap(sample['segmentation_bitmap'], sample['annotations'])\n",
        "    plt.imshow(semantic_bitmap)\n",
        "    plt.show()\n",
        "'''    \n"
      ]
    },
    {
      "cell_type": "code",
      "source": [
        "# Pull Non Pilot IR dataset from segments-ai. Pulls both images and json files \n",
        "args = {}\n",
        "args[\"account_name\"] = \"ssnirgudkar\"\n",
        "args[\"dataset_path\"] = \"IR-2019-12-11-11-09-59,IR-2019-10-22-11-56-01,IR-2020-10-20-16-32-52-1,IR-2019-10-28-philios-16-25-00,IR-2020-10-22-17-33-25-0,IR-2020-10-20-15-52-18\"\n",
        "args[\"version\"] = \"v2.0\"\n",
        "args[\"export_format\"] = \"coco-panoptic\"\n",
        "args[\"userlabel\"] = \"ground-truth\"\n",
        "\n",
        "main(args)"
      ],
      "metadata": {
        "colab": {
          "base_uri": "https://localhost:8080/"
        },
        "id": "loTf2d_Th_Bm",
        "outputId": "b6f50108-c12a-4722-9efe-8e38fb6e485a"
      },
      "execution_count": 5,
      "outputs": [
        {
          "output_type": "stream",
          "name": "stdout",
          "text": [
            "account name = ssnirgudkar\n",
            "dataset path = IR-2019-12-11-11-09-59,IR-2019-10-22-11-56-01,IR-2020-10-20-16-32-52-1,IR-2019-10-28-philios-16-25-00,IR-2020-10-22-17-33-25-0,IR-2020-10-20-15-52-18\n",
            "version = v2.0\n",
            "user label = ground-truth\n",
            "Initialized successfully.\n",
            "{'uuid': 'e0570cd3-0090-4c50-903c-537acfe2323c', 'name': 'v2.0', 'description': 'Final release for December', 'release_type': 'JSON', 'attributes': {'url': 'https://segmentsai-prod.s3.eu-west-2.amazonaws.com/releases/e0570cd3-0090-4c50-903c-537acfe2323c.json'}, 'status': 'SUCCEEDED', 'status_info': '', 'created_at': '2021-12-06T13:07:34.475403Z', 'samples_count': 9}\n",
            "<Response [200]>\n",
            "Initializing dataset...\n",
            "Preloading all samples. This may take a while...\n"
          ]
        },
        {
          "output_type": "stream",
          "name": "stderr",
          "text": [
            "100%|██████████| 9/9 [00:02<00:00,  3.24it/s]\n"
          ]
        },
        {
          "output_type": "stream",
          "name": "stdout",
          "text": [
            "Initialized dataset with 9 images.\n",
            "Exporting dataset. This may take a while...\n"
          ]
        },
        {
          "output_type": "stream",
          "name": "stderr",
          "text": [
            "100%|██████████| 9/9 [00:00<00:00, 21.41it/s]\n"
          ]
        },
        {
          "output_type": "stream",
          "name": "stdout",
          "text": [
            "Exported to ./export_coco-panoptic_ssnirgudkar_IR-2019-12-11-11-09-59_v2.0.json. Images and labels in segments/ssnirgudkar_IR-2019-12-11-11-09-59/v2.0\n",
            "Images downloaded to dir = segments/ssnirgudkar_IR-2019-12-11-11-09-59/v2.0\n",
            "Directory renamed to = segments/ssnirgudkar_IR-2019-12-11-11-09-59/v2.0_coco-panoptic\n",
            "Dataset downloaded successfully.\n",
            "{'uuid': '972cd482-144f-4d6c-86ad-bea85c835d84', 'name': 'v2.0', 'description': 'Final release for December', 'release_type': 'JSON', 'attributes': {'url': 'https://segmentsai-prod.s3.eu-west-2.amazonaws.com/releases/972cd482-144f-4d6c-86ad-bea85c835d84.json'}, 'status': 'SUCCEEDED', 'status_info': '', 'created_at': '2021-12-06T13:02:44.720497Z', 'samples_count': 16}\n",
            "<Response [200]>\n",
            "Initializing dataset...\n",
            "Preloading all samples. This may take a while...\n"
          ]
        },
        {
          "output_type": "stream",
          "name": "stderr",
          "text": [
            "100%|██████████| 16/16 [00:02<00:00,  6.27it/s]\n"
          ]
        },
        {
          "output_type": "stream",
          "name": "stdout",
          "text": [
            "Initialized dataset with 16 images.\n",
            "Exporting dataset. This may take a while...\n"
          ]
        },
        {
          "output_type": "stream",
          "name": "stderr",
          "text": [
            "100%|██████████| 16/16 [00:00<00:00, 18.13it/s]\n"
          ]
        },
        {
          "output_type": "stream",
          "name": "stdout",
          "text": [
            "Exported to ./export_coco-panoptic_ssnirgudkar_IR-2019-10-22-11-56-01_v2.0.json. Images and labels in segments/ssnirgudkar_IR-2019-10-22-11-56-01/v2.0\n",
            "Images downloaded to dir = segments/ssnirgudkar_IR-2019-10-22-11-56-01/v2.0\n",
            "Directory renamed to = segments/ssnirgudkar_IR-2019-10-22-11-56-01/v2.0_coco-panoptic\n",
            "Dataset downloaded successfully.\n",
            "{'uuid': '5a64d73f-7708-49d0-b785-65b27899c955', 'name': 'v2.0', 'description': 'Final release for December', 'release_type': 'JSON', 'attributes': {'url': 'https://segmentsai-prod.s3.eu-west-2.amazonaws.com/releases/5a64d73f-7708-49d0-b785-65b27899c955.json'}, 'status': 'SUCCEEDED', 'status_info': '', 'created_at': '2021-12-06T13:03:15.120161Z', 'samples_count': 143}\n",
            "<Response [200]>\n",
            "Initializing dataset...\n",
            "Preloading all samples. This may take a while...\n"
          ]
        },
        {
          "output_type": "stream",
          "name": "stderr",
          "text": [
            "100%|██████████| 143/143 [00:10<00:00, 13.03it/s]\n"
          ]
        },
        {
          "output_type": "stream",
          "name": "stdout",
          "text": [
            "Initialized dataset with 143 images.\n",
            "Exporting dataset. This may take a while...\n"
          ]
        },
        {
          "output_type": "stream",
          "name": "stderr",
          "text": [
            "100%|██████████| 143/143 [00:07<00:00, 18.93it/s]\n"
          ]
        },
        {
          "output_type": "stream",
          "name": "stdout",
          "text": [
            "Exported to ./export_coco-panoptic_ssnirgudkar_IR-2020-10-20-16-32-52-1_v2.0.json. Images and labels in segments/ssnirgudkar_IR-2020-10-20-16-32-52-1/v2.0\n",
            "Images downloaded to dir = segments/ssnirgudkar_IR-2020-10-20-16-32-52-1/v2.0\n",
            "Directory renamed to = segments/ssnirgudkar_IR-2020-10-20-16-32-52-1/v2.0_coco-panoptic\n",
            "Dataset downloaded successfully.\n",
            "{'uuid': 'b3c9c520-f6a3-4702-915d-463bd6c5be70', 'name': 'v2.0', 'description': 'Final release for December', 'release_type': 'JSON', 'attributes': {'url': 'https://segmentsai-prod.s3.eu-west-2.amazonaws.com/releases/b3c9c520-f6a3-4702-915d-463bd6c5be70.json'}, 'status': 'SUCCEEDED', 'status_info': '', 'created_at': '2021-12-06T13:06:14.957243Z', 'samples_count': 67}\n",
            "<Response [200]>\n",
            "Initializing dataset...\n",
            "Preloading all samples. This may take a while...\n"
          ]
        },
        {
          "output_type": "stream",
          "name": "stderr",
          "text": [
            "100%|██████████| 67/67 [00:07<00:00,  8.65it/s]\n"
          ]
        },
        {
          "output_type": "stream",
          "name": "stdout",
          "text": [
            "Initialized dataset with 67 images.\n",
            "Exporting dataset. This may take a while...\n"
          ]
        },
        {
          "output_type": "stream",
          "name": "stderr",
          "text": [
            "100%|██████████| 67/67 [00:03<00:00, 21.44it/s]\n"
          ]
        },
        {
          "output_type": "stream",
          "name": "stdout",
          "text": [
            "Exported to ./export_coco-panoptic_ssnirgudkar_IR-2019-10-28-philios-16-25-00_v2.0.json. Images and labels in segments/ssnirgudkar_IR-2019-10-28-philios-16-25-00/v2.0\n",
            "Images downloaded to dir = segments/ssnirgudkar_IR-2019-10-28-philios-16-25-00/v2.0\n",
            "Directory renamed to = segments/ssnirgudkar_IR-2019-10-28-philios-16-25-00/v2.0_coco-panoptic\n",
            "Dataset downloaded successfully.\n",
            "{'uuid': '893a5904-898b-4980-bdfc-f27a0e20ef45', 'name': 'v2.0', 'description': 'Final release for December', 'release_type': 'JSON', 'attributes': {'url': 'https://segmentsai-prod.s3.eu-west-2.amazonaws.com/releases/893a5904-898b-4980-bdfc-f27a0e20ef45.json'}, 'status': 'SUCCEEDED', 'status_info': '', 'created_at': '2021-12-06T13:03:45.027188Z', 'samples_count': 62}\n",
            "<Response [200]>\n",
            "Initializing dataset...\n",
            "Preloading all samples. This may take a while...\n"
          ]
        },
        {
          "output_type": "stream",
          "name": "stderr",
          "text": [
            "100%|██████████| 62/62 [00:06<00:00,  8.88it/s]\n"
          ]
        },
        {
          "output_type": "stream",
          "name": "stdout",
          "text": [
            "Initialized dataset with 62 images.\n",
            "Exporting dataset. This may take a while...\n"
          ]
        },
        {
          "output_type": "stream",
          "name": "stderr",
          "text": [
            "100%|██████████| 62/62 [00:03<00:00, 18.18it/s]\n"
          ]
        },
        {
          "output_type": "stream",
          "name": "stdout",
          "text": [
            "Exported to ./export_coco-panoptic_ssnirgudkar_IR-2020-10-22-17-33-25-0_v2.0.json. Images and labels in segments/ssnirgudkar_IR-2020-10-22-17-33-25-0/v2.0\n",
            "Images downloaded to dir = segments/ssnirgudkar_IR-2020-10-22-17-33-25-0/v2.0\n",
            "Directory renamed to = segments/ssnirgudkar_IR-2020-10-22-17-33-25-0/v2.0_coco-panoptic\n",
            "Dataset downloaded successfully.\n",
            "{'uuid': '41c3a3bd-d4e9-4ce5-ade3-51e738583109', 'name': 'v2.0', 'description': 'Final release for December', 'release_type': 'JSON', 'attributes': {'url': 'https://segmentsai-prod.s3.eu-west-2.amazonaws.com/releases/41c3a3bd-d4e9-4ce5-ade3-51e738583109.json'}, 'status': 'SUCCEEDED', 'status_info': '', 'created_at': '2021-12-07T12:34:50.541497Z', 'samples_count': 41}\n",
            "<Response [200]>\n",
            "Initializing dataset...\n",
            "Preloading all samples. This may take a while...\n"
          ]
        },
        {
          "output_type": "stream",
          "name": "stderr",
          "text": [
            "100%|██████████| 41/41 [00:06<00:00,  6.82it/s]\n"
          ]
        },
        {
          "output_type": "stream",
          "name": "stdout",
          "text": [
            "Initialized dataset with 41 images.\n",
            "Exporting dataset. This may take a while...\n"
          ]
        },
        {
          "output_type": "stream",
          "name": "stderr",
          "text": [
            "100%|██████████| 41/41 [00:02<00:00, 18.31it/s]"
          ]
        },
        {
          "output_type": "stream",
          "name": "stdout",
          "text": [
            "Exported to ./export_coco-panoptic_ssnirgudkar_IR-2020-10-20-15-52-18_v2.0.json. Images and labels in segments/ssnirgudkar_IR-2020-10-20-15-52-18/v2.0\n",
            "Images downloaded to dir = segments/ssnirgudkar_IR-2020-10-20-15-52-18/v2.0\n",
            "Directory renamed to = segments/ssnirgudkar_IR-2020-10-20-15-52-18/v2.0_coco-panoptic\n",
            "Dataset downloaded successfully.\n"
          ]
        },
        {
          "output_type": "stream",
          "name": "stderr",
          "text": [
            "\n"
          ]
        },
        {
          "output_type": "execute_result",
          "data": {
            "text/plain": [
              "['IR-2019-12-11-11-09-59-v2.0.json',\n",
              " 'IR-2019-10-22-11-56-01-v2.0.json',\n",
              " 'IR-2020-10-20-16-32-52-1-v2.0.json',\n",
              " 'IR-2019-10-28-philios-16-25-00-v2.0.json',\n",
              " 'IR-2020-10-22-17-33-25-0-v2.0.json',\n",
              " 'IR-2020-10-20-15-52-18-v2.0.json']"
            ]
          },
          "metadata": {},
          "execution_count": 5
        }
      ]
    },
    {
      "cell_type": "code",
      "source": [
        "# Pull Pilot IR dataset from segments-ai. Pulls both images and json files \n",
        "args = {}\n",
        "args[\"account_name\"] = \"ssnirgudkar\"\n",
        "args[\"dataset_path\"] = \"PilotIR\"\n",
        "args[\"version\"] = \"v2.0\"\n",
        "args[\"export_format\"] = \"coco-panoptic\"\n",
        "args[\"userlabel\"] = \"segmentation\"\n",
        "\n",
        "main(args)"
      ],
      "metadata": {
        "colab": {
          "base_uri": "https://localhost:8080/"
        },
        "id": "sR0f69uFFCpV",
        "outputId": "66e7efa9-35db-436a-bc9f-3866eece2be1"
      },
      "execution_count": 6,
      "outputs": [
        {
          "output_type": "stream",
          "name": "stdout",
          "text": [
            "account name = ssnirgudkar\n",
            "dataset path = PilotIR\n",
            "version = v2.0\n",
            "user label = segmentation\n",
            "Initialized successfully.\n",
            "{'uuid': 'd0237292-6316-4eef-80d0-c95bf179994c', 'name': 'v2.0', 'description': 'Final release for December', 'release_type': 'JSON', 'attributes': {'url': 'https://segmentsai-prod.s3.eu-west-2.amazonaws.com/releases/d0237292-6316-4eef-80d0-c95bf179994c.json'}, 'status': 'SUCCEEDED', 'status_info': '', 'created_at': '2022-01-01T21:51:43.646631Z', 'samples_count': 103}\n",
            "<Response [200]>\n",
            "Initializing dataset...\n",
            "Preloading all samples. This may take a while...\n"
          ]
        },
        {
          "output_type": "stream",
          "name": "stderr",
          "text": [
            "100%|██████████| 79/79 [00:08<00:00,  9.19it/s]\n"
          ]
        },
        {
          "output_type": "stream",
          "name": "stdout",
          "text": [
            "Initialized dataset with 79 images.\n",
            "Exporting dataset. This may take a while...\n"
          ]
        },
        {
          "output_type": "stream",
          "name": "stderr",
          "text": [
            "100%|██████████| 79/79 [00:05<00:00, 15.09it/s]\n"
          ]
        },
        {
          "output_type": "stream",
          "name": "stdout",
          "text": [
            "Exported to ./export_coco-panoptic_ssnirgudkar_PilotIR_v2.0.json. Images and labels in segments/ssnirgudkar_PilotIR/v2.0\n",
            "Images downloaded to dir = segments/ssnirgudkar_PilotIR/v2.0\n",
            "Directory renamed to = segments/ssnirgudkar_PilotIR/v2.0_coco-panoptic\n",
            "Dataset downloaded successfully.\n"
          ]
        },
        {
          "output_type": "execute_result",
          "data": {
            "text/plain": [
              "['PilotIR-v2.0.json']"
            ]
          },
          "metadata": {},
          "execution_count": 6
        }
      ]
    },
    {
      "cell_type": "code",
      "source": [
        "# Pull brunswick from segments-ai. Pulls both images and json files. There are 417 combined from ss nirgudkar \n",
        "args = {}\n",
        "args[\"account_name\"] = \"brunswick\"\n",
        "args[\"dataset_path\"] = \"all\"\n",
        "args[\"version\"] = \"v2.0\"\n",
        "args[\"export_format\"] = \"coco-panoptic\"\n",
        "args[\"userlabel\"] = \"ground-truth\"\n",
        "\n",
        "main(args)"
      ],
      "metadata": {
        "colab": {
          "base_uri": "https://localhost:8080/"
        },
        "id": "wAgmOvj7FL_B",
        "outputId": "2410212e-0964-4d67-da42-9907f30db0cf"
      },
      "execution_count": 7,
      "outputs": [
        {
          "output_type": "stream",
          "name": "stdout",
          "text": [
            "account name = brunswick\n",
            "dataset path = all\n",
            "version = v2.0\n",
            "user label = ground-truth\n",
            "Initialized successfully.\n",
            "dataset:IR-2019-10-29-philios-16-00-19,version:v2.0\n",
            "{'uuid': '130c6ba4-7f75-4a76-a5ca-0964e7f742fe', 'name': 'v2.0', 'description': 'Final release for December', 'release_type': 'JSON', 'attributes': {'url': 'https://segmentsai-prod.s3.eu-west-2.amazonaws.com/releases/130c6ba4-7f75-4a76-a5ca-0964e7f742fe.json'}, 'status': 'SUCCEEDED', 'status_info': '', 'created_at': '2021-11-26T22:19:37.415705Z', 'samples_count': 69}\n",
            "<Response [200]>\n",
            "Initializing dataset...\n",
            "Preloading all samples. This may take a while...\n"
          ]
        },
        {
          "output_type": "stream",
          "name": "stderr",
          "text": [
            "100%|██████████| 69/69 [00:08<00:00,  8.10it/s]\n"
          ]
        },
        {
          "output_type": "stream",
          "name": "stdout",
          "text": [
            "Initialized dataset with 69 images.\n",
            "Exporting dataset. This may take a while...\n"
          ]
        },
        {
          "output_type": "stream",
          "name": "stderr",
          "text": [
            "100%|██████████| 69/69 [00:03<00:00, 17.66it/s]\n"
          ]
        },
        {
          "output_type": "stream",
          "name": "stdout",
          "text": [
            "Exported to ./export_coco-panoptic_brunswick_IR-2019-10-29-philios-16-00-19_v2.0.json. Images and labels in segments/brunswick_IR-2019-10-29-philios-16-00-19/v2.0\n",
            "Images downloaded to dir = segments/brunswick_IR-2019-10-29-philios-16-00-19/v2.0\n",
            "Directory renamed to = segments/brunswick_IR-2019-10-29-philios-16-00-19/v2.0_coco-panoptic\n",
            "Dataset downloaded successfully.\n",
            "dataset:IR-2019-10-08-rex4usv-13-29-51,version:v2.0\n",
            "{'uuid': '86c9b298-334f-41d1-9105-8f61f6a5bba8', 'name': 'v2.0', 'description': 'Final release for December', 'release_type': 'JSON', 'attributes': {'url': 'https://segmentsai-prod.s3.eu-west-2.amazonaws.com/releases/86c9b298-334f-41d1-9105-8f61f6a5bba8.json'}, 'status': 'SUCCEEDED', 'status_info': '', 'created_at': '2021-11-28T00:21:03.251921Z', 'samples_count': 119}\n",
            "<Response [200]>\n",
            "Initializing dataset...\n",
            "Preloading all samples. This may take a while...\n"
          ]
        },
        {
          "output_type": "stream",
          "name": "stderr",
          "text": [
            "100%|██████████| 119/119 [00:12<00:00,  9.84it/s]\n"
          ]
        },
        {
          "output_type": "stream",
          "name": "stdout",
          "text": [
            "Initialized dataset with 119 images.\n",
            "Exporting dataset. This may take a while...\n"
          ]
        },
        {
          "output_type": "stream",
          "name": "stderr",
          "text": [
            "100%|██████████| 119/119 [00:06<00:00, 19.76it/s]\n"
          ]
        },
        {
          "output_type": "stream",
          "name": "stdout",
          "text": [
            "Exported to ./export_coco-panoptic_brunswick_IR-2019-10-08-rex4usv-13-29-51_v2.0.json. Images and labels in segments/brunswick_IR-2019-10-08-rex4usv-13-29-51/v2.0\n",
            "Images downloaded to dir = segments/brunswick_IR-2019-10-08-rex4usv-13-29-51/v2.0\n",
            "Directory renamed to = segments/brunswick_IR-2019-10-08-rex4usv-13-29-51/v2.0_coco-panoptic\n",
            "Dataset downloaded successfully.\n",
            "dataset:IR-2019-10-29-16-08-13,version:v2.0\n",
            "{'uuid': '02890fef-b7b5-4b03-a76f-494e82f5fb7a', 'name': 'v2.0', 'description': 'Final release for December', 'release_type': 'JSON', 'attributes': {'url': 'https://segmentsai-prod.s3.eu-west-2.amazonaws.com/releases/02890fef-b7b5-4b03-a76f-494e82f5fb7a.json'}, 'status': 'SUCCEEDED', 'status_info': '', 'created_at': '2021-11-26T22:22:01.043841Z', 'samples_count': 29}\n",
            "<Response [200]>\n",
            "Initializing dataset...\n",
            "Preloading all samples. This may take a while...\n"
          ]
        },
        {
          "output_type": "stream",
          "name": "stderr",
          "text": [
            "100%|██████████| 29/29 [00:05<00:00,  5.45it/s]\n"
          ]
        },
        {
          "output_type": "stream",
          "name": "stdout",
          "text": [
            "Initialized dataset with 29 images.\n",
            "Exporting dataset. This may take a while...\n"
          ]
        },
        {
          "output_type": "stream",
          "name": "stderr",
          "text": [
            "100%|██████████| 29/29 [00:01<00:00, 19.52it/s]\n"
          ]
        },
        {
          "output_type": "stream",
          "name": "stdout",
          "text": [
            "Exported to ./export_coco-panoptic_brunswick_IR-2019-10-29-16-08-13_v2.0.json. Images and labels in segments/brunswick_IR-2019-10-29-16-08-13/v2.0\n",
            "Images downloaded to dir = segments/brunswick_IR-2019-10-29-16-08-13/v2.0\n",
            "Directory renamed to = segments/brunswick_IR-2019-10-29-16-08-13/v2.0_coco-panoptic\n",
            "Dataset downloaded successfully.\n",
            "dataset:IR-2019-10-29-log-philios-15-55-36,version:v2.0\n",
            "{'uuid': '1bf5ea2d-e574-462b-8823-7ba8418084b5', 'name': 'v2.0', 'description': 'Final release for December', 'release_type': 'JSON', 'attributes': {'url': 'https://segmentsai-prod.s3.eu-west-2.amazonaws.com/releases/1bf5ea2d-e574-462b-8823-7ba8418084b5.json'}, 'status': 'SUCCEEDED', 'status_info': '', 'created_at': '2021-11-28T00:25:09.542941Z', 'samples_count': 82}\n",
            "<Response [200]>\n",
            "Initializing dataset...\n",
            "Preloading all samples. This may take a while...\n"
          ]
        },
        {
          "output_type": "stream",
          "name": "stderr",
          "text": [
            "100%|██████████| 82/82 [00:08<00:00,  9.38it/s]\n"
          ]
        },
        {
          "output_type": "stream",
          "name": "stdout",
          "text": [
            "Initialized dataset with 82 images.\n",
            "Exporting dataset. This may take a while...\n"
          ]
        },
        {
          "output_type": "stream",
          "name": "stderr",
          "text": [
            "100%|██████████| 82/82 [00:04<00:00, 19.08it/s]\n"
          ]
        },
        {
          "output_type": "stream",
          "name": "stdout",
          "text": [
            "Exported to ./export_coco-panoptic_brunswick_IR-2019-10-29-log-philios-15-55-36_v2.0.json. Images and labels in segments/brunswick_IR-2019-10-29-log-philios-15-55-36/v2.0\n",
            "Images downloaded to dir = segments/brunswick_IR-2019-10-29-log-philios-15-55-36/v2.0\n",
            "Directory renamed to = segments/brunswick_IR-2019-10-29-log-philios-15-55-36/v2.0_coco-panoptic\n",
            "Dataset downloaded successfully.\n",
            "dataset:IR-2019-10-08-14-49-48,version:v2.0\n",
            "{'uuid': '7b010743-e303-45d1-8966-482d117c0d3e', 'name': 'v2.0', 'description': 'Final release for December', 'release_type': 'JSON', 'attributes': {'url': 'https://segmentsai-prod.s3.eu-west-2.amazonaws.com/releases/7b010743-e303-45d1-8966-482d117c0d3e.json'}, 'status': 'SUCCEEDED', 'status_info': '', 'created_at': '2021-11-26T22:23:07.747159Z', 'samples_count': 58}\n",
            "<Response [200]>\n",
            "Initializing dataset...\n",
            "Preloading all samples. This may take a while...\n"
          ]
        },
        {
          "output_type": "stream",
          "name": "stderr",
          "text": [
            "100%|██████████| 58/58 [00:06<00:00,  8.41it/s]\n"
          ]
        },
        {
          "output_type": "stream",
          "name": "stdout",
          "text": [
            "Initialized dataset with 58 images.\n",
            "Exporting dataset. This may take a while...\n"
          ]
        },
        {
          "output_type": "stream",
          "name": "stderr",
          "text": [
            "100%|██████████| 58/58 [00:03<00:00, 17.28it/s]\n"
          ]
        },
        {
          "output_type": "stream",
          "name": "stdout",
          "text": [
            "Exported to ./export_coco-panoptic_brunswick_IR-2019-10-08-14-49-48_v2.0.json. Images and labels in segments/brunswick_IR-2019-10-08-14-49-48/v2.0\n",
            "Images downloaded to dir = segments/brunswick_IR-2019-10-08-14-49-48/v2.0\n",
            "Directory renamed to = segments/brunswick_IR-2019-10-08-14-49-48/v2.0_coco-panoptic\n",
            "Dataset downloaded successfully.\n",
            "dataset:IR-2019-10-08-15-05-15,version:v2.0\n",
            "{'uuid': '956f7c07-6a50-485f-bd8d-cd4391693ca2', 'name': 'v2.0', 'description': 'Final release for December', 'release_type': 'JSON', 'attributes': {'url': 'https://segmentsai-prod.s3.eu-west-2.amazonaws.com/releases/956f7c07-6a50-485f-bd8d-cd4391693ca2.json'}, 'status': 'SUCCEEDED', 'status_info': '', 'created_at': '2021-11-26T22:23:43.999121Z', 'samples_count': 78}\n",
            "<Response [200]>\n",
            "Initializing dataset...\n",
            "Preloading all samples. This may take a while...\n"
          ]
        },
        {
          "output_type": "stream",
          "name": "stderr",
          "text": [
            "100%|██████████| 78/78 [00:08<00:00,  8.90it/s]\n"
          ]
        },
        {
          "output_type": "stream",
          "name": "stdout",
          "text": [
            "Initialized dataset with 78 images.\n",
            "Exporting dataset. This may take a while...\n"
          ]
        },
        {
          "output_type": "stream",
          "name": "stderr",
          "text": [
            "100%|██████████| 78/78 [00:03<00:00, 21.65it/s]\n"
          ]
        },
        {
          "output_type": "stream",
          "name": "stdout",
          "text": [
            "Exported to ./export_coco-panoptic_brunswick_IR-2019-10-08-15-05-15_v2.0.json. Images and labels in segments/brunswick_IR-2019-10-08-15-05-15/v2.0\n",
            "Images downloaded to dir = segments/brunswick_IR-2019-10-08-15-05-15/v2.0\n",
            "Directory renamed to = segments/brunswick_IR-2019-10-08-15-05-15/v2.0_coco-panoptic\n",
            "Dataset downloaded successfully.\n",
            "dataset:IR-2019-11-05-philios-13-35-55,version:v2.0\n",
            "{'uuid': '6442cf8a-a730-4ae7-8bcb-45a26cdb02f2', 'name': 'v2.0', 'description': 'Final release for December', 'release_type': 'JSON', 'attributes': {'url': 'https://segmentsai-prod.s3.eu-west-2.amazonaws.com/releases/6442cf8a-a730-4ae7-8bcb-45a26cdb02f2.json'}, 'status': 'SUCCEEDED', 'status_info': '', 'created_at': '2021-11-26T22:24:14.864595Z', 'samples_count': 32}\n",
            "<Response [200]>\n",
            "Initializing dataset...\n",
            "Preloading all samples. This may take a while...\n"
          ]
        },
        {
          "output_type": "stream",
          "name": "stderr",
          "text": [
            "100%|██████████| 32/32 [00:04<00:00,  6.49it/s]\n"
          ]
        },
        {
          "output_type": "stream",
          "name": "stdout",
          "text": [
            "Initialized dataset with 32 images.\n",
            "Exporting dataset. This may take a while...\n"
          ]
        },
        {
          "output_type": "stream",
          "name": "stderr",
          "text": [
            "100%|██████████| 32/32 [00:01<00:00, 21.50it/s]\n"
          ]
        },
        {
          "output_type": "stream",
          "name": "stdout",
          "text": [
            "Exported to ./export_coco-panoptic_brunswick_IR-2019-11-05-philios-13-35-55_v2.0.json. Images and labels in segments/brunswick_IR-2019-11-05-philios-13-35-55/v2.0\n",
            "Images downloaded to dir = segments/brunswick_IR-2019-11-05-philios-13-35-55/v2.0\n",
            "Directory renamed to = segments/brunswick_IR-2019-11-05-philios-13-35-55/v2.0_coco-panoptic\n",
            "Dataset downloaded successfully.\n",
            "dataset:IR-2020-10-22-18-33-26-2,version:v2.0\n",
            "{'uuid': 'c2b65059-e189-4b35-bfd6-fd580223aa8e', 'name': 'v2.0', 'description': 'Final release for December', 'release_type': 'JSON', 'attributes': {'url': 'https://segmentsai-prod.s3.eu-west-2.amazonaws.com/releases/c2b65059-e189-4b35-bfd6-fd580223aa8e.json'}, 'status': 'SUCCEEDED', 'status_info': '', 'created_at': '2021-11-26T22:24:46.500950Z', 'samples_count': 75}\n",
            "<Response [200]>\n",
            "Initializing dataset...\n",
            "Preloading all samples. This may take a while...\n"
          ]
        },
        {
          "output_type": "stream",
          "name": "stderr",
          "text": [
            "100%|██████████| 74/74 [00:08<00:00,  8.90it/s]\n"
          ]
        },
        {
          "output_type": "stream",
          "name": "stdout",
          "text": [
            "Initialized dataset with 74 images.\n",
            "Exporting dataset. This may take a while...\n"
          ]
        },
        {
          "output_type": "stream",
          "name": "stderr",
          "text": [
            "100%|██████████| 74/74 [00:04<00:00, 16.19it/s]\n"
          ]
        },
        {
          "output_type": "stream",
          "name": "stdout",
          "text": [
            "Exported to ./export_coco-panoptic_brunswick_IR-2020-10-22-18-33-26-2_v2.0.json. Images and labels in segments/brunswick_IR-2020-10-22-18-33-26-2/v2.0\n",
            "Images downloaded to dir = segments/brunswick_IR-2020-10-22-18-33-26-2/v2.0\n",
            "Directory renamed to = segments/brunswick_IR-2020-10-22-18-33-26-2/v2.0_coco-panoptic\n",
            "Dataset downloaded successfully.\n",
            "dataset:IR-2019-10-22-11-21-56,version:v2.0\n",
            "{'uuid': '6518053a-f49e-4d3b-be04-7e23b82b4eff', 'name': 'v2.0', 'description': 'Final release for December', 'release_type': 'JSON', 'attributes': {'url': 'https://segmentsai-prod.s3.eu-west-2.amazonaws.com/releases/6518053a-f49e-4d3b-be04-7e23b82b4eff.json'}, 'status': 'SUCCEEDED', 'status_info': '', 'created_at': '2021-11-28T00:53:36.626746Z', 'samples_count': 40}\n",
            "<Response [200]>\n",
            "Initializing dataset...\n",
            "Preloading all samples. This may take a while...\n"
          ]
        },
        {
          "output_type": "stream",
          "name": "stderr",
          "text": [
            "100%|██████████| 40/40 [00:06<00:00,  6.20it/s]\n"
          ]
        },
        {
          "output_type": "stream",
          "name": "stdout",
          "text": [
            "Initialized dataset with 40 images.\n",
            "Exporting dataset. This may take a while...\n"
          ]
        },
        {
          "output_type": "stream",
          "name": "stderr",
          "text": [
            "100%|██████████| 40/40 [00:02<00:00, 16.68it/s]\n"
          ]
        },
        {
          "output_type": "stream",
          "name": "stdout",
          "text": [
            "Exported to ./export_coco-panoptic_brunswick_IR-2019-10-22-11-21-56_v2.0.json. Images and labels in segments/brunswick_IR-2019-10-22-11-21-56/v2.0\n",
            "Images downloaded to dir = segments/brunswick_IR-2019-10-22-11-21-56/v2.0\n",
            "Directory renamed to = segments/brunswick_IR-2019-10-22-11-21-56/v2.0_coco-panoptic\n",
            "Dataset downloaded successfully.\n",
            "dataset:IR-2019-10-25-14-21-23,version:v2.0\n",
            "{'uuid': '7f30455b-219b-4265-bc1c-fcf32332615a', 'name': 'v2.0', 'description': 'Final release for December', 'release_type': 'JSON', 'attributes': {'url': 'https://segmentsai-prod.s3.eu-west-2.amazonaws.com/releases/7f30455b-219b-4265-bc1c-fcf32332615a.json'}, 'status': 'SUCCEEDED', 'status_info': '', 'created_at': '2021-11-28T00:53:15.522041Z', 'samples_count': 20}\n",
            "<Response [200]>\n",
            "Initializing dataset...\n",
            "Preloading all samples. This may take a while...\n"
          ]
        },
        {
          "output_type": "stream",
          "name": "stderr",
          "text": [
            "100%|██████████| 20/20 [00:04<00:00,  4.99it/s]\n"
          ]
        },
        {
          "output_type": "stream",
          "name": "stdout",
          "text": [
            "Initialized dataset with 20 images.\n",
            "Exporting dataset. This may take a while...\n"
          ]
        },
        {
          "output_type": "stream",
          "name": "stderr",
          "text": [
            "100%|██████████| 20/20 [00:00<00:00, 20.30it/s]\n"
          ]
        },
        {
          "output_type": "stream",
          "name": "stdout",
          "text": [
            "Exported to ./export_coco-panoptic_brunswick_IR-2019-10-25-14-21-23_v2.0.json. Images and labels in segments/brunswick_IR-2019-10-25-14-21-23/v2.0\n",
            "Images downloaded to dir = segments/brunswick_IR-2019-10-25-14-21-23/v2.0\n",
            "Directory renamed to = segments/brunswick_IR-2019-10-25-14-21-23/v2.0_coco-panoptic\n",
            "Dataset downloaded successfully.\n",
            "dataset:IR-2019-11-04-14-32-22,version:v2.0\n",
            "{'uuid': 'da9bbb4f-5ca7-4482-b374-9420ddebd0cc', 'name': 'v2.0', 'description': 'Final release for December', 'release_type': 'JSON', 'attributes': {'url': 'https://segmentsai-prod.s3.eu-west-2.amazonaws.com/releases/da9bbb4f-5ca7-4482-b374-9420ddebd0cc.json'}, 'status': 'SUCCEEDED', 'status_info': '', 'created_at': '2021-11-28T01:00:53.454175Z', 'samples_count': 57}\n",
            "<Response [200]>\n",
            "Initializing dataset...\n",
            "Preloading all samples. This may take a while...\n"
          ]
        },
        {
          "output_type": "stream",
          "name": "stderr",
          "text": [
            "100%|██████████| 57/57 [00:06<00:00,  8.97it/s]\n"
          ]
        },
        {
          "output_type": "stream",
          "name": "stdout",
          "text": [
            "Initialized dataset with 57 images.\n",
            "Exporting dataset. This may take a while...\n"
          ]
        },
        {
          "output_type": "stream",
          "name": "stderr",
          "text": [
            "100%|██████████| 57/57 [00:02<00:00, 20.30it/s]\n"
          ]
        },
        {
          "output_type": "stream",
          "name": "stdout",
          "text": [
            "Exported to ./export_coco-panoptic_brunswick_IR-2019-11-04-14-32-22_v2.0.json. Images and labels in segments/brunswick_IR-2019-11-04-14-32-22/v2.0\n",
            "Images downloaded to dir = segments/brunswick_IR-2019-11-04-14-32-22/v2.0\n",
            "Directory renamed to = segments/brunswick_IR-2019-11-04-14-32-22/v2.0_coco-panoptic\n",
            "Dataset downloaded successfully.\n",
            "dataset:IR-2019-10-22-13-34-07,version:v2.0\n",
            "{'uuid': '8f06a2be-a5c5-49c2-b56e-e0fe06eac3a2', 'name': 'v2.0', 'description': 'Final release for December', 'release_type': 'JSON', 'attributes': {'url': 'https://segmentsai-prod.s3.eu-west-2.amazonaws.com/releases/8f06a2be-a5c5-49c2-b56e-e0fe06eac3a2.json'}, 'status': 'SUCCEEDED', 'status_info': '', 'created_at': '2021-12-02T02:07:28.242644Z', 'samples_count': 32}\n",
            "<Response [200]>\n",
            "Initializing dataset...\n",
            "Preloading all samples. This may take a while...\n"
          ]
        },
        {
          "output_type": "stream",
          "name": "stderr",
          "text": [
            "100%|██████████| 32/32 [00:05<00:00,  6.05it/s]\n"
          ]
        },
        {
          "output_type": "stream",
          "name": "stdout",
          "text": [
            "Initialized dataset with 32 images.\n",
            "Exporting dataset. This may take a while...\n"
          ]
        },
        {
          "output_type": "stream",
          "name": "stderr",
          "text": [
            "100%|██████████| 32/32 [00:01<00:00, 17.90it/s]\n"
          ]
        },
        {
          "output_type": "stream",
          "name": "stdout",
          "text": [
            "Exported to ./export_coco-panoptic_brunswick_IR-2019-10-22-13-34-07_v2.0.json. Images and labels in segments/brunswick_IR-2019-10-22-13-34-07/v2.0\n",
            "Images downloaded to dir = segments/brunswick_IR-2019-10-22-13-34-07/v2.0\n",
            "Directory renamed to = segments/brunswick_IR-2019-10-22-13-34-07/v2.0_coco-panoptic\n",
            "Dataset downloaded successfully.\n",
            "dataset:IR-2020-10-22-16-46-33,version:v2.0\n",
            "{'uuid': 'e10f831b-ffac-4417-9fcd-8eb501a18322', 'name': 'v2.0', 'description': 'Final release for December', 'release_type': 'JSON', 'attributes': {'url': 'https://segmentsai-prod.s3.eu-west-2.amazonaws.com/releases/e10f831b-ffac-4417-9fcd-8eb501a18322.json'}, 'status': 'SUCCEEDED', 'status_info': '', 'created_at': '2021-11-28T01:31:33.359288Z', 'samples_count': 25}\n",
            "<Response [200]>\n",
            "Initializing dataset...\n",
            "Preloading all samples. This may take a while...\n"
          ]
        },
        {
          "output_type": "stream",
          "name": "stderr",
          "text": [
            "100%|██████████| 25/25 [00:02<00:00,  9.88it/s]\n"
          ]
        },
        {
          "output_type": "stream",
          "name": "stdout",
          "text": [
            "Initialized dataset with 25 images.\n",
            "Exporting dataset. This may take a while...\n"
          ]
        },
        {
          "output_type": "stream",
          "name": "stderr",
          "text": [
            "100%|██████████| 25/25 [00:01<00:00, 15.20it/s]\n"
          ]
        },
        {
          "output_type": "stream",
          "name": "stdout",
          "text": [
            "Exported to ./export_coco-panoptic_brunswick_IR-2020-10-22-16-46-33_v2.0.json. Images and labels in segments/brunswick_IR-2020-10-22-16-46-33/v2.0\n",
            "Images downloaded to dir = segments/brunswick_IR-2020-10-22-16-46-33/v2.0\n",
            "Directory renamed to = segments/brunswick_IR-2020-10-22-16-46-33/v2.0_coco-panoptic\n",
            "Dataset downloaded successfully.\n",
            "dataset:IR-2019-12-11-10-58-24,version:v2.0\n",
            "{'uuid': 'e2124ddc-3b39-4ae6-aae5-e453de3a685c', 'name': 'v2.0', 'description': 'Final release for December', 'release_type': 'JSON', 'attributes': {'url': 'https://segmentsai-prod.s3.eu-west-2.amazonaws.com/releases/e2124ddc-3b39-4ae6-aae5-e453de3a685c.json'}, 'status': 'SUCCEEDED', 'status_info': '', 'created_at': '2021-11-26T22:29:51.853363Z', 'samples_count': 23}\n",
            "<Response [200]>\n",
            "Initializing dataset...\n",
            "Preloading all samples. This may take a while...\n"
          ]
        },
        {
          "output_type": "stream",
          "name": "stderr",
          "text": [
            "100%|██████████| 23/23 [00:02<00:00,  8.87it/s]\n"
          ]
        },
        {
          "output_type": "stream",
          "name": "stdout",
          "text": [
            "Initialized dataset with 23 images.\n",
            "Exporting dataset. This may take a while...\n"
          ]
        },
        {
          "output_type": "stream",
          "name": "stderr",
          "text": [
            "100%|██████████| 23/23 [00:01<00:00, 19.60it/s]\n"
          ]
        },
        {
          "output_type": "stream",
          "name": "stdout",
          "text": [
            "Exported to ./export_coco-panoptic_brunswick_IR-2019-12-11-10-58-24_v2.0.json. Images and labels in segments/brunswick_IR-2019-12-11-10-58-24/v2.0\n",
            "Images downloaded to dir = segments/brunswick_IR-2019-12-11-10-58-24/v2.0\n",
            "Directory renamed to = segments/brunswick_IR-2019-12-11-10-58-24/v2.0_coco-panoptic\n",
            "Dataset downloaded successfully.\n",
            "dataset:IR-2020-10-20-16-02-52,version:v2.0\n",
            "{'uuid': '0db4156f-f418-49b1-b300-f4f70bb3b8f1', 'name': 'v2.0', 'description': 'Final release for December', 'release_type': 'JSON', 'attributes': {'url': 'https://segmentsai-prod.s3.eu-west-2.amazonaws.com/releases/0db4156f-f418-49b1-b300-f4f70bb3b8f1.json'}, 'status': 'SUCCEEDED', 'status_info': '', 'created_at': '2021-11-28T01:34:58.956639Z', 'samples_count': 26}\n",
            "<Response [200]>\n",
            "Initializing dataset...\n",
            "Preloading all samples. This may take a while...\n"
          ]
        },
        {
          "output_type": "stream",
          "name": "stderr",
          "text": [
            "100%|██████████| 26/26 [00:04<00:00,  5.91it/s]\n"
          ]
        },
        {
          "output_type": "stream",
          "name": "stdout",
          "text": [
            "Initialized dataset with 26 images.\n",
            "Exporting dataset. This may take a while...\n"
          ]
        },
        {
          "output_type": "stream",
          "name": "stderr",
          "text": [
            "100%|██████████| 26/26 [00:02<00:00, 12.68it/s]\n"
          ]
        },
        {
          "output_type": "stream",
          "name": "stdout",
          "text": [
            "Exported to ./export_coco-panoptic_brunswick_IR-2020-10-20-16-02-52_v2.0.json. Images and labels in segments/brunswick_IR-2020-10-20-16-02-52/v2.0\n",
            "Images downloaded to dir = segments/brunswick_IR-2020-10-20-16-02-52/v2.0\n",
            "Directory renamed to = segments/brunswick_IR-2020-10-20-16-02-52/v2.0_coco-panoptic\n",
            "Dataset downloaded successfully.\n",
            "dataset:IR-2019-10-15-15-28-30,version:v2.0\n",
            "{'uuid': 'fb4fe62e-756f-4609-a4d6-5e774ecdf819', 'name': 'v2.0', 'description': 'Final release for December', 'release_type': 'JSON', 'attributes': {'url': 'https://segmentsai-prod.s3.eu-west-2.amazonaws.com/releases/fb4fe62e-756f-4609-a4d6-5e774ecdf819.json'}, 'status': 'SUCCEEDED', 'status_info': '', 'created_at': '2021-11-28T02:32:19.444368Z', 'samples_count': 96}\n",
            "<Response [200]>\n",
            "Initializing dataset...\n",
            "Preloading all samples. This may take a while...\n"
          ]
        },
        {
          "output_type": "stream",
          "name": "stderr",
          "text": [
            "100%|██████████| 96/96 [00:10<00:00,  9.35it/s]\n"
          ]
        },
        {
          "output_type": "stream",
          "name": "stdout",
          "text": [
            "Initialized dataset with 96 images.\n",
            "Exporting dataset. This may take a while...\n"
          ]
        },
        {
          "output_type": "stream",
          "name": "stderr",
          "text": [
            "100%|██████████| 96/96 [00:10<00:00,  9.44it/s]\n"
          ]
        },
        {
          "output_type": "stream",
          "name": "stdout",
          "text": [
            "Exported to ./export_coco-panoptic_brunswick_IR-2019-10-15-15-28-30_v2.0.json. Images and labels in segments/brunswick_IR-2019-10-15-15-28-30/v2.0\n",
            "Images downloaded to dir = segments/brunswick_IR-2019-10-15-15-28-30/v2.0\n",
            "Directory renamed to = segments/brunswick_IR-2019-10-15-15-28-30/v2.0_coco-panoptic\n",
            "Dataset downloaded successfully.\n",
            "dataset:IR-2019-10-15-15-26-47,version:v2.0\n",
            "{'uuid': 'd98b8203-bc8e-49e1-bc52-89e3eacb64e7', 'name': 'v2.0', 'description': 'Final release for December', 'release_type': 'JSON', 'attributes': {'url': 'https://segmentsai-prod.s3.eu-west-2.amazonaws.com/releases/d98b8203-bc8e-49e1-bc52-89e3eacb64e7.json'}, 'status': 'SUCCEEDED', 'status_info': '', 'created_at': '2022-01-01T21:11:29.366539Z', 'samples_count': 71}\n",
            "<Response [200]>\n",
            "Initializing dataset...\n",
            "Preloading all samples. This may take a while...\n"
          ]
        },
        {
          "output_type": "stream",
          "name": "stderr",
          "text": [
            "100%|██████████| 71/71 [00:08<00:00,  8.07it/s]\n"
          ]
        },
        {
          "output_type": "stream",
          "name": "stdout",
          "text": [
            "Initialized dataset with 71 images.\n",
            "Exporting dataset. This may take a while...\n"
          ]
        },
        {
          "output_type": "stream",
          "name": "stderr",
          "text": [
            "100%|██████████| 71/71 [00:11<00:00,  6.04it/s]\n"
          ]
        },
        {
          "output_type": "stream",
          "name": "stdout",
          "text": [
            "Exported to ./export_coco-panoptic_brunswick_IR-2019-10-15-15-26-47_v2.0.json. Images and labels in segments/brunswick_IR-2019-10-15-15-26-47/v2.0\n",
            "Images downloaded to dir = segments/brunswick_IR-2019-10-15-15-26-47/v2.0\n",
            "Directory renamed to = segments/brunswick_IR-2019-10-15-15-26-47/v2.0_coco-panoptic\n",
            "Dataset downloaded successfully.\n",
            "dataset:IR-2019-10-15-15-22-06,version:v2.0\n",
            "{'uuid': 'f42c9325-7ea1-4468-b073-11830593392a', 'name': 'v2.0', 'description': 'Final release for December', 'release_type': 'JSON', 'attributes': {'url': 'https://segmentsai-prod.s3.eu-west-2.amazonaws.com/releases/f42c9325-7ea1-4468-b073-11830593392a.json'}, 'status': 'SUCCEEDED', 'status_info': '', 'created_at': '2021-11-26T22:31:51.953308Z', 'samples_count': 99}\n",
            "<Response [200]>\n",
            "Initializing dataset...\n",
            "Preloading all samples. This may take a while...\n"
          ]
        },
        {
          "output_type": "stream",
          "name": "stderr",
          "text": [
            "100%|██████████| 26/26 [00:04<00:00,  5.70it/s]\n"
          ]
        },
        {
          "output_type": "stream",
          "name": "stdout",
          "text": [
            "Initialized dataset with 26 images.\n",
            "Exporting dataset. This may take a while...\n"
          ]
        },
        {
          "output_type": "stream",
          "name": "stderr",
          "text": [
            "100%|██████████| 26/26 [00:02<00:00, 10.48it/s]\n"
          ]
        },
        {
          "output_type": "stream",
          "name": "stdout",
          "text": [
            "Exported to ./export_coco-panoptic_brunswick_IR-2019-10-15-15-22-06_v2.0.json. Images and labels in segments/brunswick_IR-2019-10-15-15-22-06/v2.0\n",
            "Images downloaded to dir = segments/brunswick_IR-2019-10-15-15-22-06/v2.0\n",
            "Directory renamed to = segments/brunswick_IR-2019-10-15-15-22-06/v2.0_coco-panoptic\n",
            "Dataset downloaded successfully.\n",
            "dataset:IR-2020-10-22-18-03-25,version:v2.0\n",
            "{'uuid': '5d312c66-1a13-43de-8c6d-5c9d437ea2f2', 'name': 'v2.0', 'description': 'Final release for December', 'release_type': 'JSON', 'attributes': {'url': 'https://segmentsai-prod.s3.eu-west-2.amazonaws.com/releases/5d312c66-1a13-43de-8c6d-5c9d437ea2f2.json'}, 'status': 'SUCCEEDED', 'status_info': '', 'created_at': '2021-11-26T22:32:52.783411Z', 'samples_count': 99}\n",
            "<Response [200]>\n",
            "Initializing dataset...\n",
            "Preloading all samples. This may take a while...\n"
          ]
        },
        {
          "output_type": "stream",
          "name": "stderr",
          "text": [
            "100%|██████████| 99/99 [00:10<00:00,  9.73it/s]\n"
          ]
        },
        {
          "output_type": "stream",
          "name": "stdout",
          "text": [
            "Initialized dataset with 99 images.\n",
            "Exporting dataset. This may take a while...\n"
          ]
        },
        {
          "output_type": "stream",
          "name": "stderr",
          "text": [
            "100%|██████████| 99/99 [00:05<00:00, 19.77it/s]\n"
          ]
        },
        {
          "output_type": "stream",
          "name": "stdout",
          "text": [
            "Exported to ./export_coco-panoptic_brunswick_IR-2020-10-22-18-03-25_v2.0.json. Images and labels in segments/brunswick_IR-2020-10-22-18-03-25/v2.0\n",
            "Images downloaded to dir = segments/brunswick_IR-2020-10-22-18-03-25/v2.0\n",
            "Directory renamed to = segments/brunswick_IR-2020-10-22-18-03-25/v2.0_coco-panoptic\n",
            "Dataset downloaded successfully.\n",
            "dataset:IR-2019-10-22-13-02-56,version:v2.0\n",
            "{'uuid': '6dde2ad9-27f8-40d0-8869-0517652177f2', 'name': 'v2.0', 'description': 'Final release for December', 'release_type': 'JSON', 'attributes': {'url': 'https://segmentsai-prod.s3.eu-west-2.amazonaws.com/releases/6dde2ad9-27f8-40d0-8869-0517652177f2.json'}, 'status': 'SUCCEEDED', 'status_info': '', 'created_at': '2021-11-26T22:33:18.819691Z', 'samples_count': 73}\n",
            "<Response [200]>\n",
            "Initializing dataset...\n",
            "Preloading all samples. This may take a while...\n"
          ]
        },
        {
          "output_type": "stream",
          "name": "stderr",
          "text": [
            "100%|██████████| 73/73 [00:07<00:00,  9.82it/s]\n"
          ]
        },
        {
          "output_type": "stream",
          "name": "stdout",
          "text": [
            "Initialized dataset with 73 images.\n",
            "Exporting dataset. This may take a while...\n"
          ]
        },
        {
          "output_type": "stream",
          "name": "stderr",
          "text": [
            "100%|██████████| 73/73 [00:03<00:00, 20.76it/s]\n"
          ]
        },
        {
          "output_type": "stream",
          "name": "stdout",
          "text": [
            "Exported to ./export_coco-panoptic_brunswick_IR-2019-10-22-13-02-56_v2.0.json. Images and labels in segments/brunswick_IR-2019-10-22-13-02-56/v2.0\n",
            "Images downloaded to dir = segments/brunswick_IR-2019-10-22-13-02-56/v2.0\n",
            "Directory renamed to = segments/brunswick_IR-2019-10-22-13-02-56/v2.0_coco-panoptic\n",
            "Dataset downloaded successfully.\n",
            "dataset:IR-2020-11-06,version:v2.0\n",
            "{'uuid': 'b9d0b266-f527-499a-b197-c29f4b7fd35c', 'name': 'v2.0', 'description': 'Final release for December', 'release_type': 'JSON', 'attributes': {'url': 'https://segmentsai-prod.s3.eu-west-2.amazonaws.com/releases/b9d0b266-f527-499a-b197-c29f4b7fd35c.json'}, 'status': 'SUCCEEDED', 'status_info': '', 'created_at': '2021-11-28T02:55:10.242307Z', 'samples_count': 56}\n",
            "<Response [200]>\n",
            "Initializing dataset...\n",
            "Preloading all samples. This may take a while...\n"
          ]
        },
        {
          "output_type": "stream",
          "name": "stderr",
          "text": [
            "100%|██████████| 56/56 [00:06<00:00,  8.39it/s]\n"
          ]
        },
        {
          "output_type": "stream",
          "name": "stdout",
          "text": [
            "Initialized dataset with 56 images.\n",
            "Exporting dataset. This may take a while...\n"
          ]
        },
        {
          "output_type": "stream",
          "name": "stderr",
          "text": [
            "100%|██████████| 56/56 [00:03<00:00, 18.23it/s]\n"
          ]
        },
        {
          "output_type": "stream",
          "name": "stdout",
          "text": [
            "Exported to ./export_coco-panoptic_brunswick_IR-2020-11-06_v2.0.json. Images and labels in segments/brunswick_IR-2020-11-06/v2.0\n",
            "Images downloaded to dir = segments/brunswick_IR-2020-11-06/v2.0\n",
            "Directory renamed to = segments/brunswick_IR-2020-11-06/v2.0_coco-panoptic\n",
            "Dataset downloaded successfully.\n",
            "dataset:IR-2019-10-22-13-19-39,version:v2.0\n",
            "{'uuid': '33514f00-d37d-459c-91d8-d1fe2d60dd95', 'name': 'v2.0', 'description': 'Final release for December', 'release_type': 'JSON', 'attributes': {'url': 'https://segmentsai-prod.s3.eu-west-2.amazonaws.com/releases/33514f00-d37d-459c-91d8-d1fe2d60dd95.json'}, 'status': 'SUCCEEDED', 'status_info': '', 'created_at': '2021-11-26T22:34:18.220268Z', 'samples_count': 22}\n",
            "<Response [200]>\n",
            "Initializing dataset...\n",
            "Preloading all samples. This may take a while...\n"
          ]
        },
        {
          "output_type": "stream",
          "name": "stderr",
          "text": [
            "100%|██████████| 22/22 [00:04<00:00,  5.18it/s]\n"
          ]
        },
        {
          "output_type": "stream",
          "name": "stdout",
          "text": [
            "Initialized dataset with 22 images.\n",
            "Exporting dataset. This may take a while...\n"
          ]
        },
        {
          "output_type": "stream",
          "name": "stderr",
          "text": [
            "100%|██████████| 22/22 [00:01<00:00, 18.91it/s]\n"
          ]
        },
        {
          "output_type": "stream",
          "name": "stdout",
          "text": [
            "Exported to ./export_coco-panoptic_brunswick_IR-2019-10-22-13-19-39_v2.0.json. Images and labels in segments/brunswick_IR-2019-10-22-13-19-39/v2.0\n",
            "Images downloaded to dir = segments/brunswick_IR-2019-10-22-13-19-39/v2.0\n",
            "Directory renamed to = segments/brunswick_IR-2019-10-22-13-19-39/v2.0_coco-panoptic\n",
            "Dataset downloaded successfully.\n",
            "dataset:IR-2019-10-22-12-24-37,version:v2.0\n",
            "{'uuid': '1edd56df-7f8a-46a6-8970-e45c1c9bcd4b', 'name': 'v2.0', 'description': 'Final release for December', 'release_type': 'JSON', 'attributes': {'url': 'https://segmentsai-prod.s3.eu-west-2.amazonaws.com/releases/1edd56df-7f8a-46a6-8970-e45c1c9bcd4b.json'}, 'status': 'SUCCEEDED', 'status_info': '', 'created_at': '2021-11-26T22:34:57.562450Z', 'samples_count': 31}\n",
            "<Response [200]>\n",
            "Initializing dataset...\n",
            "Preloading all samples. This may take a while...\n"
          ]
        },
        {
          "output_type": "stream",
          "name": "stderr",
          "text": [
            "100%|██████████| 31/31 [00:05<00:00,  5.77it/s]\n"
          ]
        },
        {
          "output_type": "stream",
          "name": "stdout",
          "text": [
            "Initialized dataset with 31 images.\n",
            "Exporting dataset. This may take a while...\n"
          ]
        },
        {
          "output_type": "stream",
          "name": "stderr",
          "text": [
            "100%|██████████| 31/31 [00:01<00:00, 19.77it/s]\n"
          ]
        },
        {
          "output_type": "stream",
          "name": "stdout",
          "text": [
            "Exported to ./export_coco-panoptic_brunswick_IR-2019-10-22-12-24-37_v2.0.json. Images and labels in segments/brunswick_IR-2019-10-22-12-24-37/v2.0\n",
            "Images downloaded to dir = segments/brunswick_IR-2019-10-22-12-24-37/v2.0\n",
            "Directory renamed to = segments/brunswick_IR-2019-10-22-12-24-37/v2.0_coco-panoptic\n",
            "Dataset downloaded successfully.\n",
            "dataset:IR-2019-10-22-12-49-38,version:v2.0\n",
            "{'uuid': 'e79b7643-c73b-4d00-a513-d1f05f9b51a8', 'name': 'v2.0', 'description': 'Final release for December', 'release_type': 'JSON', 'attributes': {'url': 'https://segmentsai-prod.s3.eu-west-2.amazonaws.com/releases/e79b7643-c73b-4d00-a513-d1f05f9b51a8.json'}, 'status': 'SUCCEEDED', 'status_info': '', 'created_at': '2021-11-26T22:35:26.484948Z', 'samples_count': 21}\n",
            "<Response [200]>\n",
            "Initializing dataset...\n",
            "Preloading all samples. This may take a while...\n"
          ]
        },
        {
          "output_type": "stream",
          "name": "stderr",
          "text": [
            "100%|██████████| 21/21 [00:02<00:00,  8.64it/s]\n"
          ]
        },
        {
          "output_type": "stream",
          "name": "stdout",
          "text": [
            "Initialized dataset with 21 images.\n",
            "Exporting dataset. This may take a while...\n"
          ]
        },
        {
          "output_type": "stream",
          "name": "stderr",
          "text": [
            "100%|██████████| 21/21 [00:00<00:00, 22.31it/s]\n"
          ]
        },
        {
          "output_type": "stream",
          "name": "stdout",
          "text": [
            "Exported to ./export_coco-panoptic_brunswick_IR-2019-10-22-12-49-38_v2.0.json. Images and labels in segments/brunswick_IR-2019-10-22-12-49-38/v2.0\n",
            "Images downloaded to dir = segments/brunswick_IR-2019-10-22-12-49-38/v2.0\n",
            "Directory renamed to = segments/brunswick_IR-2019-10-22-12-49-38/v2.0_coco-panoptic\n",
            "Dataset downloaded successfully.\n",
            "dataset:IR-2019-11-04-14-49-42,version:v2.0\n",
            "{'uuid': '329fe48d-804d-4a87-8e61-c4b58a7423ce', 'name': 'v2.0', 'description': 'Final release for December', 'release_type': 'JSON', 'attributes': {'url': 'https://segmentsai-prod.s3.eu-west-2.amazonaws.com/releases/329fe48d-804d-4a87-8e61-c4b58a7423ce.json'}, 'status': 'SUCCEEDED', 'status_info': '', 'created_at': '2021-11-26T22:46:05.109499Z', 'samples_count': 29}\n",
            "<Response [200]>\n",
            "Initializing dataset...\n",
            "Preloading all samples. This may take a while...\n"
          ]
        },
        {
          "output_type": "stream",
          "name": "stderr",
          "text": [
            "100%|██████████| 29/29 [00:03<00:00,  9.48it/s]\n"
          ]
        },
        {
          "output_type": "stream",
          "name": "stdout",
          "text": [
            "Initialized dataset with 29 images.\n",
            "Exporting dataset. This may take a while...\n"
          ]
        },
        {
          "output_type": "stream",
          "name": "stderr",
          "text": [
            "100%|██████████| 29/29 [00:01<00:00, 21.51it/s]\n"
          ]
        },
        {
          "output_type": "stream",
          "name": "stdout",
          "text": [
            "Exported to ./export_coco-panoptic_brunswick_IR-2019-11-04-14-49-42_v2.0.json. Images and labels in segments/brunswick_IR-2019-11-04-14-49-42/v2.0\n",
            "Images downloaded to dir = segments/brunswick_IR-2019-11-04-14-49-42/v2.0\n",
            "Directory renamed to = segments/brunswick_IR-2019-11-04-14-49-42/v2.0_coco-panoptic\n",
            "Dataset downloaded successfully.\n",
            "dataset:IR-2019-12-11-11-07-30,version:v2.0\n",
            "{'uuid': 'c27b8b67-30df-44de-9dac-51e6f7c87acb', 'name': 'v2.0', 'description': 'Final release for December', 'release_type': 'JSON', 'attributes': {'url': 'https://segmentsai-prod.s3.eu-west-2.amazonaws.com/releases/c27b8b67-30df-44de-9dac-51e6f7c87acb.json'}, 'status': 'SUCCEEDED', 'status_info': '', 'created_at': '2021-11-26T22:46:41.609673Z', 'samples_count': 65}\n",
            "<Response [200]>\n",
            "Initializing dataset...\n",
            "Preloading all samples. This may take a while...\n"
          ]
        },
        {
          "output_type": "stream",
          "name": "stderr",
          "text": [
            "100%|██████████| 65/65 [00:07<00:00,  8.39it/s]\n"
          ]
        },
        {
          "output_type": "stream",
          "name": "stdout",
          "text": [
            "Initialized dataset with 65 images.\n",
            "Exporting dataset. This may take a while...\n"
          ]
        },
        {
          "output_type": "stream",
          "name": "stderr",
          "text": [
            "100%|██████████| 65/65 [00:02<00:00, 22.70it/s]\n"
          ]
        },
        {
          "output_type": "stream",
          "name": "stdout",
          "text": [
            "Exported to ./export_coco-panoptic_brunswick_IR-2019-12-11-11-07-30_v2.0.json. Images and labels in segments/brunswick_IR-2019-12-11-11-07-30/v2.0\n",
            "Images downloaded to dir = segments/brunswick_IR-2019-12-11-11-07-30/v2.0\n",
            "Directory renamed to = segments/brunswick_IR-2019-12-11-11-07-30/v2.0_coco-panoptic\n",
            "Dataset downloaded successfully.\n",
            "dataset:IR-2019-11-04-14-09-20,version:v2.0\n",
            "{'uuid': '5a0ca370-e88e-4b3d-bfb2-9b7b7f761e42', 'name': 'v2.0', 'description': 'Final release for December', 'release_type': 'JSON', 'attributes': {'url': 'https://segmentsai-prod.s3.eu-west-2.amazonaws.com/releases/5a0ca370-e88e-4b3d-bfb2-9b7b7f761e42.json'}, 'status': 'SUCCEEDED', 'status_info': '', 'created_at': '2021-11-26T22:47:10.504096Z', 'samples_count': 41}\n",
            "<Response [200]>\n",
            "Initializing dataset...\n",
            "Preloading all samples. This may take a while...\n"
          ]
        },
        {
          "output_type": "stream",
          "name": "stderr",
          "text": [
            "100%|██████████| 41/41 [00:05<00:00,  7.17it/s]\n"
          ]
        },
        {
          "output_type": "stream",
          "name": "stdout",
          "text": [
            "Initialized dataset with 41 images.\n",
            "Exporting dataset. This may take a while...\n"
          ]
        },
        {
          "output_type": "stream",
          "name": "stderr",
          "text": [
            "100%|██████████| 41/41 [00:01<00:00, 20.68it/s]\n"
          ]
        },
        {
          "output_type": "stream",
          "name": "stdout",
          "text": [
            "Exported to ./export_coco-panoptic_brunswick_IR-2019-11-04-14-09-20_v2.0.json. Images and labels in segments/brunswick_IR-2019-11-04-14-09-20/v2.0\n",
            "Images downloaded to dir = segments/brunswick_IR-2019-11-04-14-09-20/v2.0\n",
            "Directory renamed to = segments/brunswick_IR-2019-11-04-14-09-20/v2.0_coco-panoptic\n",
            "Dataset downloaded successfully.\n",
            "dataset:IR-2019-12-11-09-58-25,version:v2.0\n",
            "{'uuid': '33617f33-535c-459b-aaeb-860b996c6d3b', 'name': 'v2.0', 'description': 'Final release for December', 'release_type': 'JSON', 'attributes': {'url': 'https://segmentsai-prod.s3.eu-west-2.amazonaws.com/releases/33617f33-535c-459b-aaeb-860b996c6d3b.json'}, 'status': 'SUCCEEDED', 'status_info': '', 'created_at': '2021-11-26T22:47:39.726250Z', 'samples_count': 48}\n",
            "<Response [200]>\n",
            "Initializing dataset...\n",
            "Preloading all samples. This may take a while...\n"
          ]
        },
        {
          "output_type": "stream",
          "name": "stderr",
          "text": [
            "100%|██████████| 48/48 [00:05<00:00,  8.23it/s]\n"
          ]
        },
        {
          "output_type": "stream",
          "name": "stdout",
          "text": [
            "Initialized dataset with 48 images.\n",
            "Exporting dataset. This may take a while...\n"
          ]
        },
        {
          "output_type": "stream",
          "name": "stderr",
          "text": [
            "100%|██████████| 48/48 [00:02<00:00, 22.63it/s]\n"
          ]
        },
        {
          "output_type": "stream",
          "name": "stdout",
          "text": [
            "Exported to ./export_coco-panoptic_brunswick_IR-2019-12-11-09-58-25_v2.0.json. Images and labels in segments/brunswick_IR-2019-12-11-09-58-25/v2.0\n",
            "Images downloaded to dir = segments/brunswick_IR-2019-12-11-09-58-25/v2.0\n",
            "Directory renamed to = segments/brunswick_IR-2019-12-11-09-58-25/v2.0_coco-panoptic\n",
            "Dataset downloaded successfully.\n",
            "dataset:IR-2020-10-20-15-39-42-0,version:v2.0\n",
            "{'uuid': '072d7388-033e-4701-ab9c-1dc9543718b6', 'name': 'v2.0', 'description': 'Final release for December', 'release_type': 'JSON', 'attributes': {'url': 'https://segmentsai-prod.s3.eu-west-2.amazonaws.com/releases/072d7388-033e-4701-ab9c-1dc9543718b6.json'}, 'status': 'SUCCEEDED', 'status_info': '', 'created_at': '2021-11-27T23:52:08.323439Z', 'samples_count': 40}\n",
            "<Response [200]>\n",
            "Initializing dataset...\n",
            "Preloading all samples. This may take a while...\n"
          ]
        },
        {
          "output_type": "stream",
          "name": "stderr",
          "text": [
            "100%|██████████| 40/40 [00:05<00:00,  7.72it/s]\n"
          ]
        },
        {
          "output_type": "stream",
          "name": "stdout",
          "text": [
            "Initialized dataset with 40 images.\n",
            "Exporting dataset. This may take a while...\n"
          ]
        },
        {
          "output_type": "stream",
          "name": "stderr",
          "text": [
            "100%|██████████| 40/40 [00:02<00:00, 17.37it/s]\n"
          ]
        },
        {
          "output_type": "stream",
          "name": "stdout",
          "text": [
            "Exported to ./export_coco-panoptic_brunswick_IR-2020-10-20-15-39-42-0_v2.0.json. Images and labels in segments/brunswick_IR-2020-10-20-15-39-42-0/v2.0\n",
            "Images downloaded to dir = segments/brunswick_IR-2020-10-20-15-39-42-0/v2.0\n",
            "Directory renamed to = segments/brunswick_IR-2020-10-20-15-39-42-0/v2.0_coco-panoptic\n",
            "Dataset downloaded successfully.\n",
            "dataset:IR-2020-10-22-17-16-34-1,version:v2.0\n",
            "{'uuid': '7ec0b028-4f0f-433b-ae2f-b147645a9b64', 'name': 'v2.0', 'description': 'Final release for December', 'release_type': 'JSON', 'attributes': {'url': 'https://segmentsai-prod.s3.eu-west-2.amazonaws.com/releases/7ec0b028-4f0f-433b-ae2f-b147645a9b64.json'}, 'status': 'SUCCEEDED', 'status_info': '', 'created_at': '2021-11-28T00:12:23.296317Z', 'samples_count': 82}\n",
            "<Response [200]>\n",
            "Initializing dataset...\n",
            "Preloading all samples. This may take a while...\n"
          ]
        },
        {
          "output_type": "stream",
          "name": "stderr",
          "text": [
            "100%|██████████| 82/82 [00:08<00:00, 10.00it/s]\n"
          ]
        },
        {
          "output_type": "stream",
          "name": "stdout",
          "text": [
            "Initialized dataset with 82 images.\n",
            "Exporting dataset. This may take a while...\n"
          ]
        },
        {
          "output_type": "stream",
          "name": "stderr",
          "text": [
            "100%|██████████| 82/82 [00:05<00:00, 15.30it/s]\n"
          ]
        },
        {
          "output_type": "stream",
          "name": "stdout",
          "text": [
            "Exported to ./export_coco-panoptic_brunswick_IR-2020-10-22-17-16-34-1_v2.0.json. Images and labels in segments/brunswick_IR-2020-10-22-17-16-34-1/v2.0\n",
            "Images downloaded to dir = segments/brunswick_IR-2020-10-22-17-16-34-1/v2.0\n",
            "Directory renamed to = segments/brunswick_IR-2020-10-22-17-16-34-1/v2.0_coco-panoptic\n",
            "Dataset downloaded successfully.\n",
            "dataset:IR-2019-10-15-rex4usv-13-38-24,version:v2.0\n",
            "{'uuid': '7e8a9338-63db-46ef-af3d-ba74d1d022b0', 'name': 'v2.0', 'description': 'Final release for December', 'release_type': 'JSON', 'attributes': {'url': 'https://segmentsai-prod.s3.eu-west-2.amazonaws.com/releases/7e8a9338-63db-46ef-af3d-ba74d1d022b0.json'}, 'status': 'SUCCEEDED', 'status_info': '', 'created_at': '2021-11-28T00:11:50.356733Z', 'samples_count': 49}\n",
            "<Response [200]>\n",
            "Initializing dataset...\n",
            "Preloading all samples. This may take a while...\n"
          ]
        },
        {
          "output_type": "stream",
          "name": "stderr",
          "text": [
            "100%|██████████| 49/49 [00:06<00:00,  7.30it/s]\n"
          ]
        },
        {
          "output_type": "stream",
          "name": "stdout",
          "text": [
            "Initialized dataset with 49 images.\n",
            "Exporting dataset. This may take a while...\n"
          ]
        },
        {
          "output_type": "stream",
          "name": "stderr",
          "text": [
            "100%|██████████| 49/49 [00:02<00:00, 20.15it/s]\n"
          ]
        },
        {
          "output_type": "stream",
          "name": "stdout",
          "text": [
            "Exported to ./export_coco-panoptic_brunswick_IR-2019-10-15-rex4usv-13-38-24_v2.0.json. Images and labels in segments/brunswick_IR-2019-10-15-rex4usv-13-38-24/v2.0\n",
            "Images downloaded to dir = segments/brunswick_IR-2019-10-15-rex4usv-13-38-24/v2.0\n",
            "Directory renamed to = segments/brunswick_IR-2019-10-15-rex4usv-13-38-24/v2.0_coco-panoptic\n",
            "Dataset downloaded successfully.\n",
            "dataset:IR-2019-10-15-rex4usv-15-02-31,version:v2.0\n",
            "{'uuid': 'b1b70857-807e-410a-a4b4-0366727ed062', 'name': 'v2.0', 'description': 'Final release for December', 'release_type': 'JSON', 'attributes': {'url': 'https://segmentsai-prod.s3.eu-west-2.amazonaws.com/releases/b1b70857-807e-410a-a4b4-0366727ed062.json'}, 'status': 'SUCCEEDED', 'status_info': '', 'created_at': '2021-11-28T00:11:17.915177Z', 'samples_count': 121}\n",
            "<Response [200]>\n",
            "Initializing dataset...\n",
            "Preloading all samples. This may take a while...\n"
          ]
        },
        {
          "output_type": "stream",
          "name": "stderr",
          "text": [
            "100%|██████████| 121/121 [00:12<00:00,  9.69it/s]\n"
          ]
        },
        {
          "output_type": "stream",
          "name": "stdout",
          "text": [
            "Initialized dataset with 121 images.\n",
            "Exporting dataset. This may take a while...\n"
          ]
        },
        {
          "output_type": "stream",
          "name": "stderr",
          "text": [
            "100%|██████████| 121/121 [00:07<00:00, 17.03it/s]\n"
          ]
        },
        {
          "output_type": "stream",
          "name": "stdout",
          "text": [
            "Exported to ./export_coco-panoptic_brunswick_IR-2019-10-15-rex4usv-15-02-31_v2.0.json. Images and labels in segments/brunswick_IR-2019-10-15-rex4usv-15-02-31/v2.0\n",
            "Images downloaded to dir = segments/brunswick_IR-2019-10-15-rex4usv-15-02-31/v2.0\n",
            "Directory renamed to = segments/brunswick_IR-2019-10-15-rex4usv-15-02-31/v2.0_coco-panoptic\n",
            "Dataset downloaded successfully.\n",
            "dataset:IR-2021-06-05-21-25-15_0,version:v2.0\n",
            "{'uuid': 'ffd90b2e-9c02-4f63-b82f-7b8c09a8956a', 'name': 'v2.0', 'description': 'Final release for December', 'release_type': 'JSON', 'attributes': {'url': 'https://segmentsai-prod.s3.eu-west-2.amazonaws.com/releases/ffd90b2e-9c02-4f63-b82f-7b8c09a8956a.json'}, 'status': 'SUCCEEDED', 'status_info': '', 'created_at': '2022-01-01T21:07:08.750022Z', 'samples_count': 106}\n",
            "<Response [200]>\n",
            "Initializing dataset...\n",
            "Preloading all samples. This may take a while...\n"
          ]
        },
        {
          "output_type": "stream",
          "name": "stderr",
          "text": [
            "100%|██████████| 106/106 [00:10<00:00,  9.90it/s]\n"
          ]
        },
        {
          "output_type": "stream",
          "name": "stdout",
          "text": [
            "Initialized dataset with 106 images.\n",
            "Exporting dataset. This may take a while...\n"
          ]
        },
        {
          "output_type": "stream",
          "name": "stderr",
          "text": [
            "100%|██████████| 106/106 [00:06<00:00, 16.87it/s]\n"
          ]
        },
        {
          "output_type": "stream",
          "name": "stdout",
          "text": [
            "Exported to ./export_coco-panoptic_brunswick_IR-2021-06-05-21-25-15_0_v2.0.json. Images and labels in segments/brunswick_IR-2021-06-05-21-25-15_0/v2.0\n",
            "Images downloaded to dir = segments/brunswick_IR-2021-06-05-21-25-15_0/v2.0\n",
            "Directory renamed to = segments/brunswick_IR-2021-06-05-21-25-15_0/v2.0_coco-panoptic\n",
            "Dataset downloaded successfully.\n",
            "dataset:IR-RT-2020-10-22-18-33-26_2,version:v2.0\n",
            "{'uuid': '5159de6f-68a0-440b-a103-a966910317c2', 'name': 'v2.0', 'description': 'Final release for December', 'release_type': 'JSON', 'attributes': {'url': 'https://segmentsai-prod.s3.eu-west-2.amazonaws.com/releases/5159de6f-68a0-440b-a103-a966910317c2.json'}, 'status': 'SUCCEEDED', 'status_info': '', 'created_at': '2021-11-26T22:59:10.255903Z', 'samples_count': 76}\n",
            "<Response [200]>\n",
            "Initializing dataset...\n",
            "Preloading all samples. This may take a while...\n"
          ]
        },
        {
          "output_type": "stream",
          "name": "stderr",
          "text": [
            "100%|██████████| 76/76 [00:07<00:00,  9.78it/s]\n"
          ]
        },
        {
          "output_type": "stream",
          "name": "stdout",
          "text": [
            "Initialized dataset with 76 images.\n",
            "Exporting dataset. This may take a while...\n"
          ]
        },
        {
          "output_type": "stream",
          "name": "stderr",
          "text": [
            "100%|██████████| 76/76 [00:05<00:00, 15.02it/s]\n"
          ]
        },
        {
          "output_type": "stream",
          "name": "stdout",
          "text": [
            "Exported to ./export_coco-panoptic_brunswick_IR-RT-2020-10-22-18-33-26_2_v2.0.json. Images and labels in segments/brunswick_IR-RT-2020-10-22-18-33-26_2/v2.0\n",
            "Images downloaded to dir = segments/brunswick_IR-RT-2020-10-22-18-33-26_2/v2.0\n",
            "Directory renamed to = segments/brunswick_IR-RT-2020-10-22-18-33-26_2/v2.0_coco-panoptic\n",
            "Dataset downloaded successfully.\n",
            "dataset:IR-RT-2020-10-22-18-03-25_1,version:v2.0\n",
            "{'uuid': '486d4995-dda1-42c6-9a99-8af2eaf61241', 'name': 'v2.0', 'description': 'Final release for December', 'release_type': 'JSON', 'attributes': {'url': 'https://segmentsai-prod.s3.eu-west-2.amazonaws.com/releases/486d4995-dda1-42c6-9a99-8af2eaf61241.json'}, 'status': 'SUCCEEDED', 'status_info': '', 'created_at': '2021-11-28T02:49:39.982839Z', 'samples_count': 43}\n",
            "<Response [200]>\n",
            "Initializing dataset...\n",
            "Preloading all samples. This may take a while...\n"
          ]
        },
        {
          "output_type": "stream",
          "name": "stderr",
          "text": [
            "100%|██████████| 43/43 [00:05<00:00,  7.31it/s]\n"
          ]
        },
        {
          "output_type": "stream",
          "name": "stdout",
          "text": [
            "Initialized dataset with 43 images.\n",
            "Exporting dataset. This may take a while...\n"
          ]
        },
        {
          "output_type": "stream",
          "name": "stderr",
          "text": [
            "100%|██████████| 43/43 [00:02<00:00, 17.62it/s]\n"
          ]
        },
        {
          "output_type": "stream",
          "name": "stdout",
          "text": [
            "Exported to ./export_coco-panoptic_brunswick_IR-RT-2020-10-22-18-03-25_1_v2.0.json. Images and labels in segments/brunswick_IR-RT-2020-10-22-18-03-25_1/v2.0\n",
            "Images downloaded to dir = segments/brunswick_IR-RT-2020-10-22-18-03-25_1/v2.0\n",
            "Directory renamed to = segments/brunswick_IR-RT-2020-10-22-18-03-25_1/v2.0_coco-panoptic\n",
            "Dataset downloaded successfully.\n",
            "dataset:IR-RT-2020-10-22-16-46-33_0,version:v2.0\n",
            "{'uuid': 'a2ec98f2-549e-4b89-861d-053f480c696e', 'name': 'v2.0', 'description': 'Final release for December', 'release_type': 'JSON', 'attributes': {'url': 'https://segmentsai-prod.s3.eu-west-2.amazonaws.com/releases/a2ec98f2-549e-4b89-861d-053f480c696e.json'}, 'status': 'SUCCEEDED', 'status_info': '', 'created_at': '2022-01-01T20:56:48.008326Z', 'samples_count': 29}\n",
            "<Response [200]>\n",
            "Initializing dataset...\n",
            "Preloading all samples. This may take a while...\n"
          ]
        },
        {
          "output_type": "stream",
          "name": "stderr",
          "text": [
            "100%|██████████| 29/29 [00:04<00:00,  6.49it/s]\n"
          ]
        },
        {
          "output_type": "stream",
          "name": "stdout",
          "text": [
            "Initialized dataset with 29 images.\n",
            "Exporting dataset. This may take a while...\n"
          ]
        },
        {
          "output_type": "stream",
          "name": "stderr",
          "text": [
            "100%|██████████| 29/29 [00:01<00:00, 17.51it/s]\n"
          ]
        },
        {
          "output_type": "stream",
          "name": "stdout",
          "text": [
            "Exported to ./export_coco-panoptic_brunswick_IR-RT-2020-10-22-16-46-33_0_v2.0.json. Images and labels in segments/brunswick_IR-RT-2020-10-22-16-46-33_0/v2.0\n",
            "Images downloaded to dir = segments/brunswick_IR-RT-2020-10-22-16-46-33_0/v2.0\n",
            "Directory renamed to = segments/brunswick_IR-RT-2020-10-22-16-46-33_0/v2.0_coco-panoptic\n",
            "Dataset downloaded successfully.\n",
            "dataset:IR-RT-2020-10-22-17-16-34_1,version:v2.0\n",
            "{'uuid': '5f11ad62-8eb8-47f1-9fcf-48f1ff232b69', 'name': 'v2.0', 'description': 'Final release for December', 'release_type': 'JSON', 'attributes': {'url': 'https://segmentsai-prod.s3.eu-west-2.amazonaws.com/releases/5f11ad62-8eb8-47f1-9fcf-48f1ff232b69.json'}, 'status': 'SUCCEEDED', 'status_info': '', 'created_at': '2021-11-28T02:54:52.981579Z', 'samples_count': 33}\n",
            "<Response [200]>\n",
            "Initializing dataset...\n",
            "Preloading all samples. This may take a while...\n"
          ]
        },
        {
          "output_type": "stream",
          "name": "stderr",
          "text": [
            "100%|██████████| 33/33 [00:04<00:00,  6.65it/s]\n"
          ]
        },
        {
          "output_type": "stream",
          "name": "stdout",
          "text": [
            "Initialized dataset with 33 images.\n",
            "Exporting dataset. This may take a while...\n"
          ]
        },
        {
          "output_type": "stream",
          "name": "stderr",
          "text": [
            "100%|██████████| 33/33 [00:02<00:00, 15.30it/s]\n"
          ]
        },
        {
          "output_type": "stream",
          "name": "stdout",
          "text": [
            "Exported to ./export_coco-panoptic_brunswick_IR-RT-2020-10-22-17-16-34_1_v2.0.json. Images and labels in segments/brunswick_IR-RT-2020-10-22-17-16-34_1/v2.0\n",
            "Images downloaded to dir = segments/brunswick_IR-RT-2020-10-22-17-16-34_1/v2.0\n",
            "Directory renamed to = segments/brunswick_IR-RT-2020-10-22-17-16-34_1/v2.0_coco-panoptic\n",
            "Dataset downloaded successfully.\n",
            "dataset:IR-RT-2020-10-22-17-33-25_0,version:v2.0\n",
            "{'uuid': '6749344e-1b5c-47db-a665-b7a98ea9e558', 'name': 'v2.0', 'description': 'Final release for December', 'release_type': 'JSON', 'attributes': {'url': 'https://segmentsai-prod.s3.eu-west-2.amazonaws.com/releases/6749344e-1b5c-47db-a665-b7a98ea9e558.json'}, 'status': 'SUCCEEDED', 'status_info': '', 'created_at': '2021-11-26T23:00:53.996038Z', 'samples_count': 36}\n",
            "<Response [200]>\n",
            "Initializing dataset...\n",
            "Preloading all samples. This may take a while...\n"
          ]
        },
        {
          "output_type": "stream",
          "name": "stderr",
          "text": [
            "100%|██████████| 36/36 [00:05<00:00,  7.06it/s]\n"
          ]
        },
        {
          "output_type": "stream",
          "name": "stdout",
          "text": [
            "Initialized dataset with 36 images.\n",
            "Exporting dataset. This may take a while...\n"
          ]
        },
        {
          "output_type": "stream",
          "name": "stderr",
          "text": [
            "100%|██████████| 36/36 [00:01<00:00, 18.77it/s]\n"
          ]
        },
        {
          "output_type": "stream",
          "name": "stdout",
          "text": [
            "Exported to ./export_coco-panoptic_brunswick_IR-RT-2020-10-22-17-33-25_0_v2.0.json. Images and labels in segments/brunswick_IR-RT-2020-10-22-17-33-25_0/v2.0\n",
            "Images downloaded to dir = segments/brunswick_IR-RT-2020-10-22-17-33-25_0/v2.0\n",
            "Directory renamed to = segments/brunswick_IR-RT-2020-10-22-17-33-25_0/v2.0_coco-panoptic\n",
            "Dataset downloaded successfully.\n",
            "dataset:IR-RT-2020-10-20-15-39-42_0,version:v2.0\n",
            "{'uuid': '2413f536-5d41-4354-b22d-cc7a3fa871bb', 'name': 'v2.0', 'description': 'Final release for December', 'release_type': 'JSON', 'attributes': {'url': 'https://segmentsai-prod.s3.eu-west-2.amazonaws.com/releases/2413f536-5d41-4354-b22d-cc7a3fa871bb.json'}, 'status': 'SUCCEEDED', 'status_info': '', 'created_at': '2021-11-26T23:01:17.089652Z', 'samples_count': 10}\n",
            "<Response [200]>\n",
            "Initializing dataset...\n",
            "Preloading all samples. This may take a while...\n"
          ]
        },
        {
          "output_type": "stream",
          "name": "stderr",
          "text": [
            "100%|██████████| 10/10 [00:02<00:00,  4.10it/s]\n"
          ]
        },
        {
          "output_type": "stream",
          "name": "stdout",
          "text": [
            "Initialized dataset with 10 images.\n",
            "Exporting dataset. This may take a while...\n"
          ]
        },
        {
          "output_type": "stream",
          "name": "stderr",
          "text": [
            "100%|██████████| 10/10 [00:00<00:00, 16.55it/s]\n"
          ]
        },
        {
          "output_type": "stream",
          "name": "stdout",
          "text": [
            "Exported to ./export_coco-panoptic_brunswick_IR-RT-2020-10-20-15-39-42_0_v2.0.json. Images and labels in segments/brunswick_IR-RT-2020-10-20-15-39-42_0/v2.0\n",
            "Images downloaded to dir = segments/brunswick_IR-RT-2020-10-20-15-39-42_0/v2.0\n",
            "Directory renamed to = segments/brunswick_IR-RT-2020-10-20-15-39-42_0/v2.0_coco-panoptic\n",
            "Dataset downloaded successfully.\n",
            "dataset:IR-RT-2020-10-20-16-02-52_0,version:v2.0\n",
            "{'uuid': 'e8985cf0-94bc-41b1-aae3-aea131e0f9f7', 'name': 'v2.0', 'description': 'Final release for December', 'release_type': 'JSON', 'attributes': {'url': 'https://segmentsai-prod.s3.eu-west-2.amazonaws.com/releases/e8985cf0-94bc-41b1-aae3-aea131e0f9f7.json'}, 'status': 'SUCCEEDED', 'status_info': '', 'created_at': '2021-11-26T23:01:44.603570Z', 'samples_count': 20}\n",
            "<Response [200]>\n",
            "Initializing dataset...\n",
            "Preloading all samples. This may take a while...\n"
          ]
        },
        {
          "output_type": "stream",
          "name": "stderr",
          "text": [
            "100%|██████████| 20/20 [00:02<00:00,  8.32it/s]\n"
          ]
        },
        {
          "output_type": "stream",
          "name": "stdout",
          "text": [
            "Initialized dataset with 20 images.\n",
            "Exporting dataset. This may take a while...\n"
          ]
        },
        {
          "output_type": "stream",
          "name": "stderr",
          "text": [
            "100%|██████████| 20/20 [00:01<00:00, 19.53it/s]\n"
          ]
        },
        {
          "output_type": "stream",
          "name": "stdout",
          "text": [
            "Exported to ./export_coco-panoptic_brunswick_IR-RT-2020-10-20-16-02-52_0_v2.0.json. Images and labels in segments/brunswick_IR-RT-2020-10-20-16-02-52_0/v2.0\n",
            "Images downloaded to dir = segments/brunswick_IR-RT-2020-10-20-16-02-52_0/v2.0\n",
            "Directory renamed to = segments/brunswick_IR-RT-2020-10-20-16-02-52_0/v2.0_coco-panoptic\n",
            "Dataset downloaded successfully.\n",
            "dataset:IR-RT-2020-10-20-16-32-51_1,version:v2.0\n",
            "{'uuid': '1bcd49ce-f6de-45d2-a8e9-863db7f763f5', 'name': 'v2.0', 'description': 'Final release for December', 'release_type': 'JSON', 'attributes': {'url': 'https://segmentsai-prod.s3.eu-west-2.amazonaws.com/releases/1bcd49ce-f6de-45d2-a8e9-863db7f763f5.json'}, 'status': 'SUCCEEDED', 'status_info': '', 'created_at': '2021-11-26T23:02:05.454444Z', 'samples_count': 17}\n",
            "<Response [200]>\n",
            "Initializing dataset...\n",
            "Preloading all samples. This may take a while...\n"
          ]
        },
        {
          "output_type": "stream",
          "name": "stderr",
          "text": [
            "100%|██████████| 17/17 [00:02<00:00,  7.16it/s]\n"
          ]
        },
        {
          "output_type": "stream",
          "name": "stdout",
          "text": [
            "Initialized dataset with 17 images.\n",
            "Exporting dataset. This may take a while...\n"
          ]
        },
        {
          "output_type": "stream",
          "name": "stderr",
          "text": [
            "100%|██████████| 17/17 [00:00<00:00, 17.28it/s]\n"
          ]
        },
        {
          "output_type": "stream",
          "name": "stdout",
          "text": [
            "Exported to ./export_coco-panoptic_brunswick_IR-RT-2020-10-20-16-32-51_1_v2.0.json. Images and labels in segments/brunswick_IR-RT-2020-10-20-16-32-51_1/v2.0\n",
            "Images downloaded to dir = segments/brunswick_IR-RT-2020-10-20-16-32-51_1/v2.0\n",
            "Directory renamed to = segments/brunswick_IR-RT-2020-10-20-16-32-51_1/v2.0_coco-panoptic\n",
            "Dataset downloaded successfully.\n",
            "dataset:IR-RT-2021-10-28-15-33-50_0,version:v2.0\n",
            "{'uuid': '09204a61-f7d2-4f47-afed-5f8b80a1d2fd', 'name': 'v2.0', 'description': 'Final release for December', 'release_type': 'JSON', 'attributes': {'url': 'https://segmentsai-prod.s3.eu-west-2.amazonaws.com/releases/09204a61-f7d2-4f47-afed-5f8b80a1d2fd.json'}, 'status': 'SUCCEEDED', 'status_info': '', 'created_at': '2021-11-26T23:02:28.013577Z', 'samples_count': 25}\n",
            "<Response [200]>\n",
            "Initializing dataset...\n",
            "Preloading all samples. This may take a while...\n"
          ]
        },
        {
          "output_type": "stream",
          "name": "stderr",
          "text": [
            "100%|██████████| 25/25 [00:02<00:00,  9.71it/s]\n"
          ]
        },
        {
          "output_type": "stream",
          "name": "stdout",
          "text": [
            "Initialized dataset with 25 images.\n",
            "Exporting dataset. This may take a while...\n"
          ]
        },
        {
          "output_type": "stream",
          "name": "stderr",
          "text": [
            " 76%|███████▌  | 19/25 [00:01<00:00, 19.98it/s]"
          ]
        },
        {
          "output_type": "stream",
          "name": "stdout",
          "text": [
            "Skipping instance with 0 labeled pixels: 1635450020.024219.png, instance_id: 6, category_id: 0\n"
          ]
        },
        {
          "output_type": "stream",
          "name": "stderr",
          "text": [
            "100%|██████████| 25/25 [00:01<00:00, 18.74it/s]\n"
          ]
        },
        {
          "output_type": "stream",
          "name": "stdout",
          "text": [
            "Exported to ./export_coco-panoptic_brunswick_IR-RT-2021-10-28-15-33-50_0_v2.0.json. Images and labels in segments/brunswick_IR-RT-2021-10-28-15-33-50_0/v2.0\n",
            "Images downloaded to dir = segments/brunswick_IR-RT-2021-10-28-15-33-50_0/v2.0\n",
            "Directory renamed to = segments/brunswick_IR-RT-2021-10-28-15-33-50_0/v2.0_coco-panoptic\n",
            "Dataset downloaded successfully.\n",
            "dataset:IR-RT-2021-10-28-17-11-01_0,version:v2.0\n",
            "{'uuid': '9ae14bf1-c155-41e4-a3bc-83f5ec1f36a4', 'name': 'v2.0', 'description': 'Final release for December', 'release_type': 'JSON', 'attributes': {'url': 'https://segmentsai-prod.s3.eu-west-2.amazonaws.com/releases/9ae14bf1-c155-41e4-a3bc-83f5ec1f36a4.json'}, 'status': 'SUCCEEDED', 'status_info': '', 'created_at': '2021-11-26T23:03:03.919643Z', 'samples_count': 85}\n",
            "<Response [200]>\n",
            "Initializing dataset...\n",
            "Preloading all samples. This may take a while...\n"
          ]
        },
        {
          "output_type": "stream",
          "name": "stderr",
          "text": [
            "100%|██████████| 85/85 [00:06<00:00, 13.75it/s]\n"
          ]
        },
        {
          "output_type": "stream",
          "name": "stdout",
          "text": [
            "Initialized dataset with 85 images.\n",
            "Exporting dataset. This may take a while...\n"
          ]
        },
        {
          "output_type": "stream",
          "name": "stderr",
          "text": [
            "100%|██████████| 85/85 [00:04<00:00, 17.93it/s]\n"
          ]
        },
        {
          "output_type": "stream",
          "name": "stdout",
          "text": [
            "Exported to ./export_coco-panoptic_brunswick_IR-RT-2021-10-28-17-11-01_0_v2.0.json. Images and labels in segments/brunswick_IR-RT-2021-10-28-17-11-01_0/v2.0\n",
            "Images downloaded to dir = segments/brunswick_IR-RT-2021-10-28-17-11-01_0/v2.0\n",
            "Directory renamed to = segments/brunswick_IR-RT-2021-10-28-17-11-01_0/v2.0_coco-panoptic\n",
            "Dataset downloaded successfully.\n",
            "dataset:IR-RT-2021-10-28-17-47-35_0,version:v2.0\n",
            "{'uuid': '074cf509-a64f-49d5-8f00-3ebb79a560a1', 'name': 'v2.0', 'description': 'Final release for December', 'release_type': 'JSON', 'attributes': {'url': 'https://segmentsai-prod.s3.eu-west-2.amazonaws.com/releases/074cf509-a64f-49d5-8f00-3ebb79a560a1.json'}, 'status': 'SUCCEEDED', 'status_info': '', 'created_at': '2021-11-28T03:04:01.322480Z', 'samples_count': 55}\n",
            "<Response [200]>\n",
            "Initializing dataset...\n",
            "Preloading all samples. This may take a while...\n"
          ]
        },
        {
          "output_type": "stream",
          "name": "stderr",
          "text": [
            "100%|██████████| 55/55 [00:06<00:00,  8.55it/s]\n"
          ]
        },
        {
          "output_type": "stream",
          "name": "stdout",
          "text": [
            "Initialized dataset with 55 images.\n",
            "Exporting dataset. This may take a while...\n"
          ]
        },
        {
          "output_type": "stream",
          "name": "stderr",
          "text": [
            "100%|██████████| 55/55 [00:02<00:00, 18.73it/s]\n"
          ]
        },
        {
          "output_type": "stream",
          "name": "stdout",
          "text": [
            "Exported to ./export_coco-panoptic_brunswick_IR-RT-2021-10-28-17-47-35_0_v2.0.json. Images and labels in segments/brunswick_IR-RT-2021-10-28-17-47-35_0/v2.0\n",
            "Images downloaded to dir = segments/brunswick_IR-RT-2021-10-28-17-47-35_0/v2.0\n",
            "Directory renamed to = segments/brunswick_IR-RT-2021-10-28-17-47-35_0/v2.0_coco-panoptic\n",
            "Dataset downloaded successfully.\n",
            "dataset:IR-RT-2021-10-28-18-08-20_0,version:v2.0\n",
            "{'uuid': '0f702e67-2bd6-4d4b-b849-412109188e6f', 'name': 'v2.0', 'description': 'Final release for December', 'release_type': 'JSON', 'attributes': {'url': 'https://segmentsai-prod.s3.eu-west-2.amazonaws.com/releases/0f702e67-2bd6-4d4b-b849-412109188e6f.json'}, 'status': 'SUCCEEDED', 'status_info': '', 'created_at': '2021-12-02T02:07:05.340816Z', 'samples_count': 39}\n",
            "<Response [200]>\n",
            "Initializing dataset...\n",
            "Preloading all samples. This may take a while...\n"
          ]
        },
        {
          "output_type": "stream",
          "name": "stderr",
          "text": [
            "100%|██████████| 39/39 [00:05<00:00,  7.43it/s]\n"
          ]
        },
        {
          "output_type": "stream",
          "name": "stdout",
          "text": [
            "Initialized dataset with 39 images.\n",
            "Exporting dataset. This may take a while...\n"
          ]
        },
        {
          "output_type": "stream",
          "name": "stderr",
          "text": [
            "100%|██████████| 39/39 [00:02<00:00, 19.33it/s]\n"
          ]
        },
        {
          "output_type": "stream",
          "name": "stdout",
          "text": [
            "Exported to ./export_coco-panoptic_brunswick_IR-RT-2021-10-28-18-08-20_0_v2.0.json. Images and labels in segments/brunswick_IR-RT-2021-10-28-18-08-20_0/v2.0\n",
            "Images downloaded to dir = segments/brunswick_IR-RT-2021-10-28-18-08-20_0/v2.0\n",
            "Directory renamed to = segments/brunswick_IR-RT-2021-10-28-18-08-20_0/v2.0_coco-panoptic\n",
            "Dataset downloaded successfully.\n",
            "dataset:IR-RT-2021-10-28-18-38-20_0,version:v2.0\n",
            "{'uuid': '279f100a-bbe9-4c3b-80ee-0834e53cbb03', 'name': 'v2.0', 'description': 'Final release for December', 'release_type': 'JSON', 'attributes': {'url': 'https://segmentsai-prod.s3.eu-west-2.amazonaws.com/releases/279f100a-bbe9-4c3b-80ee-0834e53cbb03.json'}, 'status': 'SUCCEEDED', 'status_info': '', 'created_at': '2021-11-28T03:19:09.411683Z', 'samples_count': 41}\n",
            "<Response [200]>\n",
            "Initializing dataset...\n",
            "Preloading all samples. This may take a while...\n"
          ]
        },
        {
          "output_type": "stream",
          "name": "stderr",
          "text": [
            "100%|██████████| 41/41 [00:06<00:00,  6.80it/s]\n"
          ]
        },
        {
          "output_type": "stream",
          "name": "stdout",
          "text": [
            "Initialized dataset with 41 images.\n",
            "Exporting dataset. This may take a while...\n"
          ]
        },
        {
          "output_type": "stream",
          "name": "stderr",
          "text": [
            "100%|██████████| 41/41 [00:02<00:00, 18.59it/s]\n"
          ]
        },
        {
          "output_type": "stream",
          "name": "stdout",
          "text": [
            "Exported to ./export_coco-panoptic_brunswick_IR-RT-2021-10-28-18-38-20_0_v2.0.json. Images and labels in segments/brunswick_IR-RT-2021-10-28-18-38-20_0/v2.0\n",
            "Images downloaded to dir = segments/brunswick_IR-RT-2021-10-28-18-38-20_0/v2.0\n",
            "Directory renamed to = segments/brunswick_IR-RT-2021-10-28-18-38-20_0/v2.0_coco-panoptic\n",
            "Dataset downloaded successfully.\n",
            "dataset:IR-catch-all,version:v2.0\n",
            "{'uuid': '2008b8d7-e32e-4f2d-8045-9b94762a54f6', 'name': 'v2.0', 'description': 'Final release for December', 'release_type': 'JSON', 'attributes': {'url': 'https://segmentsai-prod.s3.eu-west-2.amazonaws.com/releases/2008b8d7-e32e-4f2d-8045-9b94762a54f6.json'}, 'status': 'SUCCEEDED', 'status_info': '', 'created_at': '2021-11-28T03:17:59.620048Z', 'samples_count': 119}\n",
            "<Response [200]>\n",
            "Initializing dataset...\n",
            "Preloading all samples. This may take a while...\n"
          ]
        },
        {
          "output_type": "stream",
          "name": "stderr",
          "text": [
            "100%|██████████| 119/119 [00:09<00:00, 12.08it/s]\n"
          ]
        },
        {
          "output_type": "stream",
          "name": "stdout",
          "text": [
            "Initialized dataset with 119 images.\n",
            "Exporting dataset. This may take a while...\n"
          ]
        },
        {
          "output_type": "stream",
          "name": "stderr",
          "text": [
            "100%|██████████| 119/119 [00:07<00:00, 16.53it/s]\n"
          ]
        },
        {
          "output_type": "stream",
          "name": "stdout",
          "text": [
            "Exported to ./export_coco-panoptic_brunswick_IR-catch-all_v2.0.json. Images and labels in segments/brunswick_IR-catch-all/v2.0\n",
            "Images downloaded to dir = segments/brunswick_IR-catch-all/v2.0\n",
            "Directory renamed to = segments/brunswick_IR-catch-all/v2.0_coco-panoptic\n",
            "Dataset downloaded successfully.\n",
            "dataset:IR-2021-10-28-16-19-00_0,version:v2.0\n",
            "{'uuid': 'f8c95df1-3125-4339-8b5e-2ecf06cafa1e', 'name': 'v2.0', 'description': 'Final release for December', 'release_type': 'JSON', 'attributes': {'url': 'https://segmentsai-prod.s3.eu-west-2.amazonaws.com/releases/f8c95df1-3125-4339-8b5e-2ecf06cafa1e.json'}, 'status': 'SUCCEEDED', 'status_info': '', 'created_at': '2021-11-28T03:18:43.010734Z', 'samples_count': 33}\n",
            "<Response [200]>\n",
            "Initializing dataset...\n",
            "Preloading all samples. This may take a while...\n"
          ]
        },
        {
          "output_type": "stream",
          "name": "stderr",
          "text": [
            "100%|██████████| 33/33 [00:04<00:00,  6.88it/s]\n"
          ]
        },
        {
          "output_type": "stream",
          "name": "stdout",
          "text": [
            "Initialized dataset with 33 images.\n",
            "Exporting dataset. This may take a while...\n"
          ]
        },
        {
          "output_type": "stream",
          "name": "stderr",
          "text": [
            "100%|██████████| 33/33 [00:01<00:00, 19.68it/s]"
          ]
        },
        {
          "output_type": "stream",
          "name": "stdout",
          "text": [
            "Exported to ./export_coco-panoptic_brunswick_IR-2021-10-28-16-19-00_0_v2.0.json. Images and labels in segments/brunswick_IR-2021-10-28-16-19-00_0/v2.0\n",
            "Images downloaded to dir = segments/brunswick_IR-2021-10-28-16-19-00_0/v2.0\n",
            "Directory renamed to = segments/brunswick_IR-2021-10-28-16-19-00_0/v2.0_coco-panoptic\n",
            "Dataset downloaded successfully.\n"
          ]
        },
        {
          "output_type": "stream",
          "name": "stderr",
          "text": [
            "\n"
          ]
        },
        {
          "output_type": "execute_result",
          "data": {
            "text/plain": [
              "['IR-2019-10-29-philios-16-00-19-v2.0.json',\n",
              " 'IR-2019-10-08-rex4usv-13-29-51-v2.0.json',\n",
              " 'IR-2019-10-29-16-08-13-v2.0.json',\n",
              " 'IR-2019-10-29-log-philios-15-55-36-v2.0.json',\n",
              " 'IR-2019-10-08-14-49-48-v2.0.json',\n",
              " 'IR-2019-10-08-15-05-15-v2.0.json',\n",
              " 'IR-2019-11-05-philios-13-35-55-v2.0.json',\n",
              " 'IR-2020-10-22-18-33-26-2-v2.0.json',\n",
              " 'IR-2019-10-22-11-21-56-v2.0.json',\n",
              " 'IR-2019-10-25-14-21-23-v2.0.json',\n",
              " 'IR-2019-11-04-14-32-22-v2.0.json',\n",
              " 'IR-2019-10-22-13-34-07-v2.0.json',\n",
              " 'IR-2020-10-22-16-46-33-v2.0.json',\n",
              " 'IR-2019-12-11-10-58-24-v2.0.json',\n",
              " 'IR-2020-10-20-16-02-52-v2.0.json',\n",
              " 'IR-2019-10-15-15-28-30-v2.0.json',\n",
              " 'IR-2019-10-15-15-26-47-v2.0.json',\n",
              " 'IR-2019-10-15-15-22-06-v2.0.json',\n",
              " 'IR-2020-10-22-18-03-25-v2.0.json',\n",
              " 'IR-2019-10-22-13-02-56-v2.0.json',\n",
              " 'IR-2020-11-06-v2.0.json',\n",
              " 'IR-2019-10-22-13-19-39-v2.0.json',\n",
              " 'IR-2019-10-22-12-24-37-v2.0.json',\n",
              " 'IR-2019-10-22-12-49-38-v2.0.json',\n",
              " 'IR-2019-11-04-14-49-42-v2.0.json',\n",
              " 'IR-2019-12-11-11-07-30-v2.0.json',\n",
              " 'IR-2019-11-04-14-09-20-v2.0.json',\n",
              " 'IR-2019-12-11-09-58-25-v2.0.json',\n",
              " 'IR-2020-10-20-15-39-42-0-v2.0.json',\n",
              " 'IR-2020-10-22-17-16-34-1-v2.0.json',\n",
              " 'IR-2019-10-15-rex4usv-13-38-24-v2.0.json',\n",
              " 'IR-2019-10-15-rex4usv-15-02-31-v2.0.json',\n",
              " 'IR-2021-06-05-21-25-15_0-v2.0.json',\n",
              " 'IR-RT-2020-10-22-18-33-26_2-v2.0.json',\n",
              " 'IR-RT-2020-10-22-18-03-25_1-v2.0.json',\n",
              " 'IR-RT-2020-10-22-16-46-33_0-v2.0.json',\n",
              " 'IR-RT-2020-10-22-17-16-34_1-v2.0.json',\n",
              " 'IR-RT-2020-10-22-17-33-25_0-v2.0.json',\n",
              " 'IR-RT-2020-10-20-15-39-42_0-v2.0.json',\n",
              " 'IR-RT-2020-10-20-16-02-52_0-v2.0.json',\n",
              " 'IR-RT-2020-10-20-16-32-51_1-v2.0.json',\n",
              " 'IR-RT-2021-10-28-15-33-50_0-v2.0.json',\n",
              " 'IR-RT-2021-10-28-17-11-01_0-v2.0.json',\n",
              " 'IR-RT-2021-10-28-17-47-35_0-v2.0.json',\n",
              " 'IR-RT-2021-10-28-18-08-20_0-v2.0.json',\n",
              " 'IR-RT-2021-10-28-18-38-20_0-v2.0.json',\n",
              " 'IR-catch-all-v2.0.json',\n",
              " 'IR-2021-10-28-16-19-00_0-v2.0.json']"
            ]
          },
          "metadata": {},
          "execution_count": 7
        }
      ]
    },
    {
      "cell_type": "code",
      "source": [
        "import os \n",
        "APP_FOLDER = '/content/segments'\n",
        "totalFiles = 0\n",
        "totalDir = 0\n",
        "\n",
        "for base, dirs, files in os.walk(APP_FOLDER):\n",
        "    print('Searching in : ',base)\n",
        "    for directories in dirs:\n",
        "        totalDir += 1\n",
        "    for Files in files:\n",
        "        if \"_coco-panoptic.png\" in Files:\n",
        "          totalFiles += 1\n",
        "   \n",
        "\n",
        "print('Total number of Images in both brunswick and ssnirgudkar are',totalFiles)\n",
        "print('Total Number of directories',totalDir)\n",
        "print('Total:',(totalDir + totalFiles))"
      ],
      "metadata": {
        "colab": {
          "base_uri": "https://localhost:8080/"
        },
        "id": "AKdBkUnMCKRD",
        "outputId": "84863c9d-3e5d-406f-bcfc-04ab1cdf7e64"
      },
      "execution_count": 8,
      "outputs": [
        {
          "output_type": "stream",
          "name": "stdout",
          "text": [
            "Searching in :  /content/segments\n",
            "Searching in :  /content/segments/brunswick_IR-2020-10-22-16-46-33\n",
            "Searching in :  /content/segments/brunswick_IR-2020-10-22-16-46-33/v2.0_coco-panoptic\n",
            "Searching in :  /content/segments/brunswick_IR-catch-all\n",
            "Searching in :  /content/segments/brunswick_IR-catch-all/v2.0_coco-panoptic\n",
            "Searching in :  /content/segments/brunswick_IR-2019-10-22-13-19-39\n",
            "Searching in :  /content/segments/brunswick_IR-2019-10-22-13-19-39/v2.0_coco-panoptic\n",
            "Searching in :  /content/segments/brunswick_IR-RT-2020-10-20-15-39-42_0\n",
            "Searching in :  /content/segments/brunswick_IR-RT-2020-10-20-15-39-42_0/v2.0_coco-panoptic\n",
            "Searching in :  /content/segments/brunswick_IR-2020-10-20-15-39-42-0\n",
            "Searching in :  /content/segments/brunswick_IR-2020-10-20-15-39-42-0/v2.0_coco-panoptic\n",
            "Searching in :  /content/segments/brunswick_IR-2019-10-15-rex4usv-15-02-31\n",
            "Searching in :  /content/segments/brunswick_IR-2019-10-15-rex4usv-15-02-31/v2.0_coco-panoptic\n",
            "Searching in :  /content/segments/brunswick_IR-2019-10-08-14-49-48\n",
            "Searching in :  /content/segments/brunswick_IR-2019-10-08-14-49-48/v2.0_coco-panoptic\n",
            "Searching in :  /content/segments/brunswick_IR-2019-10-29-philios-16-00-19\n",
            "Searching in :  /content/segments/brunswick_IR-2019-10-29-philios-16-00-19/v2.0_coco-panoptic\n",
            "Searching in :  /content/segments/brunswick_IR-2019-10-22-12-24-37\n",
            "Searching in :  /content/segments/brunswick_IR-2019-10-22-12-24-37/v2.0_coco-panoptic\n",
            "Searching in :  /content/segments/brunswick_IR-2020-11-06\n",
            "Searching in :  /content/segments/brunswick_IR-2020-11-06/v2.0_coco-panoptic\n",
            "Searching in :  /content/segments/ssnirgudkar_IR-2020-10-20-15-52-18\n",
            "Searching in :  /content/segments/ssnirgudkar_IR-2020-10-20-15-52-18/v2.0_coco-panoptic\n",
            "Searching in :  /content/segments/brunswick_IR-2021-06-05-21-25-15_0\n",
            "Searching in :  /content/segments/brunswick_IR-2021-06-05-21-25-15_0/v2.0_coco-panoptic\n",
            "Searching in :  /content/segments/brunswick_IR-2019-10-15-15-28-30\n",
            "Searching in :  /content/segments/brunswick_IR-2019-10-15-15-28-30/v2.0_coco-panoptic\n",
            "Searching in :  /content/segments/ssnirgudkar_IR-2019-10-22-11-56-01\n",
            "Searching in :  /content/segments/ssnirgudkar_IR-2019-10-22-11-56-01/v2.0_coco-panoptic\n",
            "Searching in :  /content/segments/brunswick_IR-2019-10-22-13-34-07\n",
            "Searching in :  /content/segments/brunswick_IR-2019-10-22-13-34-07/v2.0_coco-panoptic\n",
            "Searching in :  /content/segments/brunswick_IR-RT-2020-10-22-17-33-25_0\n",
            "Searching in :  /content/segments/brunswick_IR-RT-2020-10-22-17-33-25_0/v2.0_coco-panoptic\n",
            "Searching in :  /content/segments/brunswick_IR-2021-10-28-16-19-00_0\n",
            "Searching in :  /content/segments/brunswick_IR-2021-10-28-16-19-00_0/v2.0_coco-panoptic\n",
            "Searching in :  /content/segments/brunswick_IR-RT-2020-10-22-18-33-26_2\n",
            "Searching in :  /content/segments/brunswick_IR-RT-2020-10-22-18-33-26_2/v2.0_coco-panoptic\n",
            "Searching in :  /content/segments/ssnirgudkar_IR-2020-10-20-16-32-52-1\n",
            "Searching in :  /content/segments/ssnirgudkar_IR-2020-10-20-16-32-52-1/v2.0_coco-panoptic\n",
            "Searching in :  /content/segments/brunswick_IR-2019-10-22-11-21-56\n",
            "Searching in :  /content/segments/brunswick_IR-2019-10-22-11-21-56/v2.0_coco-panoptic\n",
            "Searching in :  /content/segments/brunswick_IR-RT-2021-10-28-18-38-20_0\n",
            "Searching in :  /content/segments/brunswick_IR-RT-2021-10-28-18-38-20_0/v2.0_coco-panoptic\n",
            "Searching in :  /content/segments/brunswick_IR-RT-2020-10-20-16-02-52_0\n",
            "Searching in :  /content/segments/brunswick_IR-RT-2020-10-20-16-02-52_0/v2.0_coco-panoptic\n",
            "Searching in :  /content/segments/brunswick_IR-2019-11-04-14-49-42\n",
            "Searching in :  /content/segments/brunswick_IR-2019-11-04-14-49-42/v2.0_coco-panoptic\n",
            "Searching in :  /content/segments/brunswick_IR-2019-10-08-15-05-15\n",
            "Searching in :  /content/segments/brunswick_IR-2019-10-08-15-05-15/v2.0_coco-panoptic\n",
            "Searching in :  /content/segments/brunswick_IR-2020-10-20-16-02-52\n",
            "Searching in :  /content/segments/brunswick_IR-2020-10-20-16-02-52/v2.0_coco-panoptic\n",
            "Searching in :  /content/segments/brunswick_IR-RT-2020-10-22-16-46-33_0\n",
            "Searching in :  /content/segments/brunswick_IR-RT-2020-10-22-16-46-33_0/v2.0_coco-panoptic\n",
            "Searching in :  /content/segments/brunswick_IR-RT-2020-10-22-17-16-34_1\n",
            "Searching in :  /content/segments/brunswick_IR-RT-2020-10-22-17-16-34_1/v2.0_coco-panoptic\n",
            "Searching in :  /content/segments/brunswick_IR-2019-10-22-13-02-56\n",
            "Searching in :  /content/segments/brunswick_IR-2019-10-22-13-02-56/v2.0_coco-panoptic\n",
            "Searching in :  /content/segments/brunswick_IR-RT-2021-10-28-17-47-35_0\n",
            "Searching in :  /content/segments/brunswick_IR-RT-2021-10-28-17-47-35_0/v2.0_coco-panoptic\n",
            "Searching in :  /content/segments/brunswick_IR-2019-10-15-15-26-47\n",
            "Searching in :  /content/segments/brunswick_IR-2019-10-15-15-26-47/v2.0_coco-panoptic\n",
            "Searching in :  /content/segments/brunswick_IR-2019-11-04-14-32-22\n",
            "Searching in :  /content/segments/brunswick_IR-2019-11-04-14-32-22/v2.0_coco-panoptic\n",
            "Searching in :  /content/segments/ssnirgudkar_IR-2019-12-11-11-09-59\n",
            "Searching in :  /content/segments/ssnirgudkar_IR-2019-12-11-11-09-59/v2.0_coco-panoptic\n",
            "Searching in :  /content/segments/brunswick_IR-2019-10-15-rex4usv-13-38-24\n",
            "Searching in :  /content/segments/brunswick_IR-2019-10-15-rex4usv-13-38-24/v2.0_coco-panoptic\n",
            "Searching in :  /content/segments/brunswick_IR-2020-10-22-18-03-25\n",
            "Searching in :  /content/segments/brunswick_IR-2020-10-22-18-03-25/v2.0_coco-panoptic\n",
            "Searching in :  /content/segments/brunswick_IR-2019-12-11-10-58-24\n",
            "Searching in :  /content/segments/brunswick_IR-2019-12-11-10-58-24/v2.0_coco-panoptic\n",
            "Searching in :  /content/segments/brunswick_IR-RT-2020-10-20-16-32-51_1\n",
            "Searching in :  /content/segments/brunswick_IR-RT-2020-10-20-16-32-51_1/v2.0_coco-panoptic\n",
            "Searching in :  /content/segments/brunswick_IR-RT-2021-10-28-15-33-50_0\n",
            "Searching in :  /content/segments/brunswick_IR-RT-2021-10-28-15-33-50_0/v2.0_coco-panoptic\n",
            "Searching in :  /content/segments/brunswick_IR-2019-10-29-log-philios-15-55-36\n",
            "Searching in :  /content/segments/brunswick_IR-2019-10-29-log-philios-15-55-36/v2.0_coco-panoptic\n",
            "Searching in :  /content/segments/ssnirgudkar_PilotIR\n",
            "Searching in :  /content/segments/ssnirgudkar_PilotIR/v2.0_coco-panoptic\n",
            "Searching in :  /content/segments/brunswick_IR-RT-2021-10-28-18-08-20_0\n",
            "Searching in :  /content/segments/brunswick_IR-RT-2021-10-28-18-08-20_0/v2.0_coco-panoptic\n",
            "Searching in :  /content/segments/brunswick_IR-2019-12-11-11-07-30\n",
            "Searching in :  /content/segments/brunswick_IR-2019-12-11-11-07-30/v2.0_coco-panoptic\n",
            "Searching in :  /content/segments/brunswick_IR-2019-11-04-14-09-20\n",
            "Searching in :  /content/segments/brunswick_IR-2019-11-04-14-09-20/v2.0_coco-panoptic\n",
            "Searching in :  /content/segments/brunswick_IR-2020-10-22-17-16-34-1\n",
            "Searching in :  /content/segments/brunswick_IR-2020-10-22-17-16-34-1/v2.0_coco-panoptic\n",
            "Searching in :  /content/segments/brunswick_IR-2019-10-25-14-21-23\n",
            "Searching in :  /content/segments/brunswick_IR-2019-10-25-14-21-23/v2.0_coco-panoptic\n",
            "Searching in :  /content/segments/brunswick_IR-2019-10-29-16-08-13\n",
            "Searching in :  /content/segments/brunswick_IR-2019-10-29-16-08-13/v2.0_coco-panoptic\n",
            "Searching in :  /content/segments/brunswick_IR-2019-11-05-philios-13-35-55\n",
            "Searching in :  /content/segments/brunswick_IR-2019-11-05-philios-13-35-55/v2.0_coco-panoptic\n",
            "Searching in :  /content/segments/ssnirgudkar_IR-2020-10-22-17-33-25-0\n",
            "Searching in :  /content/segments/ssnirgudkar_IR-2020-10-22-17-33-25-0/v2.0_coco-panoptic\n",
            "Searching in :  /content/segments/brunswick_IR-2019-10-22-12-49-38\n",
            "Searching in :  /content/segments/brunswick_IR-2019-10-22-12-49-38/v2.0_coco-panoptic\n",
            "Searching in :  /content/segments/brunswick_IR-RT-2021-10-28-17-11-01_0\n",
            "Searching in :  /content/segments/brunswick_IR-RT-2021-10-28-17-11-01_0/v2.0_coco-panoptic\n",
            "Searching in :  /content/segments/brunswick_IR-2019-10-08-rex4usv-13-29-51\n",
            "Searching in :  /content/segments/brunswick_IR-2019-10-08-rex4usv-13-29-51/v2.0_coco-panoptic\n",
            "Searching in :  /content/segments/brunswick_IR-2019-10-15-15-22-06\n",
            "Searching in :  /content/segments/brunswick_IR-2019-10-15-15-22-06/v2.0_coco-panoptic\n",
            "Searching in :  /content/segments/brunswick_IR-2019-12-11-09-58-25\n",
            "Searching in :  /content/segments/brunswick_IR-2019-12-11-09-58-25/v2.0_coco-panoptic\n",
            "Searching in :  /content/segments/brunswick_IR-2020-10-22-18-33-26-2\n",
            "Searching in :  /content/segments/brunswick_IR-2020-10-22-18-33-26-2/v2.0_coco-panoptic\n",
            "Searching in :  /content/segments/brunswick_IR-RT-2020-10-22-18-03-25_1\n",
            "Searching in :  /content/segments/brunswick_IR-RT-2020-10-22-18-03-25_1/v2.0_coco-panoptic\n",
            "Searching in :  /content/segments/ssnirgudkar_IR-2019-10-28-philios-16-25-00\n",
            "Searching in :  /content/segments/ssnirgudkar_IR-2019-10-28-philios-16-25-00/v2.0_coco-panoptic\n",
            "Total number of Images in both brunswick and ssnirgudkar are 2918\n",
            "Total Number of directories 110\n",
            "Total: 3028\n"
          ]
        }
      ]
    },
    {
      "cell_type": "code",
      "source": [
        "# copy the select_test_images and masks in test and testannot respectively \n",
        "\n",
        "\n",
        "!cp /content/export_coco-panoptic*.json /content/drive/MyDrive/DatasetMetricReport/revised_json \n",
        "\n"
      ],
      "metadata": {
        "id": "-7BxmKcXjA7m"
      },
      "execution_count": 9,
      "outputs": []
    }
  ]
}