{
  "nbformat": 4,
  "nbformat_minor": 0,
  "metadata": {
    "colab": {
      "name": "deeplab2-Finalpaper_submission.ipynb",
      "provenance": [],
      "collapsed_sections": [],
      "authorship_tag": "ABX9TyO7MP4aSk7C0McXXzJajg/b",
      "include_colab_link": true
    },
    "kernelspec": {
      "name": "python3",
      "display_name": "Python 3"
    },
    "language_info": {
      "name": "python"
    },
    "accelerator": "GPU"
  },
  "cells": [
    {
      "cell_type": "markdown",
      "metadata": {
        "id": "view-in-github",
        "colab_type": "text"
      },
      "source": [
        "<a href=\"https://colab.research.google.com/github/ssnirgudkar/Datasetpaper-final/blob/main/deeplab2_Finalpaper_submission.ipynb\" target=\"_parent\"><img src=\"https://colab.research.google.com/assets/colab-badge.svg\" alt=\"Open In Colab\"/></a>"
      ]
    },
    {
      "cell_type": "markdown",
      "metadata": {
        "id": "dW3lSbsBxFzp"
      },
      "source": [
        "## Use this version as the most final\n",
        "\n",
        "creates model folder automatically"
      ]
    },
    {
      "cell_type": "markdown",
      "metadata": {
        "id": "6GKo9sXGKeri"
      },
      "source": [
        "to do - \n",
        "1. Batch size should be 10 (identical with UNet, PSPNet) - This batch size gives OOM. 7 is the max we can go with regular RAM\n",
        "2. Image size 512*512 : Is this really needed? We are not using imagenet weights anyway. - Updted to use the actual \n",
        "3. Shuffle the training and validation images. Use the code which was shared earlier. I think this will be beneficial."
      ]
    },
    {
      "cell_type": "markdown",
      "metadata": {
        "id": "DoAs-oCSzGI6"
      },
      "source": [
        "## we have to keep batchsize = 2 or more. It does not run with batch size 1. Image will be resized to 512*512\n",
        "## mask datatype is uint8. segments.ai semantic masks are uint8 and instance masks are uint16. We need to be careful about which type of masks are getting processed else it reads masks as 0. \n",
        "##the resize was changed to nearest. but we can check if thats needed. bilinear is default. So we can try to keep it as bilinera and that shld also work. With this run, objects were not coming up well. objects and background was getting mixed\n",
        "\n",
        "Run2 11/11 - Uncommented the 127.5-1 code. so now both image and masks are float 32. also changed the nearest back to bilnear. changed the batch size from 10 to 4. running with 50 epochs to see how it works.\n",
        "\n",
        "Train images - \n",
        "Val images - \n",
        "Test images \n",
        "Epochs - 500 \n",
        "Train time -\n",
        "\n",
        "##Run3 - \n",
        "Train images - 3438\n",
        "Val images - 982\n",
        "Test images - 492\n",
        "Epochs - 50 \n",
        "Train time - 3 hrs 49 min\n",
        "Test time - \n",
        "Any preloaded weights - NO. Imagenet weights are not used\n",
        "The masks are uint8. the code had it as uint16. Hence we were getting pixel values of 257. fixed that\n",
        "Model - deeplab-finalpapersubmission_V1\n",
        "\n",
        "##Run4 - \n",
        "Train images - 26081\n",
        "Val images - 7452\n",
        "Test images - 3726\n",
        "Epochs - 25(will break into 4 parts as this is a big dataset.  \n",
        "Train time - 10 hrs 40 min\n",
        "Test time - \n",
        "Any preloaded weights - NO. Imagenet weights are not used\n",
        "Model - deeplab-finalpapersubmission (the next ones will be submission2,3 and 4)\n",
        "infernce folder - IRDatasetFinal-Inferences\n",
        "loss: 0.0623 - accuracy: 0.9790 \n",
        "\n",
        "##Run5 - 2020 & 2021\n",
        "loss: 0.0361 - accuracy: 0.9873 - val_loss: 3.3841 - val_accuracy: 0.7209\n",
        "epochs - 50 \n",
        "ran with 2020 and 2021 dataset only \n",
        "Model - deeplab folder - deeplab-finalpapersubmission-2020only (there's another with 2020-only. need to check)\n",
        "training time - 9 hrs, 27 min"
      ]
    },
    {
      "cell_type": "markdown",
      "metadata": {
        "id": "FaETn9Z21S9y"
      },
      "source": [
        "# https://keras.io/examples/vision/deeplabv3_plus/"
      ]
    },
    {
      "cell_type": "code",
      "source": [
        "import zipfile\n",
        "from google.colab import drive\n",
        "drive.mount('/content/drive')"
      ],
      "metadata": {
        "colab": {
          "base_uri": "https://localhost:8080/"
        },
        "id": "gl9XF-Fty5RZ",
        "outputId": "1d917d90-9a03-44db-f3d8-3c731db068ae"
      },
      "execution_count": 1,
      "outputs": [
        {
          "output_type": "stream",
          "name": "stdout",
          "text": [
            "Mounted at /content/drive\n"
          ]
        }
      ]
    },
    {
      "cell_type": "code",
      "source": [
        "zip_ref = zipfile.ZipFile(\"/content/drive/MyDrive/IRDatasetConsolidated/train.zip\", \"r\")\n",
        "#zip_ref = zipfile.ZipFile(\"/content/drive/MyDrive/IRDatasetAfter2019/train.zip\", \"r\")\n",
        "zip_ref.extractall(\"/content/IRDatasetFinal\")\n",
        "zip_ref.close()\n",
        "\n",
        "zip_ref = zipfile.ZipFile(\"/content/drive/MyDrive/IRDatasetConsolidated/trainannot.zip\", \"r\")\n",
        "#zip_ref = zipfile.ZipFile(\"/content/drive/MyDrive/IRDatasetAfter2019/trainannot.zip\", \"r\")\n",
        "zip_ref.extractall(\"/content/IRDatasetFinal\")\n",
        "zip_ref.close()\n",
        "\n",
        "zip_ref = zipfile.ZipFile(\"/content/drive/MyDrive/IRDatasetConsolidated/val.zip\", \"r\")\n",
        "#zip_ref = zipfile.ZipFile(\"/content/drive/MyDrive/IRDatasetAfter2019/val.zip\", \"r\")\n",
        "zip_ref.extractall(\"/content/IRDatasetFinal\")\n",
        "zip_ref.close()\n",
        "\n",
        "zip_ref = zipfile.ZipFile(\"/content/drive/MyDrive/IRDatasetConsolidated/valannot.zip\", \"r\")\n",
        "#zip_ref = zipfile.ZipFile(\"/content/drive/MyDrive/IRDatasetAfter2019/valannot.zip\", \"r\")\n",
        "zip_ref.extractall(\"/content/IRDatasetFinal\")\n",
        "zip_ref.close()\n",
        "'''\n",
        "zip_ref = zipfile.ZipFile(\"/content/drive/MyDrive/IRDatasetAfter2019/test.zip\", \"r\")\n",
        "zip_ref.extractall(\"/content/IRDatasetFinal\")\n",
        "zip_ref.close()\n",
        "\n",
        "zip_ref = zipfile.ZipFile(\"/content/drive/MyDrive/IRDatasetAfter2019/testannot.zip\", \"r\")\n",
        "zip_ref.extractall(\"/content/IRDatasetFinal\")\n",
        "zip_ref.close()\n",
        "'''"
      ],
      "metadata": {
        "id": "ClQ6pwk4y6Cv",
        "colab": {
          "base_uri": "https://localhost:8080/",
          "height": 70
        },
        "outputId": "89d4e2d2-9c33-48dd-c71f-a0ce64f18f7d"
      },
      "execution_count": 2,
      "outputs": [
        {
          "output_type": "execute_result",
          "data": {
            "application/vnd.google.colaboratory.intrinsic+json": {
              "type": "string"
            },
            "text/plain": [
              "'\\nzip_ref = zipfile.ZipFile(\"/content/drive/MyDrive/IRDatasetAfter2019/test.zip\", \"r\")\\nzip_ref.extractall(\"/content/IRDatasetFinal\")\\nzip_ref.close()\\n\\nzip_ref = zipfile.ZipFile(\"/content/drive/MyDrive/IRDatasetAfter2019/testannot.zip\", \"r\")\\nzip_ref.extractall(\"/content/IRDatasetFinal\")\\nzip_ref.close()\\n'"
            ]
          },
          "metadata": {},
          "execution_count": 2
        }
      ]
    },
    {
      "cell_type": "code",
      "source": [
        "import os \n",
        "APP_FOLDER = '/content/IRDatasetFinal/train'\n",
        "totalFiles = 0\n",
        "totalDir = 0\n",
        "\n",
        "for base, dirs, files in os.walk(APP_FOLDER):\n",
        "    print('Searching in : ',base)\n",
        "    for directories in dirs:\n",
        "        totalDir += 1\n",
        "    for Files in files:\n",
        "        totalFiles += 1\n",
        "   \n",
        "\n",
        "print('Total number of files',totalFiles)\n",
        "print('Total Number of directories',totalDir)\n",
        "print('Total:',(totalDir + totalFiles))"
      ],
      "metadata": {
        "colab": {
          "base_uri": "https://localhost:8080/"
        },
        "id": "8LrEwKPVy545",
        "outputId": "a71c5642-029a-462b-86c7-ec2824f6b3bc"
      },
      "execution_count": 3,
      "outputs": [
        {
          "output_type": "stream",
          "name": "stdout",
          "text": [
            "Searching in :  /content/IRDatasetFinal/train\n",
            "Total number of files 27678\n",
            "Total Number of directories 0\n",
            "Total: 27678\n"
          ]
        }
      ]
    },
    {
      "cell_type": "code",
      "metadata": {
        "id": "675_gYSZ1X9M"
      },
      "source": [
        "import os\n",
        "import cv2\n",
        "import numpy as np\n",
        "from glob import glob\n",
        "from scipy.io import loadmat\n",
        "import matplotlib.pyplot as plt\n",
        "import random\n",
        "\n",
        "import tensorflow as tf\n",
        "from tensorflow import keras\n",
        "from tensorflow.keras import layers"
      ],
      "execution_count": 4,
      "outputs": []
    },
    {
      "cell_type": "markdown",
      "metadata": {
        "id": "83c9SFcwp5dM"
      },
      "source": [
        "Downloading the data We will use the Crowd Instance-level Human Parsing Dataset for training our model. The Crowd Instance-level Human Parsing (CIHP) dataset has 38,280 diverse human images. Each image in CIHP is labeled with pixel-wise annotations for 20 categories, as well as instance-level identification. This dataset can be used for the \"human part segmentation\" task."
      ]
    },
    {
      "cell_type": "code",
      "metadata": {
        "id": "t4GnbNOS1gOo"
      },
      "source": [
        "#!gdown https://drive.google.com/uc?id=1B9A9UCJYMwTL4oBEo4RZfbMZMaZhKJaz\n",
        "#!unzip -q instance-level-human-parsing.zip"
      ],
      "execution_count": null,
      "outputs": []
    },
    {
      "cell_type": "code",
      "metadata": {
        "id": "uGYmazAh-FGZ",
        "colab": {
          "base_uri": "https://localhost:8080/"
        },
        "outputId": "49cd14d6-8d14-4601-920a-450cb66f6c23"
      },
      "source": [
        "'''\n",
        "from google.colab import drive\n",
        "drive.mount('/content/drive', force_remount = True)\n",
        "# to copy files from google drive to colab memory\n",
        "#%cp -av /content/drive/MyDrive/TheIRDatasetMini/ TheIRDatasetMini\n",
        "'''"
      ],
      "execution_count": null,
      "outputs": [
        {
          "output_type": "stream",
          "name": "stdout",
          "text": [
            "Mounted at /content/drive\n"
          ]
        }
      ]
    },
    {
      "cell_type": "code",
      "metadata": {
        "id": "D60VHKzY2QWn",
        "colab": {
          "base_uri": "https://localhost:8080/"
        },
        "outputId": "9631af38-0430-4e8e-b0e1-41af7167f1a1"
      },
      "source": [
        "IMAGE_SIZE_WIDTH = 640\n",
        "IMAGE_SIZE_HEIGHT = 512\n",
        "BATCH_SIZE = 7\n",
        "NUM_CLASSES = 7\n",
        "#DATA_DIR = '/content/drive/MyDrive/TheIRDatasetMini_backup'\n",
        "DATA_DIR = '/content/IRDatasetFinal'\n",
        "#DATA_DIR = '/content/drive/MyDrive/TheIRDataset'\n",
        "#DATA_DIR = '/content/drive/MyDrive/IR -test'\n",
        "\n",
        "#VAL_DATA_DIR = \"./instance-level_human_parsing/instance-level_human_parsing/Training\"\n",
        "#NUM_TRAIN_IMAGES = 80\n",
        "#NUM_VAL_IMAGES = 10\n",
        "\n",
        "'''\n",
        "train_images = sorted(glob(os.path.join(DATA_DIR, \"train/*\")))[:NUM_TRAIN_IMAGES]\n",
        "train_masks = sorted(glob(os.path.join(DATA_DIR, \"trainannot/*\")))[:NUM_TRAIN_IMAGES]\n",
        "val_images = sorted(glob(os.path.join(DATA_DIR, \"train/*\")))[\n",
        "    NUM_TRAIN_IMAGES : NUM_VAL_IMAGES + NUM_TRAIN_IMAGES\n",
        "]\n",
        "val_masks = sorted(glob(os.path.join(DATA_DIR, \"trainannot/*\")))[\n",
        "    NUM_TRAIN_IMAGES : NUM_VAL_IMAGES + NUM_TRAIN_IMAGES\n",
        "]\n",
        "'''\n",
        "train_images = sorted(glob(os.path.join(DATA_DIR, \"train/*\"))) \n",
        "train_masks = sorted(glob(os.path.join(DATA_DIR, \"trainannot/*\"))) \n",
        "indices_train = random.sample(range(len(train_images)), len(train_images))\n",
        "train_images = list(map(train_images.__getitem__, indices_train))\n",
        "train_masks = list(map(train_masks.__getitem__, indices_train))\n",
        "print(\"type of train_images = \", type(train_images))\n",
        "\n",
        "val_images = sorted(glob(os.path.join(DATA_DIR, \"val/*\")))\n",
        "val_masks = sorted(glob(os.path.join(DATA_DIR, \"valannot/*\")))\n",
        "indices_val = random.sample(range(len(val_images)), len(val_images))\n",
        "val_images = list(map(val_images.__getitem__, indices_val))\n",
        "val_masks = list(map(val_masks.__getitem__, indices_val))\n",
        "\n",
        "#test_images = sorted(glob(os.path.join(DATA_DIR, \"test/*\")))\n",
        "#test_masks = sorted(glob(os.path.join(DATA_DIR, \"testannot/*\")))\n",
        "\n",
        "\n",
        "def read_image(image_path, mask=False):\n",
        "    image = tf.io.read_file(image_path)\n",
        "    print(\"image=\", image)\n",
        "    if mask:\n",
        "        image = tf.image.decode_png(image, channels=0, dtype=tf.uint8)\n",
        "        #print(\"mask 1st read\", image)\n",
        "        #print(\"Max value of mask as per tef.reduce are\", tf.reduce_max(image))\n",
        "        image.set_shape([None, None, 1])\n",
        "        #image = tf.cast(image, dtype=tf.float32)\n",
        "        #print(\"mask 2nd read\", image)\n",
        "        image = tf.image.resize(images=image, method= 'nearest', size=[IMAGE_SIZE_WIDTH, IMAGE_SIZE_HEIGHT])\n",
        "        #print(\"mask 3rd read after resize\", image)\n",
        "        #print('final image' ,image)\n",
        "        #print('unique values of tensor' , tf.unique(image))\n",
        "    else:\n",
        "        image = tf.image.decode_png(image, channels=3, dtype=tf.uint8)\n",
        "        #print(\"1st step in read image\", image)\n",
        "        image.set_shape([None, None, 3])\n",
        "        image = tf.cast(image, dtype=tf.float32)\n",
        "        #print(\"2nd step in read image\", image)\n",
        "        image = tf.image.resize(images=image, method= 'bilinear', size=[IMAGE_SIZE_WIDTH, IMAGE_SIZE_HEIGHT])\n",
        "        image = image / 127.5 - 1\n",
        "        #print(\"image looks like\", image)\n",
        "    return image\n",
        "\n",
        "\n",
        "def load_data(image_list, mask_list):\n",
        "    image = read_image(image_list)\n",
        "    mask = read_image(mask_list, mask=True)\n",
        "    return image, mask\n",
        "\n",
        "\n",
        "def data_generator(image_list, mask_list):\n",
        "    dataset = tf.data.Dataset.from_tensor_slices((image_list, mask_list))\n",
        "    dataset = dataset.map(load_data, num_parallel_calls=tf.data.AUTOTUNE)\n",
        "    dataset = dataset.batch(BATCH_SIZE, drop_remainder=True)\n",
        "    return dataset\n",
        "\n",
        "\n",
        "train_dataset = data_generator(train_images, train_masks)\n",
        "val_dataset = data_generator(val_images, val_masks)\n",
        "\n",
        "read_image(train_masks[20], mask=True)\n",
        "\n",
        "#print ((np.unique(cv2.imread(train_masks[1],cv2.IMREAD_UNCHANGED))))\n",
        "\n",
        "\n",
        "#print(\"Train Dataset:\", train_dataset)\n",
        "#print(\"Val Dataset:\", val_dataset)"
      ],
      "execution_count": 5,
      "outputs": [
        {
          "output_type": "stream",
          "name": "stdout",
          "text": [
            "type of train_images =  <class 'list'>\n",
            "image= Tensor(\"ReadFile:0\", shape=(), dtype=string)\n",
            "image= Tensor(\"ReadFile_1:0\", shape=(), dtype=string)\n",
            "image= Tensor(\"ReadFile:0\", shape=(), dtype=string)\n",
            "image= Tensor(\"ReadFile_1:0\", shape=(), dtype=string)\n",
            "image= tf.Tensor(b\"\\x89PNG\\r\\n\\x1a\\n\\x00\\x00\\x00\\rIHDR\\x00\\x00\\x02\\x80\\x00\\x00\\x02\\x00\\x08\\x00\\x00\\x00\\x007\\x16\\x82'\\x00\\x00\\x07\\xaeIDATx\\x9c\\xed\\xdd\\xdbz\\x9aZ\\x18\\x86Q\\xec#\\xbd\\xff\\xeb\\xadYy\\xd6\\x81\\x9b\\x80\\x82\\xb2\\x99\\xcc\\x0f\\xe3\\x18\\x07\\xab\\xb1\\x9a\\xd6\\x95\\xbc\\xf9\\xc1\\t\\xd8\\xc3\\xdffS\\xff\\x96~b\\xefy-\\xfeS\\xd8\\xbb\\xe3\\xa6\\x7f\\xbapxa\\xbb\\x00\\xff\\xfd]\\x95_\\xf7\\x937\\x9e\\xd2\\x04\\x1d6\\xfa\\xe6\\x9a}L\\xb2\\xcd\\x04\\x94\\x1f\\x13\\xfdI?\\x01>\\xdb\\x16\\x13\\xd0\\xfcc\\xb2\\xe2\\x01\\xaa\\x8f9\\x8a\\x06(>\\xe6*\\x18\\xa0\\xfc\\x98\\xafX\\x80\\xf2c\\x89B\\x01\\xca\\x8fe\\x8a\\x04(?\\x96Z\\x1b\\xa0\\xf6X\\xc5B4Q\\xeb&\\xa0\\xf9\\xc7Jk\\x02\\x94\\x1f\\xab\\xad\\xd8\\x04\\xeb\\x8f\\xf5\\x16O@\\xf9Q\\xc2\\x82\\x00\\xa5G9\\xb3\\x03\\x94\\x1f%\\xcd\\x0cP~\\x945+@\\xf9Q\\xda\\x8c\\x00\\xe5Gy\\x8e\\x84\\x105u\\x02\\x1a\\x7flbR\\x80\\xeac+\\x13\\x02\\x94\\x1f\\xdby\\x19\\xa0\\xfc\\xd8\\xd2\\x8b\\x00\\xe5\\xc7\\xb6\\x9e\\x04(>\\xb67\\x16\\xa0\\xfa\\xa8b0@\\xf5Q\\x8b\\x85h\\xa2\\x86\\x024\\x00\\xa9\\xe6q\\x13,?*\\xea\\x07(>*\\xeb\\x06(?\\xaa\\xfb\\tP~\\x04\\\\\\x02T\\x1f\\x19\\xc7\\xa6\\x91\\x1fA\\xfe\\t\\x04\\x00\\x00\\x00\\x00\\x00\\x00\\x00\\x00\\x00\\x00\\x00\\x00\\x00\\x00\\x00\\x00\\x00\\x00\\x00\\x00\\x00\\x00\\x00\\x00\\x00\\x00\\x00\\x00\\x00\\x00\\x00\\x00\\x00\\x00\\x00\\x00\\x00\\x00\\x00\\x00\\x00\\x00\\x00\\x00\\x00\\x00\\x00\\x00\\x00\\x00\\x00\\x00\\x00\\x00\\x00\\x00\\x00\\x00\\x00\\x00\\x00\\x00\\x00\\x00\\x00\\x00\\x00\\x00\\x00\\x00\\x00\\x00\\x00\\x00\\x00\\x00\\x00\\x00\\x00\\x00\\x00\\x00\\x00\\x00\\x00\\x00\\x00\\x00\\x00\\x00\\x00\\x00\\x00\\x00\\x00\\x00\\x00\\x00\\x00\\x00\\x00\\x00\\x00\\x00\\x00\\x00\\x00\\x00\\x00\\x00V9\\x8c\\xdf\\xd56Ms\\xaa\\xf6D\\xf8L\\x7f\\xd2O\\x80\\xcf6\\x1e`[\\xf1Y\\xf0\\xb1L@\\xa2\\x04H\\xd4h\\x80\\xb6\\xc0\\xd4`\\x02\\x12%@\\xa2\\xc6\\x02\\xb4\\x05\\xf6\\x15\\xa8\\xc2\\x04\\x1c\\xd6\\xb6\\n\\xacB\\x80C\\xda\\xb6i\\xcc\\xc0*\\x8e\\xe9'\\xb0??\\xdd\\xb5\\x8eDn\\xce\\x04\\xbcg\\xeeU%@\\xa2\\x04x\\xa7\\x1d\\xbd\\xc1\\x16\\x04\\xd8'\\xb9\\xca\\x0e\\xe7\\xaf\\xf8eo\\xfb\\xe7\\xc6\\xf5\\x1b\\xd1\\xfd\\xf8\\xf7\\x9f\\x1dx\\x9f\\xdf\\xaf\\xff\\x1f\\xce;,\\xfd\\x91\\xcf}o\\xda\\xfe\\xdf]\\xf0\\xbc\\xd9\\x87\\xaf\\x85\\x007\\xb7x\\x19\\xa6\\xf7\\xcdz\\xf1\\x8djo\\x8fi\\x7f\\x1e\\xbft\\xae\\xb6\\x8f\\x7f=\\xef\\xab\\xcc:\\xe0u(\\xb5\\xfd\\xce\\xee\\x1e3\\xfc\\xf1\\xc0\\x1f\\xc3\\xe7X\\xbc\\t\\xde\\xd4\\xb3\\x0e\\xcf\\x9b\\xdc\\xbb\\xa7]&\\\\\\x9b\\xe0\\xfa\\xf6\\xf9*\\xf8\\xc9O\\xc5.\\x7f`X\\xec\\xd8|\\x9d\\x7f\\xd9\\x95\\xd3mc\\xde4M\\xe7\\xe3\\xd1\\xfal\\xbc\\xdf\\xd5>' \\x1f\\xe3\\xf0xapw\\x1a~\\xad\\x1c\\x8d\\xdf\\x97_kt\\xbe~\\x06\\xda\\x07\\xaco \\xc0Q\\x0bb\\xbc\\x06\\xf8\\x1e\\x05\\n\\xb0\\xbe9Q}-\\xfd\\xc4\\xa6i\\xbek\\x14\\xd8\\tH:ob\\xce\\x04\\x9c\\xa4\\x17\\xe6\\xf7\\xcf\\x87\\xc1\\x9d\\xcd\\xc91\\x9a\\x80\\xf5\\x15\\x7f\\xf9\\xdb\\x1d\\x93;ym=\\xf5\\xa0\\x8d\\x15\\x9e\\x80\\xe2\\x13p\\xc0\\x9f\\xa6\\xe9\\r\\xc3\\xdd\\x94ywDph\\x00Z\\xdf\\xd9X\\x8d\\x00\\x9f\\xdbI\\x8c\\xf3)\\xb3\\x84|\\x80c~A\\x98\\xadJ_\\xb2\\x10M\\xd4~'`\\xcf\\xdb\\x8e\\xc3\\x0e\\xc3p\\xc8\\x9b\\x04\\xd8u\\x1cy\\xa1\\xbd\\xf6\\xa8M\\xccG\\x97\\xf9\\x86\\x01NR1\\xc6\\xef\\xa6\\xe4\\x9e\\xcc\\xfdy\\xbbK\\xf4.\\xb3\\xd8\\xb9\\xdf\\x1a`\\xd7\\xb1\\xb38Y8\\xcc\\x8a\\xc7\\xba\\xa7\\xf7\\xf4V\\x07\\x84>!\\xc0Q\\xc7\\xa6\\xb9\\xad\\x9c/)\\xb3\\xbb\\xb6Y\\xf3\\xd5\\xdc\\xf3\\xac\\xba\\xcb\\x99\\x8f\\x8f\\xdc\\xdb\\xbb=|t\\x80\\xa3\\xae5~=\\r\\xf3\\xfb\\xfe7\\x12K\\n\\x03\\x89=\\xb9s\\xe5\\xb6}\\x03\\xef\\xba\\xe3\\xbe\\xad\\xaf\\xc1\\x0fw\\xf9\\xd5\\x9asq\\xd8\\x0e\\xfb3\\x01Wx\\x1cx\\xbb]U\\xbd]3\\xd6\\xb9\\xb5\\x0f\\x02,\\xe2R\\xdew\\xd3\\x9c\\xc7\\xe4mn\\xeeif\\x9e\\xf6\\xf8\\x0e\\x03\\xbb\\xfd\\x99\\xe53\\x98\\x80\\xd5\\xdc\\x86\\xe1\\xf3\\x976U\\xe5G\\xa1\\x00\\xf3vRc\\xef-\\x05\\xba\\x97!nZ\\xa9\\x00\\xf7e\\xec8\\xe3^\\x14\\x8fQ\\x80\\xef\\xe1\\xd2\\xe2W\\xf7F\\xda\\x94\\x18\\x9f\\xac{\\x9f\\xef\\x12\\xe0\\x9b\\xeb\\x9e\\x8d\\x11)\\xf3\\xbc\\x1c\\xff\\xdf\\xe5\\xd6u\\x9b\\xfd\\xea\\xf2\\x9a\\xdb\\xe1j\\x01\\xfeV\\x95b\\x9cu4\\xbc\\xfbf\\x17\\x97\\xdf\\x10\\xe0'\\xe8.M\\x96\\x0es\\xf6\\xf9\\x18\\xfd\\xf9(\\xc0O\\xd6]\\x19ZZ\\xe6\\xca\\x13\\x82,D\\x13e\\x022`\\xce4\\xbc\\x8c\\xc0\\x85\\xa3L\\x80\\xbc\\xd2]\\x9b\\x1c(s\\xdd6X\\x80\\x94\\xf0\\xe7'\\xc0y\\xabA\\x02dS\\x9ds{\\x07\\xc3\\x14 \\x11\\xd7\\x18\\x05H\\x94e\\x18\\xa2\\x04H\\x94\\x00\\x89\\x12 Q\\x02$J\\x80D\\t\\x90(\\x01\\x12%@\\xa2\\x04H\\x94\\x00\\x89\\x12 Q\\x02$J\\x80D\\t\\x90(\\x01\\x12%@\\xa2\\x04H\\x94\\x00\\x89\\x12 Q\\x02$J\\x80D\\t\\x90(\\x01\\x12%@\\xa2\\x04H\\x94\\x00\\x89\\x12 Q\\x02$J\\x80D\\t\\x90(\\x01\\x12%@\\xa2\\x04H\\x94\\x00\\x89\\x12 Q\\x02$J\\x80D\\t\\x90(\\x01\\x12%@\\xa2\\x04H\\x94\\x00\\x89\\x12 Q\\x02$J\\x80D\\t\\x90(\\x01\\x12%@\\xa2\\x04H\\x94\\x00\\x89\\x12 Q\\x02$J\\x80D\\t\\x90(\\x01\\x12%@\\xa2\\x04H\\x94\\x00\\x89\\x12 Q\\x02$J\\x80D\\t\\x90(\\x01\\x12%@\\xa2\\x04H\\x94\\x00\\x89\\x12 Q\\x02$J\\x80D\\t\\x90(\\x01\\x12%@\\xa2\\x04H\\x94\\x00\\x89\\x12 Q\\x02$J\\x80D\\t\\x90(\\x01\\x12%@\\xa2\\x04H\\x94\\x00\\x89\\x12 Q\\x02$J\\x80D\\t\\x90(\\x01\\x12%@\\xa2\\x04H\\x94\\x00\\x89\\x12 Q\\x02$J\\x80D\\t\\x90(\\x01\\x12%@\\xa2\\x04H\\x94\\x00\\x89\\x12 Q\\x02$J\\x80D\\t\\x90(\\x01\\x12%@\\xa2\\x04H\\x94\\x00\\x89\\x12 Q\\x02$J\\x80D\\t\\x90(\\x01\\x12%@\\xa2\\x04H\\x94\\x00\\x89\\x12 Q\\x02$J\\x80D\\t\\x90(\\x01\\x12%@\\xa2\\x04H\\x94\\x00\\x89\\x12 Q\\x02$J\\x80D\\t\\x90(\\x01\\x12%@\\xa2\\x04H\\x94\\x00\\x89\\x12 Q\\x02$J\\x80D\\t\\x90(\\x01\\x12%@\\xa2\\x04H\\x94\\x00\\x89\\x12 Q\\x02$J\\x80D\\t\\x90(\\x01\\x12%@\\xa2\\x04H\\x94\\x00\\x89\\x12 Q\\x02$J\\x80D\\t\\x90(\\x01\\x12%@\\xa2\\x04H\\x94\\x00\\x89\\x12 Q\\x02$J\\x80D\\t\\x90\\xcd\\xb5O\\xee;\\x1c\\xaa=\\r>\\xd3%\\xbf\\xd3\\xf0\\xbd\\x02d[\\xfd\\xf1\\xf7\\x90\\xa1M05=l\\x8d\\x05\\xc8\\xa6\\xee\\x8b\\xbb\\xbf-@\\xa2\\x04H\\x94\\x00\\x89:\\xa6\\x9f\\x00\\xbf\\xd9\\xb3\\x15\\xc03\\x13\\x90(\\x01\\x12%@\\xa2\\x04H]w\\xbb\\x85\\x02$J\\x80\\xd4uw4X\\x80D\\t\\x90(\\x01\\xb2\\x9d\\xd7\\xeb\\xd0\\x02\\xa4\\xae\\xfb\\x13\\x02\\x05H\\x94\\x00\\xd9\\xcc\\x84-\\xb0\\x00\\xa9\\xca)\\xf9\\xec\\x8b\\x00\\xa9\\xe8\\xf1\\xd28\\xe7\\x03\\xb2\\xc4m\\xf7n\\xe4j\\xcb\\xc9L@\\xa2\\\\\\x17\\xcc\\x12C/pO\\xaf\\x1f\\xf2\\xf8(\\x9b`J\\xe9\\x157\\xbain{\\x0fjM@\\x96\\x98\\xb2\\xc47\\x89\\x00Yem\\x89\\x02\\xa4\\x94E-\\xda\\x07\\xa4\\xbe\\xeb\\x0eb\\xdb\\x9c\\x04H\\xce\\xc9: a\\x02$J\\x80D\\t\\x90(\\xcb0\\x943y!\\xe6\\xe78\\x89\\tH\\x94\\x00\\xa9\\xafs\\xa0X\\x80D\\t\\x90r&\\x9e\\x9d\\xda}\\x98\\x00\\x89\\x12 \\xb5\\xf5\\xe6\\xa4\\x00\\x89\\x12 \\xe5,8!K\\x80\\x943\\xe9EH\\xffA\\x02\\xa4.oP\\xc9\\x9e\\x08\\x90\\xaa\\xbc=\\x1b\\x1bz\\xb9\\x13\\xe8\\xcd\\x89\\xd8\\x17\\x01R\\xd1\\xe3\\x84\\x14 Q\\x02$J\\x80\\x94\\xf4\\xfcU\\xc8\\xc0\\xbd\\x02$J\\x80D\\t\\x90\\x92\\x9e\\x9e\\x8e0\\xb4}vU\\x1cE=?!\\xe61A\\x01R\\xd0\\xcb\\xf3\\xb1\\x1e\\n\\x14 %L?\\x13\\xf0.A\\x01\\xb2\\xda\\xdc\\xf3P]\\x94\\xc4n\\x98\\x80\\xac\\xb4\\xe8\\x8dQoCP\\x80,\\xd56\\xcdi\\xd5[D\\x9f\\x1ao\\xd1\\xcbR\\xed\\xed?\\xab\\x98\\x80,P\\xec_i8\\t\\x90Y\\xda\\x95\\x9b\\xdd{\\x02d\\xaa\\xa2\\xe1]\\xd9\\x07d\\x9aM\\xf2\\x13 \\xaf\\x95\\xde\\xea\\xf6X\\x88&\\xca> Om7\\xfb\\xcel\\x82\\x19\\xb5u|Mc\\x13\\xcc\\xb0\\xb6i\\xda\\x1a\\xfd\\xd9\\x04\\xf3\\xa8Jy\\x17\\xff\\x03v\\xbd\\xc1\\xc2\\xbe\\xf0\\xe4n\\x00\\x00\\x00\\x00IEND\\xaeB`\\x82\", shape=(), dtype=string)\n"
          ]
        },
        {
          "output_type": "execute_result",
          "data": {
            "text/plain": [
              "<tf.Tensor: shape=(640, 512, 1), dtype=uint8, numpy=\n",
              "array([[[6],\n",
              "        [6],\n",
              "        [6],\n",
              "        ...,\n",
              "        [0],\n",
              "        [0],\n",
              "        [0]],\n",
              "\n",
              "       [[6],\n",
              "        [6],\n",
              "        [6],\n",
              "        ...,\n",
              "        [0],\n",
              "        [0],\n",
              "        [0]],\n",
              "\n",
              "       [[6],\n",
              "        [6],\n",
              "        [6],\n",
              "        ...,\n",
              "        [0],\n",
              "        [0],\n",
              "        [0]],\n",
              "\n",
              "       ...,\n",
              "\n",
              "       [[1],\n",
              "        [1],\n",
              "        [1],\n",
              "        ...,\n",
              "        [6],\n",
              "        [6],\n",
              "        [6]],\n",
              "\n",
              "       [[1],\n",
              "        [1],\n",
              "        [1],\n",
              "        ...,\n",
              "        [6],\n",
              "        [6],\n",
              "        [6]],\n",
              "\n",
              "       [[1],\n",
              "        [1],\n",
              "        [1],\n",
              "        ...,\n",
              "        [6],\n",
              "        [6],\n",
              "        [6]]], dtype=uint8)>"
            ]
          },
          "metadata": {},
          "execution_count": 5
        }
      ]
    },
    {
      "cell_type": "code",
      "metadata": {
        "id": "d1bYkHXoCv4i"
      },
      "source": [
        "#print(train_masks)\n",
        "print(train_images)\n",
        "print(train_masks)"
      ],
      "execution_count": null,
      "outputs": []
    },
    {
      "cell_type": "code",
      "metadata": {
        "id": "M-2OJmow2VhG"
      },
      "source": [
        "def convolution_block(\n",
        "    block_input,\n",
        "    num_filters=256,\n",
        "    kernel_size=3,\n",
        "    dilation_rate=1,\n",
        "    padding=\"same\",\n",
        "    use_bias=False,\n",
        "):\n",
        "    x = layers.Conv2D(\n",
        "        num_filters,\n",
        "        kernel_size=kernel_size,\n",
        "        dilation_rate=dilation_rate,\n",
        "        padding=\"same\",\n",
        "        use_bias=use_bias,\n",
        "        kernel_initializer=keras.initializers.HeNormal(),\n",
        "    )(block_input)\n",
        "    x = layers.BatchNormalization()(x)\n",
        "    return tf.nn.relu(x)\n",
        "\n",
        "\n",
        "def DilatedSpatialPyramidPooling(dspp_input):\n",
        "    dims = dspp_input.shape\n",
        "    x = layers.AveragePooling2D(pool_size=(dims[-3], dims[-2]))(dspp_input)\n",
        "    x = convolution_block(x, kernel_size=1, use_bias=True)\n",
        "    out_pool = layers.UpSampling2D(\n",
        "        size=(dims[-3] // x.shape[1], dims[-2] // x.shape[2]), interpolation=\"bilinear\",\n",
        "    )(x)\n",
        "\n",
        "    out_1 = convolution_block(dspp_input, kernel_size=1, dilation_rate=1)\n",
        "    out_6 = convolution_block(dspp_input, kernel_size=3, dilation_rate=6)\n",
        "    out_12 = convolution_block(dspp_input, kernel_size=3, dilation_rate=12)\n",
        "    out_18 = convolution_block(dspp_input, kernel_size=3, dilation_rate=18)\n",
        "\n",
        "    x = layers.Concatenate(axis=-1)([out_pool, out_1, out_6, out_12, out_18])\n",
        "    output = convolution_block(x, kernel_size=1)\n",
        "    return output\n"
      ],
      "execution_count": 6,
      "outputs": []
    },
    {
      "cell_type": "code",
      "metadata": {
        "id": "fp4GSu2r2cIi"
      },
      "source": [
        "def DeeplabV3Plus(image_size_width, image_size_height, num_classes):\n",
        "    model_input = keras.Input(shape=(image_size_width, image_size_height, 3))\n",
        "    resnet50 = keras.applications.ResNet50(\n",
        "        #weights=\"imagenet\", include_top=False, input_tensor=model_input - removed imagenet weights\n",
        "        weights=None, include_top=False, input_tensor=model_input\n",
        "    )\n",
        "    x = resnet50.get_layer(\"conv4_block6_2_relu\").output\n",
        "    x = DilatedSpatialPyramidPooling(x)\n",
        "\n",
        "    print(\"x shape 1 value\", x.shape[1] )\n",
        "    print(\"x shape 2 value\", x.shape[2] )\n",
        "\n",
        "    print(\"size is\", image_size_width // 4 // x.shape[1], image_size_height // 4 // x.shape[2])\n",
        "\n",
        "    input_a = layers.UpSampling2D(\n",
        "        size=(image_size_width // 4 // x.shape[1], image_size_height // 4 // x.shape[2]),\n",
        "        interpolation=\"bilinear\",\n",
        "    )(x)\n",
        "    \n",
        "    input_b = resnet50.get_layer(\"conv2_block3_2_relu\").output\n",
        "    input_b = convolution_block(input_b, num_filters=48, kernel_size=1)\n",
        "\n",
        "    x = layers.Concatenate(axis=-1)([input_a, input_b])\n",
        "    x = convolution_block(x)\n",
        "    x = convolution_block(x)\n",
        "    x = layers.UpSampling2D(\n",
        "        size=(image_size_width // x.shape[1], image_size_height // x.shape[2]),\n",
        "        interpolation=\"bilinear\",\n",
        "    )(x)\n",
        "    model_output = layers.Conv2D(num_classes, kernel_size=(1, 1), padding=\"same\")(x)\n",
        "    return keras.Model(inputs=model_input, outputs=model_output)\n",
        "\n",
        "\n",
        "model = DeeplabV3Plus(image_size_width=IMAGE_SIZE_WIDTH, \n",
        "                      image_size_height=IMAGE_SIZE_HEIGHT,\n",
        "                      num_classes=NUM_CLASSES)\n",
        "model.summary()"
      ],
      "execution_count": null,
      "outputs": []
    },
    {
      "cell_type": "code",
      "metadata": {
        "id": "-Jv41GSo2fm6",
        "colab": {
          "base_uri": "https://localhost:8080/",
          "height": 1000
        },
        "outputId": "f56fcb63-8759-4c36-9027-48abf655abbf"
      },
      "source": [
        "#### This is the training cell\n",
        "loss = keras.losses.SparseCategoricalCrossentropy(from_logits=True)\n",
        "model.compile(\n",
        "    optimizer=keras.optimizers.Adam(learning_rate=0.001),\n",
        "    loss=loss,\n",
        "    metrics=[\"accuracy\"],\n",
        ")\n",
        "\n",
        "my_callbacks = [\n",
        "    #tf.keras.callbacks.TensorBoard(log_dir='/content/drive/MyDrive/Logs/Unet-7classes-finalpapersubmission'),\n",
        "    #keras.callbacks.ModelCheckpoint(\"/content/drive/MyDrive/Models/deeplab/deeplab-finalpapersubmission-20201only\", save_freq = 'epoch', save_best_only=True)\n",
        "    #keras.callbacks.ModelCheckpoint(\"/content/drive/MyDrive/Models/deeplab/deeplab-revisedcode-2020only\", save_freq = 'epoch', save_best_only=True)\n",
        "    keras.callbacks.ModelCheckpoint(\"/content/drive/MyDrive/Models/deeplab/deeplab-7classes-finalpapersubmission_2019&2020_shuffled\", save_freq = 'epoch', save_best_only=True)\n",
        "]\n",
        "history = model.fit(train_dataset, validation_data=val_dataset, callbacks = my_callbacks, epochs=25)\n",
        "plt.plot(history.history[\"loss\"])\n",
        "plt.title(\"Training Loss\")\n",
        "plt.ylabel(\"loss\")\n",
        "plt.xlabel(\"epoch\")\n",
        "#plt.show()\n",
        "\n",
        "plt.plot(history.history[\"accuracy\"])\n",
        "plt.title(\"Training Accuracy\")\n",
        "plt.ylabel(\"accuracy\")\n",
        "plt.xlabel(\"epoch\")\n",
        "#plt.show()\n",
        "\n",
        "plt.plot(history.history[\"val_loss\"])\n",
        "plt.title(\"Validation Loss\")\n",
        "plt.ylabel(\"val_loss\")\n",
        "plt.xlabel(\"epoch\")\n",
        "#plt.show()\n",
        "\n",
        "plt.plot(history.history[\"val_accuracy\"])\n",
        "plt.title(\"Validation Accuracy\")\n",
        "plt.ylabel(\"val_accuracy\")\n",
        "plt.xlabel(\"epoch\")\n",
        "#plt.show()\n",
        "\n",
        "#model.save(\"/content/drive/MyDrive/Models/deeplab/deeplab-finalpapersubmission-2020only\")"
      ],
      "execution_count": 8,
      "outputs": [
        {
          "output_type": "stream",
          "name": "stdout",
          "text": [
            "Epoch 1/25\n",
            "3954/3954 [==============================] - ETA: 0s - loss: 0.1603 - accuracy: 0.9466INFO:tensorflow:Assets written to: /content/drive/MyDrive/Models/deeplab/deeplab-7classes-finalpapersubmission_2019&2020_shuffled/assets\n"
          ]
        },
        {
          "output_type": "stream",
          "name": "stderr",
          "text": [
            "/usr/local/lib/python3.7/dist-packages/keras/engine/functional.py:1410: CustomMaskWarning: Custom mask layers require a config and must override get_config. When loading, the custom mask layer must be passed to the custom_objects argument.\n",
            "  layer_config = serialize_layer_fn(layer)\n",
            "/usr/local/lib/python3.7/dist-packages/keras/saving/saved_model/layer_serialization.py:112: CustomMaskWarning: Custom mask layers require a config and must override get_config. When loading, the custom mask layer must be passed to the custom_objects argument.\n",
            "  return generic_utils.serialize_keras_object(obj)\n"
          ]
        },
        {
          "output_type": "stream",
          "name": "stdout",
          "text": [
            "\b\b\b\b\b\b\b\b\b\b\b\b\b\b\b\b\b\b\b\b\b\b\b\b\b\b\b\b\b\b\b\b\b\b\b\b\b\b\b\b\b\b\b\b\b\b\b\b\b\b\b\b\b\b\b\b\b\b\b\b\b\b\b\b\b\b\b\b\b\b\b\b\b\b\b\b\b\b\b\b\b\b\b\b\b\b\r3954/3954 [==============================] - 2057s 515ms/step - loss: 0.1603 - accuracy: 0.9466 - val_loss: 0.1384 - val_accuracy: 0.9535\n",
            "Epoch 2/25\n",
            "3954/3954 [==============================] - ETA: 0s - loss: 0.0887 - accuracy: 0.9687INFO:tensorflow:Assets written to: /content/drive/MyDrive/Models/deeplab/deeplab-7classes-finalpapersubmission_2019&2020_shuffled/assets\n"
          ]
        },
        {
          "output_type": "stream",
          "name": "stderr",
          "text": [
            "/usr/local/lib/python3.7/dist-packages/keras/engine/functional.py:1410: CustomMaskWarning: Custom mask layers require a config and must override get_config. When loading, the custom mask layer must be passed to the custom_objects argument.\n",
            "  layer_config = serialize_layer_fn(layer)\n",
            "/usr/local/lib/python3.7/dist-packages/keras/saving/saved_model/layer_serialization.py:112: CustomMaskWarning: Custom mask layers require a config and must override get_config. When loading, the custom mask layer must be passed to the custom_objects argument.\n",
            "  return generic_utils.serialize_keras_object(obj)\n"
          ]
        },
        {
          "output_type": "stream",
          "name": "stdout",
          "text": [
            "\b\b\b\b\b\b\b\b\b\b\b\b\b\b\b\b\b\b\b\b\b\b\b\b\b\b\b\b\b\b\b\b\b\b\b\b\b\b\b\b\b\b\b\b\b\b\b\b\b\b\b\b\b\b\b\b\b\b\b\b\b\b\b\b\b\b\b\b\b\b\b\b\b\b\b\b\b\b\b\b\b\b\b\b\b\b\r3954/3954 [==============================] - 2034s 514ms/step - loss: 0.0887 - accuracy: 0.9687 - val_loss: 0.0958 - val_accuracy: 0.9674\n",
            "Epoch 3/25\n",
            "3954/3954 [==============================] - ETA: 0s - loss: 0.0645 - accuracy: 0.9766INFO:tensorflow:Assets written to: /content/drive/MyDrive/Models/deeplab/deeplab-7classes-finalpapersubmission_2019&2020_shuffled/assets\n"
          ]
        },
        {
          "output_type": "stream",
          "name": "stderr",
          "text": [
            "/usr/local/lib/python3.7/dist-packages/keras/engine/functional.py:1410: CustomMaskWarning: Custom mask layers require a config and must override get_config. When loading, the custom mask layer must be passed to the custom_objects argument.\n",
            "  layer_config = serialize_layer_fn(layer)\n",
            "/usr/local/lib/python3.7/dist-packages/keras/saving/saved_model/layer_serialization.py:112: CustomMaskWarning: Custom mask layers require a config and must override get_config. When loading, the custom mask layer must be passed to the custom_objects argument.\n",
            "  return generic_utils.serialize_keras_object(obj)\n"
          ]
        },
        {
          "output_type": "stream",
          "name": "stdout",
          "text": [
            "\b\b\b\b\b\b\b\b\b\b\b\b\b\b\b\b\b\b\b\b\b\b\b\b\b\b\b\b\b\b\b\b\b\b\b\b\b\b\b\b\b\b\b\b\b\b\b\b\b\b\b\b\b\b\b\b\b\b\b\b\b\b\b\b\b\b\b\b\b\b\b\b\b\b\b\b\b\b\b\b\b\b\b\b\b\b\r3954/3954 [==============================] - 2046s 518ms/step - loss: 0.0645 - accuracy: 0.9766 - val_loss: 0.0939 - val_accuracy: 0.9702\n",
            "Epoch 4/25\n",
            "3954/3954 [==============================] - ETA: 0s - loss: 0.0523 - accuracy: 0.9807INFO:tensorflow:Assets written to: /content/drive/MyDrive/Models/deeplab/deeplab-7classes-finalpapersubmission_2019&2020_shuffled/assets\n"
          ]
        },
        {
          "output_type": "stream",
          "name": "stderr",
          "text": [
            "/usr/local/lib/python3.7/dist-packages/keras/engine/functional.py:1410: CustomMaskWarning: Custom mask layers require a config and must override get_config. When loading, the custom mask layer must be passed to the custom_objects argument.\n",
            "  layer_config = serialize_layer_fn(layer)\n",
            "/usr/local/lib/python3.7/dist-packages/keras/saving/saved_model/layer_serialization.py:112: CustomMaskWarning: Custom mask layers require a config and must override get_config. When loading, the custom mask layer must be passed to the custom_objects argument.\n",
            "  return generic_utils.serialize_keras_object(obj)\n"
          ]
        },
        {
          "output_type": "stream",
          "name": "stdout",
          "text": [
            "\b\b\b\b\b\b\b\b\b\b\b\b\b\b\b\b\b\b\b\b\b\b\b\b\b\b\b\b\b\b\b\b\b\b\b\b\b\b\b\b\b\b\b\b\b\b\b\b\b\b\b\b\b\b\b\b\b\b\b\b\b\b\b\b\b\b\b\b\b\b\b\b\b\b\b\b\b\b\b\b\b\b\b\b\b\b\r3954/3954 [==============================] - 2047s 518ms/step - loss: 0.0523 - accuracy: 0.9807 - val_loss: 0.0856 - val_accuracy: 0.9744\n",
            "Epoch 5/25\n",
            "3954/3954 [==============================] - 2024s 512ms/step - loss: 0.0440 - accuracy: 0.9833 - val_loss: 0.1546 - val_accuracy: 0.9622\n",
            "Epoch 6/25\n",
            "3954/3954 [==============================] - ETA: 0s - loss: 0.0394 - accuracy: 0.9849INFO:tensorflow:Assets written to: /content/drive/MyDrive/Models/deeplab/deeplab-7classes-finalpapersubmission_2019&2020_shuffled/assets\n"
          ]
        },
        {
          "output_type": "stream",
          "name": "stderr",
          "text": [
            "/usr/local/lib/python3.7/dist-packages/keras/engine/functional.py:1410: CustomMaskWarning: Custom mask layers require a config and must override get_config. When loading, the custom mask layer must be passed to the custom_objects argument.\n",
            "  layer_config = serialize_layer_fn(layer)\n",
            "/usr/local/lib/python3.7/dist-packages/keras/saving/saved_model/layer_serialization.py:112: CustomMaskWarning: Custom mask layers require a config and must override get_config. When loading, the custom mask layer must be passed to the custom_objects argument.\n",
            "  return generic_utils.serialize_keras_object(obj)\n"
          ]
        },
        {
          "output_type": "stream",
          "name": "stdout",
          "text": [
            "\b\b\b\b\b\b\b\b\b\b\b\b\b\b\b\b\b\b\b\b\b\b\b\b\b\b\b\b\b\b\b\b\b\b\b\b\b\b\b\b\b\b\b\b\b\b\b\b\b\b\b\b\b\b\b\b\b\b\b\b\b\b\b\b\b\b\b\b\b\b\b\b\b\b\b\b\b\b\b\b\b\b\b\b\b\b\r3954/3954 [==============================] - 2036s 515ms/step - loss: 0.0394 - accuracy: 0.9849 - val_loss: 0.0850 - val_accuracy: 0.9777\n",
            "Epoch 7/25\n",
            "3954/3954 [==============================] - 2024s 512ms/step - loss: 0.0362 - accuracy: 0.9859 - val_loss: 0.0897 - val_accuracy: 0.9769\n",
            "Epoch 8/25\n",
            "3954/3954 [==============================] - 2013s 509ms/step - loss: 0.0332 - accuracy: 0.9870 - val_loss: 0.0872 - val_accuracy: 0.9789\n",
            "Epoch 9/25\n",
            "3954/3954 [==============================] - 2026s 512ms/step - loss: 0.0311 - accuracy: 0.9877 - val_loss: 0.0925 - val_accuracy: 0.9788\n",
            "Epoch 10/25\n",
            "3954/3954 [==============================] - 2026s 512ms/step - loss: 0.0293 - accuracy: 0.9883 - val_loss: 0.0935 - val_accuracy: 0.9787\n",
            "Epoch 11/25\n",
            "3954/3954 [==============================] - 2025s 512ms/step - loss: 0.0278 - accuracy: 0.9888 - val_loss: 0.0922 - val_accuracy: 0.9792\n",
            "Epoch 12/25\n",
            "3954/3954 [==============================] - 2026s 512ms/step - loss: 0.0255 - accuracy: 0.9896 - val_loss: 0.0947 - val_accuracy: 0.9767\n",
            "Epoch 13/25\n",
            "3954/3954 [==============================] - 2024s 512ms/step - loss: 0.0253 - accuracy: 0.9897 - val_loss: 0.0993 - val_accuracy: 0.9795\n",
            "Epoch 14/25\n",
            "3954/3954 [==============================] - 2025s 512ms/step - loss: 0.0229 - accuracy: 0.9906 - val_loss: 0.1117 - val_accuracy: 0.9756\n",
            "Epoch 15/25\n",
            "3954/3954 [==============================] - 2023s 512ms/step - loss: 0.0214 - accuracy: 0.9911 - val_loss: 0.1069 - val_accuracy: 0.9795\n",
            "Epoch 16/25\n",
            "3954/3954 [==============================] - 2015s 510ms/step - loss: 0.0203 - accuracy: 0.9915 - val_loss: 0.1128 - val_accuracy: 0.9792\n",
            "Epoch 17/25\n",
            "3954/3954 [==============================] - 2016s 510ms/step - loss: 0.0226 - accuracy: 0.9908 - val_loss: 0.1077 - val_accuracy: 0.9801\n",
            "Epoch 18/25\n",
            "3954/3954 [==============================] - 2024s 512ms/step - loss: 0.0202 - accuracy: 0.9917 - val_loss: 0.1139 - val_accuracy: 0.9797\n",
            "Epoch 19/25\n",
            "3954/3954 [==============================] - 2024s 512ms/step - loss: 0.0184 - accuracy: 0.9923 - val_loss: 0.1219 - val_accuracy: 0.9794\n",
            "Epoch 20/25\n",
            "3954/3954 [==============================] - 2026s 512ms/step - loss: 0.0184 - accuracy: 0.9923 - val_loss: 0.1238 - val_accuracy: 0.9792\n",
            "Epoch 21/25\n",
            "3954/3954 [==============================] - 2016s 510ms/step - loss: 0.0175 - accuracy: 0.9926 - val_loss: 0.1228 - val_accuracy: 0.9798\n",
            "Epoch 22/25\n",
            "3954/3954 [==============================] - 2024s 512ms/step - loss: 0.0171 - accuracy: 0.9928 - val_loss: 0.1273 - val_accuracy: 0.9796\n",
            "Epoch 23/25\n",
            "3954/3954 [==============================] - 2014s 509ms/step - loss: 0.0177 - accuracy: 0.9926 - val_loss: 0.1086 - val_accuracy: 0.9790\n",
            "Epoch 24/25\n",
            "3954/3954 [==============================] - 2025s 512ms/step - loss: 0.0176 - accuracy: 0.9928 - val_loss: 0.1224 - val_accuracy: 0.9801\n",
            "Epoch 25/25\n",
            "3954/3954 [==============================] - 2025s 512ms/step - loss: 0.0157 - accuracy: 0.9934 - val_loss: 0.1314 - val_accuracy: 0.9798\n"
          ]
        },
        {
          "output_type": "execute_result",
          "data": {
            "text/plain": [
              "Text(0.5, 0, 'epoch')"
            ]
          },
          "metadata": {},
          "execution_count": 8
        },
        {
          "output_type": "display_data",
          "data": {
            "image/png": "[encoded data removed]",
            "text/plain": [
              "<Figure size 432x288 with 1 Axes>"
            ]
          },
          "metadata": {
            "needs_background": "light"
          }
        }
      ]
    },
    {
      "cell_type": "code",
      "metadata": {
        "id": "c22OwPuNCad7"
      },
      "source": [
        "## this is to retrain the saved model - RUN#2\n",
        "reconstructed_model = keras.models.load_model(\"/content/drive/MyDrive/Models/deeplab/deeplab-7classes-finalpapersubmission_2019&2020_shuffled\")\n",
        "print(\"model loaded\")\n",
        "\n",
        "my_callbacks = [\n",
        "    #tf.keras.callbacks.TensorBoard(log_dir='/content/drive/MyDrive/Logs/Unet-7classes-finalpapersubmission'),\n",
        "    keras.callbacks.ModelCheckpoint(\"/content/drive/MyDrive/Models/deeplab/deeplab-7classes-finalpapersubmission_2019&2020_shuffled\", save_freq = 'epoch', save_best_only=True)\n",
        "\n",
        "               ]\n",
        "\n",
        "history = reconstructed_model.fit(train_dataset, validation_data=val_dataset, callbacks = my_callbacks, epochs=50)\n",
        "\n",
        "plt.plot(history.history[\"loss\"])\n",
        "plt.title(\"Training Loss\")\n",
        "plt.ylabel(\"loss\")\n",
        "plt.xlabel(\"epoch\")\n",
        "plt.show()\n",
        "\n",
        "plt.plot(history.history[\"accuracy\"])\n",
        "plt.title(\"Training Accuracy\")\n",
        "plt.ylabel(\"accuracy\")\n",
        "plt.xlabel(\"epoch\")\n",
        "plt.show()\n",
        "\n",
        "plt.plot(history.history[\"val_loss\"])\n",
        "plt.title(\"Validation Loss\")\n",
        "plt.ylabel(\"val_loss\")\n",
        "plt.xlabel(\"epoch\")\n",
        "plt.show()\n",
        "\n",
        "plt.plot(history.history[\"val_accuracy\"])\n",
        "plt.title(\"Validation Accuracy\")\n",
        "plt.ylabel(\"val_accuracy\")\n",
        "plt.xlabel(\"epoch\")\n",
        "plt.show()\n",
        "\n",
        "#commented below as checkpoint already has save best. else it will create a duplicate\n",
        "#print(\"model to be saved\")\n",
        "#reconstructed_model.save(\"/content/drive/MyDrive/Models/deeplab/deeplab-finalpapersubmission-2020only\")\n",
        "#print(\"model saved\")"
      ],
      "execution_count": null,
      "outputs": []
    }
  ]
}