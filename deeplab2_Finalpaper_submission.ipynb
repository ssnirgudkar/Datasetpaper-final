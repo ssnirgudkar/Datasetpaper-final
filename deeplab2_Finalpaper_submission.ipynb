{
  "nbformat": 4,
  "nbformat_minor": 0,
  "metadata": {
    "colab": {
      "name": "deeplab2-Finalpaper_submission.ipynb",
      "provenance": [],
      "collapsed_sections": [],
      "authorship_tag": "ABX9TyMwx0QfuqfQA3FYhnXq8qXL",
      "include_colab_link": true
    },
    "kernelspec": {
      "name": "python3",
      "display_name": "Python 3"
    },
    "language_info": {
      "name": "python"
    },
    "accelerator": "GPU"
  },
  "cells": [
    {
      "cell_type": "markdown",
      "metadata": {
        "id": "view-in-github",
        "colab_type": "text"
      },
      "source": [
        "<a href=\"https://colab.research.google.com/github/ssnirgudkar/Datasetpaper-final/blob/main/deeplab2_Finalpaper_submission.ipynb\" target=\"_parent\"><img src=\"https://colab.research.google.com/assets/colab-badge.svg\" alt=\"Open In Colab\"/></a>"
      ]
    },
    {
      "cell_type": "markdown",
      "metadata": {
        "id": "dW3lSbsBxFzp"
      },
      "source": [
        "## Use this version as the most final\n"
      ]
    },
    {
      "cell_type": "markdown",
      "metadata": {
        "id": "6GKo9sXGKeri"
      },
      "source": [
        "to do - \n",
        "1. visaulaization is per image. We need to add code to save the output to a file\n",
        "2. need to train the model on 100 epochs\n",
        "3. add training - restart code - so pick up the model and retrain "
      ]
    },
    {
      "cell_type": "markdown",
      "metadata": {
        "id": "DoAs-oCSzGI6"
      },
      "source": [
        "## we have to keep batchsize = 2 or more. It does not run with batch size 1. Image will be resized to 512*512\n",
        "##changed mask datatype to uint16 from uint8. segments.ai masks are uint16. else it reads masks as 0\n",
        "##the resize was changed to nearest. but we can check if thats needed. bilinear is default. So we can try to keep it as bilinera and that shld also work. With this run, objects were not coming up well. objects and background was getting mixed\n",
        "\n",
        "Run2 11/11 - Uncommented the 127.5-1 code. so now both image and masks are float 32. also changed the nearest back to bilnear. changed the batch size from 10 to 4. running with 50 epochs to see how it works.\n",
        "\n",
        "Train images - \n",
        "Val images - \n",
        "Test images \n",
        "Epochs - 500 \n",
        "Train time -\n",
        "\n",
        "##Run3 - \n",
        "Train images - 3438\n",
        "Val images - 982\n",
        "Test images - 492\n",
        "Epochs - 50 \n",
        "Train time - 3 hrs 49 min\n",
        "Test time - \n",
        "Any preloaded weights - NO. Imagenet weights are not used\n",
        "The masks are uint8. the code had it as uint16. Hence we were getting pixel values of 257. fixed that\n",
        "Model - deeplab-finalpapersubmission_V1\n",
        "\n",
        "##Run4 - \n",
        "Train images - 26081\n",
        "Val images - 7452\n",
        "Test images - 3726\n",
        "Epochs - 25(will break into 4 parts as this is a big dataset.  \n",
        "Train time - 10 hrs 40 min\n",
        "Test time - \n",
        "Any preloaded weights - NO. Imagenet weights are not used\n",
        "Model - deeplab-finalpapersubmission (the next ones will be submission2,3 and 4)\n",
        "infernce folder - IRDatasetFinal-Inferences\n",
        "loss: 0.0623 - accuracy: 0.9790 \n",
        "\n",
        "##Run5 - 2020 & 2021\n",
        "loss: 0.0361 - accuracy: 0.9873 - val_loss: 3.3841 - val_accuracy: 0.7209\n",
        "epochs - 50 \n",
        "ran with 2020 and 2021 dataset only \n",
        "Model - deeplab folder - deeplab-finalpapersubmission-2020only (there's another with 2020-only. need to check)\n",
        "training time - 9 hrs, 27 min"
      ]
    },
    {
      "cell_type": "markdown",
      "metadata": {
        "id": "FaETn9Z21S9y"
      },
      "source": [
        "# https://keras.io/examples/vision/deeplabv3_plus/"
      ]
    },
    {
      "cell_type": "code",
      "source": [
        "import zipfile\n",
        "from google.colab import drive\n",
        "drive.mount('/content/drive')"
      ],
      "metadata": {
        "colab": {
          "base_uri": "https://localhost:8080/"
        },
        "id": "gl9XF-Fty5RZ",
        "outputId": "e300b1bc-0837-44bb-ae67-30bd10080a74"
      },
      "execution_count": 1,
      "outputs": [
        {
          "output_type": "stream",
          "name": "stdout",
          "text": [
            "Mounted at /content/drive\n"
          ]
        }
      ]
    },
    {
      "cell_type": "code",
      "source": [
        "#zip_ref = zipfile.ZipFile(\"/content/drive/MyDrive/IRDatasetConsolidated/train.zip\", \"r\")\n",
        "zip_ref = zipfile.ZipFile(\"/content/drive/MyDrive/IRDatasetAfter2019/train.zip\", \"r\")\n",
        "zip_ref.extractall(\"/content/IRDatasetFinal\")\n",
        "zip_ref.close()\n",
        "\n",
        "zip_ref = zipfile.ZipFile(\"/content/drive/MyDrive/IRDatasetAfter2019/trainannot.zip\", \"r\")\n",
        "zip_ref.extractall(\"/content/IRDatasetFinal\")\n",
        "zip_ref.close()\n",
        "\n",
        "zip_ref = zipfile.ZipFile(\"/content/drive/MyDrive/IRDatasetAfter2019/val.zip\", \"r\")\n",
        "zip_ref.extractall(\"/content/IRDatasetFinal\")\n",
        "zip_ref.close()\n",
        "\n",
        "zip_ref = zipfile.ZipFile(\"/content/drive/MyDrive/IRDatasetAfter2019/valannot.zip\", \"r\")\n",
        "zip_ref.extractall(\"/content/IRDatasetFinal\")\n",
        "zip_ref.close()\n",
        "'''\n",
        "zip_ref = zipfile.ZipFile(\"/content/drive/MyDrive/IRDatasetAfter2019/test.zip\", \"r\")\n",
        "zip_ref.extractall(\"/content/IRDatasetFinal\")\n",
        "zip_ref.close()\n",
        "\n",
        "zip_ref = zipfile.ZipFile(\"/content/drive/MyDrive/IRDatasetAfter2019/testannot.zip\", \"r\")\n",
        "zip_ref.extractall(\"/content/IRDatasetFinal\")\n",
        "zip_ref.close()\n",
        "'''"
      ],
      "metadata": {
        "id": "ClQ6pwk4y6Cv",
        "colab": {
          "base_uri": "https://localhost:8080/",
          "height": 87
        },
        "outputId": "6d8fabc0-a868-4821-b855-80b4255b05da"
      },
      "execution_count": 2,
      "outputs": [
        {
          "output_type": "execute_result",
          "data": {
            "application/vnd.google.colaboratory.intrinsic+json": {
              "type": "string"
            },
            "text/plain": [
              "'\\nzip_ref = zipfile.ZipFile(\"/content/drive/MyDrive/IRDatasetAfter2019/test.zip\", \"r\")\\nzip_ref.extractall(\"/content/IRDatasetFinal\")\\nzip_ref.close()\\n\\nzip_ref = zipfile.ZipFile(\"/content/drive/MyDrive/IRDatasetAfter2019/testannot.zip\", \"r\")\\nzip_ref.extractall(\"/content/IRDatasetFinal\")\\nzip_ref.close()\\n'"
            ]
          },
          "metadata": {},
          "execution_count": 2
        }
      ]
    },
    {
      "cell_type": "code",
      "source": [
        "import os \n",
        "APP_FOLDER = '/content/IRDatasetFinal/train'\n",
        "totalFiles = 0\n",
        "totalDir = 0\n",
        "\n",
        "for base, dirs, files in os.walk(APP_FOLDER):\n",
        "    print('Searching in : ',base)\n",
        "    for directories in dirs:\n",
        "        totalDir += 1\n",
        "    for Files in files:\n",
        "        totalFiles += 1\n",
        "   \n",
        "\n",
        "print('Total number of files',totalFiles)\n",
        "print('Total Number of directories',totalDir)\n",
        "print('Total:',(totalDir + totalFiles))"
      ],
      "metadata": {
        "colab": {
          "base_uri": "https://localhost:8080/"
        },
        "id": "8LrEwKPVy545",
        "outputId": "b9b488c4-39a0-4ea0-9b85-4ce8bf51cad6"
      },
      "execution_count": 3,
      "outputs": [
        {
          "output_type": "stream",
          "name": "stdout",
          "text": [
            "Searching in :  /content/IRDatasetFinal/train\n",
            "Total number of files 10562\n",
            "Total Number of directories 0\n",
            "Total: 10562\n"
          ]
        }
      ]
    },
    {
      "cell_type": "code",
      "metadata": {
        "id": "675_gYSZ1X9M"
      },
      "source": [
        "import os\n",
        "import cv2\n",
        "import numpy as np\n",
        "from glob import glob\n",
        "from scipy.io import loadmat\n",
        "import matplotlib.pyplot as plt\n",
        "\n",
        "import tensorflow as tf\n",
        "from tensorflow import keras\n",
        "from tensorflow.keras import layers"
      ],
      "execution_count": 4,
      "outputs": []
    },
    {
      "cell_type": "markdown",
      "metadata": {
        "id": "83c9SFcwp5dM"
      },
      "source": [
        "Downloading the data We will use the Crowd Instance-level Human Parsing Dataset for training our model. The Crowd Instance-level Human Parsing (CIHP) dataset has 38,280 diverse human images. Each image in CIHP is labeled with pixel-wise annotations for 20 categories, as well as instance-level identification. This dataset can be used for the \"human part segmentation\" task."
      ]
    },
    {
      "cell_type": "code",
      "metadata": {
        "id": "t4GnbNOS1gOo"
      },
      "source": [
        "#!gdown https://drive.google.com/uc?id=1B9A9UCJYMwTL4oBEo4RZfbMZMaZhKJaz\n",
        "#!unzip -q instance-level-human-parsing.zip"
      ],
      "execution_count": null,
      "outputs": []
    },
    {
      "cell_type": "code",
      "metadata": {
        "id": "uGYmazAh-FGZ",
        "colab": {
          "base_uri": "https://localhost:8080/"
        },
        "outputId": "49cd14d6-8d14-4601-920a-450cb66f6c23"
      },
      "source": [
        "'''\n",
        "from google.colab import drive\n",
        "drive.mount('/content/drive', force_remount = True)\n",
        "# to copy files from google drive to colab memory\n",
        "#%cp -av /content/drive/MyDrive/TheIRDatasetMini/ TheIRDatasetMini\n",
        "'''"
      ],
      "execution_count": null,
      "outputs": [
        {
          "output_type": "stream",
          "name": "stdout",
          "text": [
            "Mounted at /content/drive\n"
          ]
        }
      ]
    },
    {
      "cell_type": "code",
      "metadata": {
        "id": "D60VHKzY2QWn",
        "colab": {
          "base_uri": "https://localhost:8080/"
        },
        "outputId": "c946835a-8a8b-450d-cba5-303d4261743b"
      },
      "source": [
        "IMAGE_SIZE = 512\n",
        "BATCH_SIZE = 4\n",
        "NUM_CLASSES = 7\n",
        "#DATA_DIR = '/content/drive/MyDrive/TheIRDatasetMini_backup'\n",
        "DATA_DIR = '/content/IRDatasetFinal'\n",
        "#DATA_DIR = '/content/drive/MyDrive/TheIRDataset'\n",
        "#DATA_DIR = '/content/drive/MyDrive/IR -test'\n",
        "\n",
        "#VAL_DATA_DIR = \"./instance-level_human_parsing/instance-level_human_parsing/Training\"\n",
        "#NUM_TRAIN_IMAGES = 80\n",
        "#NUM_VAL_IMAGES = 10\n",
        "\n",
        "'''\n",
        "train_images = sorted(glob(os.path.join(DATA_DIR, \"train/*\")))[:NUM_TRAIN_IMAGES]\n",
        "train_masks = sorted(glob(os.path.join(DATA_DIR, \"trainannot/*\")))[:NUM_TRAIN_IMAGES]\n",
        "val_images = sorted(glob(os.path.join(DATA_DIR, \"train/*\")))[\n",
        "    NUM_TRAIN_IMAGES : NUM_VAL_IMAGES + NUM_TRAIN_IMAGES\n",
        "]\n",
        "val_masks = sorted(glob(os.path.join(DATA_DIR, \"trainannot/*\")))[\n",
        "    NUM_TRAIN_IMAGES : NUM_VAL_IMAGES + NUM_TRAIN_IMAGES\n",
        "]\n",
        "'''\n",
        "train_images = sorted(glob(os.path.join(DATA_DIR, \"train/*\"))) \n",
        "train_masks = sorted(glob(os.path.join(DATA_DIR, \"trainannot/*\"))) \n",
        "\n",
        "val_images = sorted(glob(os.path.join(DATA_DIR, \"val/*\")))\n",
        "val_masks = sorted(glob(os.path.join(DATA_DIR, \"valannot/*\")))\n",
        "\n",
        "#test_images = sorted(glob(os.path.join(DATA_DIR, \"test/*\")))\n",
        "#test_masks = sorted(glob(os.path.join(DATA_DIR, \"testannot/*\")))\n",
        "\n",
        "\n",
        "def read_image(image_path, mask=False):\n",
        "    image = tf.io.read_file(image_path)\n",
        "    print(\"image=\", image)\n",
        "    if mask:\n",
        "        image = tf.image.decode_png(image, channels=0, dtype=tf.uint8)\n",
        "        #print(\"mask 1st read\", image)\n",
        "        #print(\"Max value of mask as per tef.reduce are\", tf.reduce_max(image))\n",
        "        image.set_shape([None, None, 1])\n",
        "        #print(\"mask 2nd read\", image)\n",
        "        image = tf.image.resize(images=image, method= 'bilinear', size=[IMAGE_SIZE, IMAGE_SIZE])\n",
        "        #print(\"mask 3rd read after resize\", image)\n",
        "        #print('final image' ,image)\n",
        "        #print('unique values of tensor' , tf.unique(image))\n",
        "    else:\n",
        "        image = tf.image.decode_png(image, channels=3, dtype=tf.uint8)\n",
        "        #print(\"1st step in read image\", image)\n",
        "        image.set_shape([None, None, 3])\n",
        "        #print(\"2nd step in read image\", image)\n",
        "        image = tf.image.resize(images=image, method= 'bilinear', size=[IMAGE_SIZE, IMAGE_SIZE])\n",
        "        image = image / 127.5 - 1\n",
        "        #print(\"image looks like\", image)\n",
        "    return image\n",
        "\n",
        "\n",
        "def load_data(image_list, mask_list):\n",
        "    image = read_image(image_list)\n",
        "    mask = read_image(mask_list, mask=True)\n",
        "    return image, mask\n",
        "\n",
        "\n",
        "def data_generator(image_list, mask_list):\n",
        "    dataset = tf.data.Dataset.from_tensor_slices((image_list, mask_list))\n",
        "    dataset = dataset.map(load_data, num_parallel_calls=tf.data.AUTOTUNE)\n",
        "    dataset = dataset.batch(BATCH_SIZE, drop_remainder=True)\n",
        "    return dataset\n",
        "\n",
        "\n",
        "train_dataset = data_generator(train_images, train_masks)\n",
        "val_dataset = data_generator(val_images, val_masks)\n",
        "\n",
        "read_image(train_masks[20], mask=True)\n",
        "\n",
        "#print ((np.unique(cv2.imread(train_masks[1],cv2.IMREAD_UNCHANGED))))\n",
        "\n",
        "\n",
        "#print(\"Train Dataset:\", train_dataset)\n",
        "#print(\"Val Dataset:\", val_dataset)"
      ],
      "execution_count": 5,
      "outputs": [
        {
          "output_type": "stream",
          "name": "stdout",
          "text": [
            "image= Tensor(\"ReadFile:0\", shape=(), dtype=string)\n",
            "image= Tensor(\"ReadFile_1:0\", shape=(), dtype=string)\n",
            "image= Tensor(\"ReadFile:0\", shape=(), dtype=string)\n",
            "image= Tensor(\"ReadFile_1:0\", shape=(), dtype=string)\n",
            "image= tf.Tensor(b'\\x89PNG\\r\\n\\x1a\\n\\x00\\x00\\x00\\rIHDR\\x00\\x00\\x02\\x80\\x00\\x00\\x02\\x00\\x08\\x00\\x00\\x00\\x007\\x16\\x82\\'\\x00\\x00\\x10}IDATx\\x9c\\xed\\xdd\\xdb\\x9a\\xe28\\x12E\\xe1`H\\xe6\\xfd\\x9f\\xb7H>\\xfa\\x82Cb\\xe3\\x83$K\\xda!i\\xfd\\x17\\xd3U\\xd3Y4\\r\\xabC\\xb61\\xf6\\xe9\\xff\\xe6\\xd9\\xfd\\xf37\\xd7c\\x8fu\\xd9\\xf9\\xfb\\x07\\x1f\\x1eI~\\xd4O`\\xc3}\\xffG\\xd0:\\xbf\\x01~\\xe5WzB]\\x98\\x81\\x02\\xffS?\\x01\\x8c\\xcdk\\x80\\xf7\\xef\\xf5wo\\x1b\\x0e-\\xf2\\xb9\\x04/n\\xfd\\xb1@\\xf6\\xc8a\\x80\\xff\\xca\\x0c;\\x06\\xa8K\\xee\\x02\\xfcg\\xb42\\x12_\\x01\\xfeS?\\x01\\xd4\\xe6)\\xc0\\xed\\xfc\\n\\x1f\\x86f\\x1bS\\xc3M\\x80\\x0c\\xbf1y=\\x0c\\x83A8\\x99\\x80\\x93\\xf9\\xc7>\\xc8@<\\x04\\x18\\xb4\\xfa\\xb2\\x85\\xd6\\'}\\x80U6\\xfe\\x02\\x86*\\x85K\\x88\\x03\\\\\\xaa\\x8f\\x15x$\\xda\\x9d\\x90\\xf0\\xe9\\xc7|\\xea\\x94r\\x02\\xd6;\\xf2\\xc2\\n\\xec\\x96,\\xc0\\xd5\\xfaX\\x81\\x87\\xa2\\t0z\\xf61\\x9fz\\xa5\\x08\\xb0\\xfa\\x87\\x1e\\x0cU\\xbf\\xaa\\x07\\xe8\\xf4#7F\\xacH\\xe5\\x00\\xf7\\xf3cZ\\x8d\\xa5f\\x80\\xe9\\xc3\\xef\\xd8|\\xa2i\\xc7\\xea\\x05\\xe8t\\xed\\x85V\\xa5\\x00\\xbd\\xd7\\xc7&\\xa0J\\x95\\x00#\\xf2[\\\\.\\xc9\\xa3_\\xe5\\x03\\x94\\x0f?6\\x01=+\\x1d\\xa0<?\\xf8\\xe6\\xec\\x8ch\\xd1\\n\\xcc\\x1a/S8@\\x07\\x03\\x90\\x15\\xd8\\xb5\\xa2K\\xb0\\x83\\xfc\\xe0\\\\\\xc1\\x00\\xc9\\x0f\\xfb\\x9cm\\x03b4\\xa5&`\\xda\\xf8+\\xb1\\x0fre#\\xd0\\xb32\\x01\\xc6\\xe7\\xb7Q\\xc9\\x85O\\x82;\\xa6\\xfdR\\x12q\\x0c\\xafD\\x80\\x99\\xf7>8\\x0c\\xd8\\xb3\\xfc\\x01\\x86\\xe6Wi\\xfa1d}\\xcb\\x1d\\xa0\\xb3\\xfc\\xe0]\\xde\\x00\\x8b\\xe4w1c\\x95\\xecV\\xd6\\x00\\x0b\\x8e\\xbf\\xd4\\nC\\xfeQ\\xc4-\\x941\\xc0\\xc5\\xfc\\xb2.\\xb5\\xcc\\xc2\\xfed\\x0b\\xf0\\x99\\xdfeRH\\xb1\\x8b\\x8d_/F\\x8a]8\\xe5\\xb9W\\xdck\\xfa=\\x8a\\xbbN~W\\xd4N\\x84A\\xcf\\x80\\x90\\x85\\xb2L\\xc0\\xfb\\xec6W\\x07?\\xbb\\x88\\xf1,\\xec\\xc8?\\x90\\xfe\\x94r\\x04x7{\\xae\\xbd\\xaf\\x81\\xf3\\xe8\\xb1\\xe2\\xa1\\x16V\\xe4Ve8\\x1b\\xe6}[\\xa3\\xcbGq\\x82\\xe3|\\x17\\x8e-6\\xe8\\xf8\\x04\\\\\\xb9\\xa9\\xaa\\x8b\\x1a8\\x08\\xe3\\xde\\xd1\\x00=\\xdd\\xd3\\x97\\x94\\x1at,@O\\xf9\\xa1IG\\xb6\\x01\\x17n\\xa9\\xeaK\\xd0f\\x80\\x8bm\\x85q\\x1d\\x98\\x80\\xde\\xf3\\x0b\\xf5*\\xf0\\xfa\\xfa-KyE\\xc9\\x01\\xfa\\xcb\\xefh7\\x97\\xf9/\\x08\\xb1\\x82\\xc4%\\xd8\\xfd\\xeakv|qeq\\xae e\\x02\\xb6\\x10\\x1f\\x1a\\xc1\\xd72!\\x15?\\x01\\x99\\x7f\\xc8(:@\\xb7\\xfd}\\xed2\\x1c\\xde\\x84kd\\'\\xe4\\xef\\xdf\\xb3\\x91\\'<\\x11\\x19\\xa0\\xdb\\xfc*\\xc8p\\xe2Mn\\x97\\xaf\\xdfzzvA\\xa2\\xb6\\x01\\x9b\\xd8\\xf7-\\xe5}\\xa6\\x8f\\xa3\\x93\\x1e\\xbes\\xf3\\xf3\\xdc\\x02EL\\xc0\\x91\\xeb\\x9b\\xbe\\xb3\\x9e\\'Mk\\xc7\\xd1\\x83\\x03\\xf4\\x9e_\\xfeM\\xc0\\xcd\\xf3j\\x1d\\x9f\\x80\\xd8V\\x82\\xa1\\x01z\\xefo\\xfa\\xb2\\xe7_\\x88\\x96\\x1eQ?\\x08\\x9b[p\\xbf\\x85\\x05\\xe8>?\\xb3\\xb2\\xef\\xc6\\xdac\\xb75m<\\xe2@t\\x88\\xadkw\\xd5{\\x16\\xa1\\x9a\\xfao\"$\\xc0\\xa1w~\\xcdv\"sX`K\\x02\\x96\\xe0a\\xf3\\xf3>I\\xbaH\\x7fw\\x02\\x0e?\\xfev\\xdf\\xe8.:\\x90\\xd9\\x0b\\x90\\xfc\\xf6\\x03std\\xda\\xcc\\xff\\xe0\\x9e\\xda\\x0e\\x90\\xf1\\x176\\xe0$\\x05\\xfa\\xca>\\xd5V\\x80\\xe4\\x17\\xac\\x8f\\x18\\x14\\xd6wB\\xa8\\xcf\\xcc\\x82\\xd3\\xf2s@\\xd0\\xcb\\xf3\\x08\\xb4\\x16 \\xf9\\xc5\\xba|\\xde\\x0f\\xa2\\xb1\\n\\x84V\\x02\\xa4\\xbf\\xa7\\x88\\xb5uz\\xba\\xc2V\\x82i\\xdfz\\x9a}4\\xdd\\xc9\\xaa\\xbf\\x18\\xa0*\\xbf\\x9b\\x99\\x99\\x9d\\'\\xbf{9[u\\x87.\\xf2\\xb5\\x9e\\xe0%\\xe0g\"\\x1f\\xb2a\\xdf\\xd7\\x07\\x14\\x0e\\xbf\\xdb\\xfe\\x8f(BL6\\xe9\\xe5yy\\xd7\\xaf\\xc1\\x15\\x1c\\xd5\\xf4\\xda\\x8bk\\x13\\xb0\\xb5F\\xe7\\x13\\xd0\\xfd\\xda\\xfb\\x8c\\xf4\\xfc\\xfa\\xab\\xee\\x99\\xec\\xfb\\x1eY\\x0b\\xd5\\x84\\xce\\xb5K\\xdc\\x8f\\xb7\\x82\\x93\\x11 5\\x9d\\x80k\\xf3\\xefw\\xe1g\\xb5n\\xb3\\xbf:\\x9d\\x84\\xef\\xcd\\xc8\\xad]\\x86\\x8b\\xd95z{\\xb3\\x93}\\x90iT;/\\xc2\\xef\\xca\\x1f\\xf3\\xc0\\xeb\\x8a\\xfc8iu\\xff\\xd3\\xbc\\xa0=\\x9e\\x85-\\xc8\\xe6}\\x94\\x14\\xf3\\xdf\\xe0g\\x8b\\x7f\\xbf\\xd6g\\xe9p\\x0b1\\xd3&\\xdbl\\x17\\xa4\\xf0?\\xad\\x9ew3\\xc9\\xcf\\xfcw\\xe9\\x97\\x7f)\\xfe*\\xaa\\x9c-\\xd0\\xea\\x0e\\x0b\\xcc\\xadnF\\xe1+\\x8f\\xcc\\xff\\xe5,V)\\x9b\\x90\\xb3\\r\\xc5\\x9b:\\xc8D\\xcdM\\xb7\\x10\\xcf&\\xea\\xfc\\xbb\\xbd[\\xfc\\xf9\\xfa\\x7f\\xcc\\xcc\\xecT\\xf8\\x9f\\xaf\\x18\\x8cu\\xabi\\xaf\\xd1\\x1f3\\xc1\\xd3\\xfe]\\xfe\\xbf\\xef\\xa5\\x0b\\x9c\\xaa\\xb5\\x07\\xdd\\xcdrY\\xc2\\x8f\\xf9\\xfd\\xcf\\xe6^~&\\x9a\\xd9| \\xfa\\\\\\xa0\\xbf/\\xc2\\xd1\\x89\\x1fW\\xf9}\\x8e\\xc0\\xfb\\xfb\\x7f\\xcc\\xacF\\x8aE\\x16\\xe8\\x8c\\xaf\\xae\\xa77*\\x9f\\x9fV\\xfe\\xb5\\xeef\\x95\\x06\\xe2S\\xe5C\\xdcY\\xde\\x87V\\xde\\xcc\\x0f\\xfaCw\\x13;[\\x81\\xd5+\\xb4\\x0c\\x0bt\\x8e\\xe5r\\xfe\\x18\\xd7\\xe5\\x07\\xadx\\x93\\xbe\\\\N\\x95\\xdf\\xce=\\xef\\xa7\\xb3sV\\xc4\\xe9n\\xd5S\\x9c\\x08\\x0c1\\xe4c\\x90\\xf7On\\x98]\\x8bf\\xed1\\xdb\\x0b\\xd0\\xd9\\x04\\x0c\\x9eq\\x7f[\\x88\\xb3\\x1f>\\x9b\\xd9\\xcd\\xceA\\xa7v\\x1d\\x11\\xb8\\xa5x\\xb9\\xaeM+\\x98\\x99\\xbf\\x00\\xcd\\xec\\xd89a\\xbff\\x8f\\x8f\\x07\\x7f\\xc2\\xce/<\\xe8f\\xb6]a\\xbe\\xfa\\x82>,n\\x8e\\xcb\\x00\\x8f8\\xdd\\xedQ\\xe1\\xafY\\xadE\\xfaf\\xa5\\xf7U\\xfa\\x1d\\xa2\\xed\\x07\\xb8\\xb5\\xdfRq#\\xf1=mk\\xec5w\\xd4c\\xfb\\x01&[\\xfe\\xee\\xc9a\\xd3/\\xb6`G\\xfb\\x01\\x1e\\x9er\\x8f\\xdd\\x96\\xcc\\xa2W\\xe5\\x1c\\'Z5\\xb8\\t\\xd8A\\x80Y\\x14\\xd9k\\xce\\xb7i\\xd8\\xd1\\x92;7p\\x80\\xd33\\x15\\x0b\\x1d\\xb8\\xd9\\xddKN\\xd1S\\x8f\\xde\\x0eD\\'\\x98\\xff\\x1b\\x84~~\\xfc\\xfc\\xb9I\\x86\\xe5\\x0e\\xdc\\x9co;!\\xee}\\x93}\\xff0t\\x8b+0\\xdf\\x8a\\x83V\\x07K\\xf0c\\x92EO\\xf2\\xd7\\xa0\\xfc\\xb5*\\xaf\\xc2\\xcdv\\xd6c\\xc77~(\\xa9\\x83\\x00\\x1f\\x96>\\x96\\xbb\\x87f\\xf9<A\\xb6\\xca\\x8b\\xb1U\\xe1F\\x84EoB!\\xd4M\\x80f\\xb6\\xf0\\x19^\\xdct\\xfc\\xadv\\xe4z\\xa3\\xc2\\x85\\x08\\xbb*n\\xa6\\xaf\\x00W\\xbc\\xbaL\\xcd\\xab\\xd0\\xa9\\xd9\\xeb\\x87i\\x92n\\x81\\xd3\\xe6\\xfa=D\\x80/\\xafy\\x98p\\xb2C\\xa9\\xaf\\x07\\xbc\"\\xfc:\\xcf\\xf0y-\\xa3\\xeeup\\x18&\\xa7\\xe5W\\xe3\\x1e\\xf2C\\x19,\\x8e\\xc3\\xebt \\xae/\\xc7m\\xd6J\\x80\\x13A\\x01\\xae\\xff`\\x0e\\xcb\\x8b\\xf2\\xb3\\xae\\x8d\\xad\\xc16\\xfb#\\xc0\\xa9\\xe0\\x00W\\x7f6\\x8b\\x94\\x8fN\\x1a\\rp\\xa8m\\xc0\\xbc\\n~)\\xa0\\xc8\\x07x>\\x11\\xe0\\xa7\\x84\\xa3\\xd9\\xe5\\xe6`\\xf9\\xd3\\\\=`\\t\\x9e\\x88Y\\x82\\xb7\\xfeDVg\\xbb\\xed\\x97\\xd8\\xe8\\n\\xcc\\x04\\x9c\\xba\\xdb\\xa9\\xf6\\x05B\\xf6\\xed~\\x8a\\xf7\\xe5\\xbd\\xafru\\xff\\x01\\x1f\\x13p\\xd9\\xf4e\\xd9\\x18\\x81\\xb5_\\xbf\\xb5\\x08\\xbf/\\x88\\xbe\\xfe\\xb7=!\\xc0u\\x7f/\\x8d\\xa3\\x00\\xcdl\\xb7\\xc2\\xc5\\x835N\\x13$\\xc0M\\x8fWG\\xbc\\r\\xb8l#\\xc2\\x96\\xce\\x17$\\xc0=\\'\\xa7\\x01\\x9aY\\xf4^\\xb2\\xc3\\x04\\t\\xf0\\x18\\x07/\\xdf9\\xe2x\\x8d\\xbf\\x02\\t\\xf0\\x18O/_P\\x84\\xde\\x12$\\xc0c\\x0e\\xbc|e.\\xf5%>`\\x18}#\\'\\x8e\\x03j\\xbd*\\xccv\\xf0q\\xef\\xbbO\\xc5E&\\xc8\\x04<(\\xfd\\xf5\\xfb\\xda\\xb5\\xc9\\xf8Vl5Xt\\x04F\\x9f\\xc6\\xc8\\xb7\\xe2 \\xc5\\x12|P\\xc6\\x0f\\xee2\\x9e^\\xb3\\xb5\\x10\\xfb\\xba\\xdf&Kp\\x0ei/\\xe2\\xda\\xe1\\xc5lo\\xc9\\xd9VOc(\\xd5`\\xf4\\x12L\\x80\\xb9\\xc4\\xefIT\\xfb\\x80o\\xb5\\xc1\\xfc\\xd7\\x94\\x0e\\xbc\\xa5\\xdd\\x1f\\x02\\xcc-\\xfc\\x05\\xdd\\xfbnT\\xce\\xb7f}\\xaf$k\\x83\\x97\\xe8\\xc7d\\x1b0\\xb7|[r9O\\xb9^\\xdf(\\\\\\xfe\\x1er\\xb5\\xcdD&`)\\xfb/l\\xe8\\xb7C\\xf3\\x9d\\xa2\\x18vt&z\\x19\\xfd\\x13?\\x01\\t\\xb0\\xa4\\xa0\\xcbs\\x1d~\\x9c(y\\xaf\\x9a9G\\x80\\xfel\\xbc\\xc0\\xc1\\x05\\xd6\\xd8\\'Y\\x16\\x97\\xe0\\xeb<\\xb0\\x88?\\xc5\\x81\\xe8\\xd2\\xee\\xf7\\xfbJh\\xa2\\xfe\\xecv\\x0b\\xbf\\x0cb\\xf1\\xcb\\xd2\\xb0\\x13R\\xc3\\xdd\\x1e\\xf7\\x8fp\\xb3\\xdc\\xf8\\xf9\\xc6\\x1dKpm\\xa17#[\\xf8\\x13%d={&~\\x13\\x90\\tX]\\xf4\\x95\\x91\\xca\\x8e\\x08\\xf5\\xd93L@\\xf7\\xaa\\xbcC\\x1b\\x11\\x86\\xcf\\xb3\\x84}\\x10&\\xa0{\\xd5\\xee6\\xb6~\\xed\\xe0\\x92G\\xa5\\x99\\x80\\xde\\xd5|\\x83\\x0e\\xce\\xc1\\x84M@&\\xa0wU\\x07\\xc4\\xe6\\x1c,3\\x08\\t\\xd0\\xb7\\xea\\x0b\\xd4\\xc6\\x01\\x9a\"\\r\\xb2\\x04\\xfb&z{R\\xd6\\xe2\\xcb\\xeeO,!@\\xd7\\x94\\xef\\xcey\\xf5\\x9a\\\\\\xcb\\x85\\xa5\\xec\\x03\\xb3\\x04c\\xd5mu\\x9b0\\xe7~1\\x01z\\x96c\\x00\\x1e\\xfc\\xfa\\xf1r\\x83\\x07\\xce\\xd8\\x9a!\\xc0\\x8e\\xdd\\xe7\\xbfJ\\xebpu\\xdf8\\xc7^\\tg\\xc3@\\x8a\\x9d\\x10\\xdf2~\\xef\\xfd\\xe0\\xe3\\x85^\\x940r&\\x12\\xa0\\x7f)\\xa7\\xe4\\xaf\\x9e\\xf2p\\xec\\xfd\\xde\\x8a\\x90\\xbd\\xe0^\\xdd\\xf3~\\xd3\\xe9\\xc8\\xe3\\xacm\\x0e\\xa6\\xef\\x173\\x01[\\x12\\xf1fm\\x9e\\xf5u\\xf4MO\\xbe\\xf5\\xfb7\\x02lM\\xe0\\x1b\\xb6s\\xda\\xe1\\xe1\\xb7}\\xf505\\xdb\\x80\\x03\\xc8\\xf1\\x95\\xcf,o\\xfcZ\\x83\\xe1\\x97\\\\ \\xc0F\\xed\\xbco!\\xe7]\\xe7y\\xeb\\x83\\xee\\x1b\\xb1\\xf1$\\x08\\xb0a\\xebo^\\xd8\\x89\\xff\\x85\\xbf\\xef\\x1e\\xd2 \\x016n\\xe5\\x9aHU\\x034\\xdb\\xb9\\xcb\\xec\\xd6S \\xc0.\\xcc\\xdf\\xc6\\xa0\\x00\\xab|\\xdf}\\xa7A\\x02\\xec\\xc6\\xe4\\x9d\\x14\\x04hf\\xeb7}_\\x7f\\x0e\\x04\\xd8\\x93\\xb8/\\x1d\\x97y\\xef\\x97\\x1a\\\\O\\x90\\x00{\\xb3\\x7fw\\xb1\\xd9\\x8f\\x16p\\xb6\\xdbW\\x86+\\r\\x12`\\x8fN\\xe2\\x00\\x1f\\x82\\x1a$\\xc0\\x81\\x95\\x7f\\xef\\xf7\\x1b$\\xc0qUz\\xeb\\xe7\\x11N\\x1b$\\xc0q%\\x9c\\xe3\\x95X\\xcb\\xf7~\\xc9\\xbbB\\x02\\x1cW\\xd2I\\x86\\xa9\\xbd\\xac5H\\x80\\xe3\\x8a\\x7f\\xeb\\xef\\x89\\x7f\\xeeaq\\x83\\x90\\x00\\xc7\\x95\\x1a`\\xd2\\x1f}\\xfa\\xda $\\xc0q\\x1d\\x08\\xd0\\xect`\\x83\\xf0\\xf3 !\\xdf\\x8a\\x83\\x14\\x13pX\\t\\xef|\\xc6;\\xcc\\xbe\\x86 \\x01\\x0e+G\\x80i\\x0f\\xf3r6\\x02\\x1cX\\xa6\\x00\\xd3\\x1e\\xe9\\xe5L\\x80\\xc3\\xca\\x17\\xe0\\x91\\x04\\xf9^02H\\xbf\\x07\\n\\x13pX)\\xef|\\xfe/{r\\x18fX\\xf7{\\xc2MK\\xf6\\x1f2\\x12\\x13px1\\x05\\xe4\\xff\\xb6\\'\\x01\\xc2,\\xd7\\xf5\\x16\\xe2\\x1e\\xec\\xf1\\xb3\\x04\\x88\\x87\\xa0\\x12\\xb2\\xdf\\xe3\\x98\\x00\\xf1a\\xb7\\x86\\xa8\\x8d\\xbc\\x90\\xb6\\x08\\x10S\\xb9\\xee\\xf2\\x1e\\xf0`f\\x1c\\x07\\xc4\\xdc\\xe6!\\xbd\\xd8\\xbd\\xdc\\xb3\\xed\\xdd\\x1b\\x9b\\t\\x88%+YD\\x1ff\\xf9\\xb1\\x9d\\x04\\t\\x10+\\x96\\xae\\x0c\\x1c\\x7f\\x9c\\xef\\xc7l\\xb3A\\x02\\xc4\\xb6\\xf8+~L=6\\xf2V\\x13$@\\xec\\xfak$\\xe5\\x93\\x93\\xe7n\\xc6J\\x82\\xec\\x84`W\\x96K\\xa4\\xaf\\xec\\x8f0\\x01\\x11*\\xf0\\x82\\x1f\\xdf>\\xa6\\xdcW\\x84\\x9c\\x8c\\x80P\\t\\xa7\\x1a<\\xfc~<\\xc6\\xfc\\xef1\\x01Q\\xc1\\x8f\\xd9\\xbb\\xc3iqL@H1\\x01Q\\xdb$9\\x02\\x84\\xc2;;\\x96`(\\xbcwF\\x08\\x10\\x12\\xaf]j\\x02\\x84\\xc8#A\\x02\\x84\\xcc\\xdd\\x08\\x10J\\xf7;\\x01B\\x8b\\x00!E\\x80\\x10:\\x11 \\xb4\\x08\\x10R\\x04\\x08)\\x02\\x84\\xce\\x89\\x00!F\\x80\\x90\"@H\\x11 \\xa4\\x08\\x10R\\x04\\x08)\\x02\\x84\\xcc\\xc9\\x08\\x10b\\x04\\x08)\\x02\\x84\\x14\\x01B\\xe5dF\\x80\\x10#@H\\x11 \\xa4\\x08\\x10\"\\x8f\\xabs\\x10 \\xa4\\xb88\\x11tN\\x04\\x081\\x96`H\\x11 \\xa4\\x08\\x10R\\x04\\x08)\\x02\\x84\\x14\\x01B\\x8a\\x00!E\\x80\\x90\"@H\\x11 \\xa4\\x08\\x10R\\x04\\x08)\\x02\\x84\\x14\\x01B\\x8a\\x00!E\\x80\\x90\"@H\\x11 \\xa4\\x08\\x10R\\x04\\x08)\\x02\\x84\\x14\\x01B\\x8a\\x00!E\\x80\\x90\"@H\\x11 \\xa4\\x08\\x10R\\x04\\x08)\\x02\\x84\\x14\\x01B\\x8a\\x00!E\\x80\\x90\"@H\\x11 \\xa4\\x08\\x10R\\x04\\x08)\\x02\\x84\\x14\\x01B\\x8a\\x00!E\\x80\\x90\"@H\\x11 \\xa4\\x08\\x10R\\x04\\x08)\\x02\\x84\\x14\\x01B\\x8a\\x00!E\\x80\\x90\"@H\\x11 \\xa4\\x08\\x10R\\x04\\x08)\\x02\\x84\\x14\\x01B\\x8a\\x00!E\\x80\\x90\"@H\\x11 \\xa4\\x08\\x10R\\x04\\x08)\\x02\\x84\\x14\\x01B\\x8a\\x00!E\\x80\\x90\"@H\\x11 \\xa4\\x08\\x10R\\x04\\x08)\\x02\\x84\\x14\\x01B\\x8a\\x00!E\\x80\\x90\"@H\\x11 \\xa4\\x08\\x10R\\x04\\x08)\\x02\\x84\\x14\\x01B\\x8a\\x00!E\\x80\\x90\"@H\\x11 \\xa4\\x08\\x10R\\x04\\x08)\\x02\\x84\\x14\\x01B\\x8a\\x00!E\\x80\\x90\"@H\\x11 \\xa4\\x08\\x10R\\x04\\x08)\\x02\\x84\\x14\\x01B\\x8a\\x00!E\\x80\\x90\"@H\\x11 \\xa4\\x08\\x10R\\x04\\x08\\xa9\\x1f\\xf5\\x13@\\x0f.\\x8f\\xbf\\\\\\xe3\\xff$\\x13\\x10R\\xa7\\x93\\xfa\\x19\\xa0y\\x97\\xbf_F\\xcf@& \\x8e\\xba\\xac\\xfc:\\x08\\x13\\x10\\xc7\\xcc\\x93\\x8b\\x9c\\x81L@\\xe4\\x159\\x03\\t\\x10R\\x04\\x88C\\xbe\\x07^\\xdc\\x08$@H\\x11 \\xa4\\x08\\x10R\\x04\\x88\\xdc\\xa26\\x02\\t\\x10R\\x04\\x88#\\xa2?\\xf9\\x98#@H\\x11 \\xb2\\x8b\\x19\\x8b\\x04\\x88\\x03\\x0e\\xaf\\xc0\\x04\\x88\\xfcb\\xceG @H\\x11 \\xd2\\x1d_\\x81\\t\\x10\\xd9E\\x9d\\x11H\\x80\\x90\"@$\\xcb\\xb0\\x02\\x13 \\xb4\\x08\\x10\\x99\\xc5})\\x84\\x00!\\xc5\\x95\\x11\\xb0as+og\\xd4\\x85]-\\x81\\xafebE\\x8e]\\x8c\\x99\\x85\\x18Y\\x82\\xb1\"\\xe1B/\\t\\x08\\x10R\\x04\\x885UF ;!\\xd8r=\\xb0-\\x18\\x140;!\\x08\\x16\\x99bP\\x80L@\\x04\\xbb\\x9ae\\xdf9f\\x1b\\x10R\\x04\\x888\\xe1\\xbb&A\\xb3\\x92\\x00!E\\x80\\x90\"@\\xc4a\\'\\x04R\\x99\\x0fO\\x13 J\\tJ\\x95\\x00!E\\x80\\x88\\x14\\xba\\x06\\x87\\xfd\\x1c\\x01B\\x8a\\x00\\x11+\\xebn\\x08\\x01B\\x8a\\x00QF\\xe0\\x9c$@H\\x11 \\xa2\\x85\\x0c\\xb7\\xd0\\rE\\x02\\x84\\x14\\x01\"\\xde\\xfex\\x0b\\xdeS&@H\\x11 \\x12\\xec\\r\\xb8\\xf0C\\x85\\x04\\x88\\xfc\"\\x0eU\\x13 \\xa4\\x08\\x10)6g\\x1cW\\xc9G3\\x08\\x10I6\\xa6\\x1c\\x17)Gy\\xb9\\xbe\\x1a\\xc2\\xa59\\x10o\\xa7\\xbe\\x98\\x11H\\x80\\x88\\xb6?\\xfd\\xc2\\x13$@D\\t^z\\xaf\\x97\\xa0\\x0c\\t\\x10\\xc1\\x12\\xb6\\xfbv\\x1b$@\\x84)t\\x99@\\x02\\xc4\\xbe\\xc3\\xbb\\xbc\\xeb\\x11\\x12 \\xf6d9\\xe2\\xb2\\x96 \\x01bS\\xc6K\\xc1,6H\\x80\\xd8\\x92\\xfbf!_\\x11\\xf2I\\x08\\xa4\\x98\\x80XW\\xe0fI\\xf3!H\\x80XQ\\xa4>3\\x9b&H\\x80XR\\xae\\xbe\\x87\\xf7\\xe7$\\x04\\x88/\\xa5\\xeb{\\xbb\\x12 \\xe6\\xaa\\xd5gffW\\x02\\xc4\\x87\\xba\\xf5\\x99q\\xa7$\\xfc\\xa9_\\x9f\\x11 \\x9e$\\xf5\\x19\\x01\\xc2LW\\x9f\\x11 \\x94\\xf5\\x19\\x1f\\xc5A\\xdb\\x1f\\x13pl\\xe2\\xfa\\x8c\\x00G\\xa6\\xaf\\xcf\\x08pX.\\xea3\\x02\\x1c\\x93\\x97\\xfa\\x8c\\x00\\x07\\xe4\\xa8>#\\xc0\\xd1\\xf8\\xaa\\xcf\\x08p(\\xee\\xea3\\x02\\x1c\\x86\\xc7\\xf8\\xcc\\x08p\\x0c^\\xeb3>\\t\\x81\\x18\\x01B\\x8a%\\xb8{\\x8e\\xd7_#\\xc0\\xce\\xf9\\x8e\\xcf\\x8c\\x00{\\xe6\\xbf>#\\xc0n5Q\\x9f\\x11`\\x9fZ\\xa9\\xcf\\x08\\xb0C\\r\\xd5g\\x04\\xd8\\x9d\\xb6\\xf2#\\xc0\\xbe\\xb4V\\x9f\\x11`?\\x1a\\x8c\\xcf\\x8cOB\\xba\\xd1h\\x7fL\\xc0>\\xb4\\x9a\\x1f\\x01\\xf6\\xa0\\xdd\\xfa\\x8c\\x00[\\xd7t|f\\x04\\xd8\\xb2\\xe6\\xe33#\\xc0vu\\x91\\x1f{\\xc1\\xcd\\xea\\xa4?&`\\x9bz\\xc9\\x8f\\t\\xd8\\xa6~\\xfa#\\xc0\\x16u\\xd4\\x1f\\x016\\xa8\\xa7\\xfe\\xd8\\x06lNW\\xf91\\x01!\\xc6\\x04lKg\\xf3\\x8f\\x00\\xdb\\xd2]~,\\xc1M\\xe9\\xb0?&`;z\\xcc\\x8f\\t\\x081&`#\\xfa\\x9c\\x7f\\x04\\xd8\\x88^\\xf3c\\tnC\\xbf\\xfd1\\x01\\x1b\\xd0q~\\x04\\xe8_\\xd7\\xf9\\xb1\\x04\\xbb\\xd7y\\x7fL@\\xdfz\\xcf\\x8f\\x00]\\xeb??\\x96`\\xcfF\\xe8\\x8f\\t\\xe8\\xd5\\x10\\xf5\\x19\\x13\\xd0\\xabQ\\xfac\\x02\\xba4L~L@\\x97\\x06\\xea\\x8f\\t\\xe8\\xcfH\\xf9\\x11\\xa0;c\\xe5\\xc7\\x12\\xec\\xcdh\\xfd\\x11 \\xb4X\\x82=\\x19n\\xfe1\\x01!\\xc6\\x04\\xf4c\\xc0\\xf9\\xc7\\x04td\\xc8\\xfe\\x98\\x80^\\x8c\\x99\\x1f\\x01:1j~\\x04\\xe8\\xc2\\xb8\\xf9\\xb1\\r\\xe8\\xc1\\xc8\\xfd1\\x01\\xe5\\x86\\xce\\x8f\\x00\\xd5\\x06\\xcf\\x8f%Xl\\xf8\\xfe\\x98\\x80J\\xe4G\\x80B\\xe4g\\xc6\\x12\\xacC\\x7ff\\xc6\\x04T!\\xbf\\'\\x02\\x14\\xa0\\xbe?,\\xc1\\xf5\\xd1\\xdf\\x07&`m\\xe47\\xc1\\x04\\xac\\x8c\\xfe\\xa6\\x08\\xb0.\\xfa\\x9ba\\t\\xae\\x89\\xfc\\xbe0\\x01+\\xa2\\xbfo\\x04\\x08)\\x96\\xe0j\\x98\\x7fK\\x98\\x80\\xb5\\xd0\\xdf\"\\x02\\xac\\x84\\xfe\\x96\\xb1\\x04WA~k\\x08\\xb0\\x02\\xf2[\\xc7\\x12\\\\\\x1e\\xfdm`\\x02\\x96F~\\x9b\\x08\\xb0,\\xf2\\xdbA\\x80%\\x91\\xdf.\\xb6\\x01\\x0b\\xa2\\xbf}L\\xc0b\\xc8/\\x04\\x01\\x16B~aX\\x82\\xcb\\xa0\\xbf@L\\xc0\\x12\\xc8/\\x18\\x01\\xe6G~\\x11X\\x82!\\xc5\\x04\\xcc\\x8d\\xf9\\x17\\x85\\x00\\xf3\"\\xbfH\\x04\\x98\\x13\\xf9Ec\\x1b0#\\xfa\\x8b\\xc7\\x04\\xcc\\x86\\xfcR0\\x01!\\xc5\\x04\\xcc\\x84\\xf9\\x97\\x86\\t\\x98\\x07\\xfd%b\\x02\\xe6@~\\xc9\\x08\\xf08\\xf2;\\x80%\\xf80\\xfa;\\x82\\tx\\x10\\xf9\\x1dC\\x80\\x87\\x90\\xdfQ\\x04x\\x00\\xf9\\x1d\\xc76`:\\xfa\\xcb\\x80\\t\\x98\\x8a\\xfc\\xb2\\xf8\\x0f\\xb2\\xe9B\\xe2#Aw\\x1d\\x00\\x00\\x00\\x00IEND\\xaeB`\\x82', shape=(), dtype=string)\n"
          ]
        },
        {
          "output_type": "execute_result",
          "data": {
            "text/plain": [
              "<tf.Tensor: shape=(512, 512, 1), dtype=float32, numpy=\n",
              "array([[[6.],\n",
              "        [6.],\n",
              "        [6.],\n",
              "        ...,\n",
              "        [0.],\n",
              "        [0.],\n",
              "        [0.]],\n",
              "\n",
              "       [[6.],\n",
              "        [6.],\n",
              "        [6.],\n",
              "        ...,\n",
              "        [0.],\n",
              "        [0.],\n",
              "        [0.]],\n",
              "\n",
              "       [[6.],\n",
              "        [6.],\n",
              "        [6.],\n",
              "        ...,\n",
              "        [0.],\n",
              "        [0.],\n",
              "        [0.]],\n",
              "\n",
              "       ...,\n",
              "\n",
              "       [[1.],\n",
              "        [1.],\n",
              "        [1.],\n",
              "        ...,\n",
              "        [6.],\n",
              "        [6.],\n",
              "        [6.]],\n",
              "\n",
              "       [[1.],\n",
              "        [1.],\n",
              "        [1.],\n",
              "        ...,\n",
              "        [6.],\n",
              "        [6.],\n",
              "        [6.]],\n",
              "\n",
              "       [[1.],\n",
              "        [1.],\n",
              "        [1.],\n",
              "        ...,\n",
              "        [6.],\n",
              "        [6.],\n",
              "        [6.]]], dtype=float32)>"
            ]
          },
          "metadata": {},
          "execution_count": 5
        }
      ]
    },
    {
      "cell_type": "code",
      "metadata": {
        "id": "d1bYkHXoCv4i"
      },
      "source": [
        "#print(train_masks)\n",
        "print(train_images)\n",
        "print(train_masks)"
      ],
      "execution_count": null,
      "outputs": []
    },
    {
      "cell_type": "code",
      "metadata": {
        "id": "M-2OJmow2VhG"
      },
      "source": [
        "def convolution_block(\n",
        "    block_input,\n",
        "    num_filters=256,\n",
        "    kernel_size=3,\n",
        "    dilation_rate=1,\n",
        "    padding=\"same\",\n",
        "    use_bias=False,\n",
        "):\n",
        "    x = layers.Conv2D(\n",
        "        num_filters,\n",
        "        kernel_size=kernel_size,\n",
        "        dilation_rate=dilation_rate,\n",
        "        padding=\"same\",\n",
        "        use_bias=use_bias,\n",
        "        kernel_initializer=keras.initializers.HeNormal(),\n",
        "    )(block_input)\n",
        "    x = layers.BatchNormalization()(x)\n",
        "    return tf.nn.relu(x)\n",
        "\n",
        "\n",
        "def DilatedSpatialPyramidPooling(dspp_input):\n",
        "    dims = dspp_input.shape\n",
        "    x = layers.AveragePooling2D(pool_size=(dims[-3], dims[-2]))(dspp_input)\n",
        "    x = convolution_block(x, kernel_size=1, use_bias=True)\n",
        "    out_pool = layers.UpSampling2D(\n",
        "        size=(dims[-3] // x.shape[1], dims[-2] // x.shape[2]), interpolation=\"bilinear\",\n",
        "    )(x)\n",
        "\n",
        "    out_1 = convolution_block(dspp_input, kernel_size=1, dilation_rate=1)\n",
        "    out_6 = convolution_block(dspp_input, kernel_size=3, dilation_rate=6)\n",
        "    out_12 = convolution_block(dspp_input, kernel_size=3, dilation_rate=12)\n",
        "    out_18 = convolution_block(dspp_input, kernel_size=3, dilation_rate=18)\n",
        "\n",
        "    x = layers.Concatenate(axis=-1)([out_pool, out_1, out_6, out_12, out_18])\n",
        "    output = convolution_block(x, kernel_size=1)\n",
        "    return output\n"
      ],
      "execution_count": 6,
      "outputs": []
    },
    {
      "cell_type": "code",
      "metadata": {
        "id": "fp4GSu2r2cIi"
      },
      "source": [
        "def DeeplabV3Plus(image_size, num_classes):\n",
        "    model_input = keras.Input(shape=(image_size, image_size, 3))\n",
        "    resnet50 = keras.applications.ResNet50(\n",
        "        #weights=\"imagenet\", include_top=False, input_tensor=model_input - removed imagenet weights\n",
        "        weights=None, include_top=False, input_tensor=model_input\n",
        "    )\n",
        "    x = resnet50.get_layer(\"conv4_block6_2_relu\").output\n",
        "    x = DilatedSpatialPyramidPooling(x)\n",
        "\n",
        "    input_a = layers.UpSampling2D(\n",
        "        size=(image_size // 4 // x.shape[1], image_size // 4 // x.shape[2]),\n",
        "        interpolation=\"bilinear\",\n",
        "    )(x)\n",
        "    input_b = resnet50.get_layer(\"conv2_block3_2_relu\").output\n",
        "    input_b = convolution_block(input_b, num_filters=48, kernel_size=1)\n",
        "\n",
        "    x = layers.Concatenate(axis=-1)([input_a, input_b])\n",
        "    x = convolution_block(x)\n",
        "    x = convolution_block(x)\n",
        "    x = layers.UpSampling2D(\n",
        "        size=(image_size // x.shape[1], image_size // x.shape[2]),\n",
        "        interpolation=\"bilinear\",\n",
        "    )(x)\n",
        "    model_output = layers.Conv2D(num_classes, kernel_size=(1, 1), padding=\"same\")(x)\n",
        "    return keras.Model(inputs=model_input, outputs=model_output)\n",
        "\n",
        "\n",
        "model = DeeplabV3Plus(image_size=IMAGE_SIZE, num_classes=NUM_CLASSES)\n",
        "model.summary()"
      ],
      "execution_count": null,
      "outputs": []
    },
    {
      "cell_type": "code",
      "metadata": {
        "id": "-Jv41GSo2fm6"
      },
      "source": [
        "#### This is the training cell\n",
        "loss = keras.losses.SparseCategoricalCrossentropy(from_logits=True)\n",
        "model.compile(\n",
        "    optimizer=keras.optimizers.Adam(learning_rate=0.001),\n",
        "    loss=loss,\n",
        "    metrics=[\"accuracy\"],\n",
        ")\n",
        "\n",
        "my_callbacks = [\n",
        "    #tf.keras.callbacks.TensorBoard(log_dir='/content/drive/MyDrive/Logs/Unet-7classes-finalpapersubmission'),\n",
        "    keras.callbacks.ModelCheckpoint(\"/content/drive/MyDrive/Models/deeplab/deeplab-finalpapersubmission-2020only\", save_freq = 'epoch', save_best_only=True)\n",
        "\n",
        "]\n",
        "history = model.fit(train_dataset, validation_data=val_dataset, callbacks = my_callbacks, epochs=50)\n",
        "plt.plot(history.history[\"loss\"])\n",
        "plt.title(\"Training Loss\")\n",
        "plt.ylabel(\"loss\")\n",
        "plt.xlabel(\"epoch\")\n",
        "#plt.show()\n",
        "\n",
        "plt.plot(history.history[\"accuracy\"])\n",
        "plt.title(\"Training Accuracy\")\n",
        "plt.ylabel(\"accuracy\")\n",
        "plt.xlabel(\"epoch\")\n",
        "#plt.show()\n",
        "\n",
        "plt.plot(history.history[\"val_loss\"])\n",
        "plt.title(\"Validation Loss\")\n",
        "plt.ylabel(\"val_loss\")\n",
        "plt.xlabel(\"epoch\")\n",
        "#plt.show()\n",
        "\n",
        "plt.plot(history.history[\"val_accuracy\"])\n",
        "plt.title(\"Validation Accuracy\")\n",
        "plt.ylabel(\"val_accuracy\")\n",
        "plt.xlabel(\"epoch\")\n",
        "#plt.show()\n",
        "\n",
        "model.save(\"/content/drive/MyDrive/Models/deeplab/deeplab-finalpapersubmission-2020only\")"
      ],
      "execution_count": null,
      "outputs": []
    },
    {
      "cell_type": "code",
      "metadata": {
        "id": "c22OwPuNCad7",
        "colab": {
          "base_uri": "https://localhost:8080/",
          "height": 1000
        },
        "outputId": "9c02f0da-19fb-48a6-baf7-7896c1c53b03"
      },
      "source": [
        "## this is to retrain the saved model - RUN#2\n",
        "reconstructed_model = keras.models.load_model(\"/content/drive/MyDrive/Models/deeplab/deeplab-finalpapersubmission-2020only\")\n",
        "print(\"model loaded\")\n",
        "\n",
        "my_callbacks = [\n",
        "    #tf.keras.callbacks.TensorBoard(log_dir='/content/drive/MyDrive/Logs/Unet-7classes-finalpapersubmission'),\n",
        "    keras.callbacks.ModelCheckpoint(\"/content/drive/MyDrive/Models/deeplab/deeplab-finalpapersubmission-2020only\", save_freq = 'epoch', save_best_only=True)\n",
        "\n",
        "               ]\n",
        "\n",
        "history = reconstructed_model.fit(train_dataset, validation_data=val_dataset, callbacks = my_callbacks, epochs=50)\n",
        "\n",
        "plt.plot(history.history[\"loss\"])\n",
        "plt.title(\"Training Loss\")\n",
        "plt.ylabel(\"loss\")\n",
        "plt.xlabel(\"epoch\")\n",
        "plt.show()\n",
        "\n",
        "plt.plot(history.history[\"accuracy\"])\n",
        "plt.title(\"Training Accuracy\")\n",
        "plt.ylabel(\"accuracy\")\n",
        "plt.xlabel(\"epoch\")\n",
        "plt.show()\n",
        "\n",
        "plt.plot(history.history[\"val_loss\"])\n",
        "plt.title(\"Validation Loss\")\n",
        "plt.ylabel(\"val_loss\")\n",
        "plt.xlabel(\"epoch\")\n",
        "plt.show()\n",
        "\n",
        "plt.plot(history.history[\"val_accuracy\"])\n",
        "plt.title(\"Validation Accuracy\")\n",
        "plt.ylabel(\"val_accuracy\")\n",
        "plt.xlabel(\"epoch\")\n",
        "plt.show()\n",
        "\n",
        "#commented below as checkpoint already has save best. else it will create a duplicate\n",
        "#print(\"model to be saved\")\n",
        "#reconstructed_model.save(\"/content/drive/MyDrive/Models/deeplab/deeplab-finalpapersubmission-2020only\")\n",
        "#print(\"model saved\")"
      ],
      "execution_count": 8,
      "outputs": [
        {
          "output_type": "stream",
          "name": "stdout",
          "text": [
            "model loaded\n",
            "Epoch 1/50\n",
            "2640/2640 [==============================] - ETA: 0s - loss: 0.0352 - accuracy: 0.9876INFO:tensorflow:Assets written to: /content/drive/MyDrive/Models/deeplab/deeplab-finalpapersubmission-2020only/assets\n"
          ]
        },
        {
          "output_type": "stream",
          "name": "stderr",
          "text": [
            "/usr/local/lib/python3.7/dist-packages/keras/engine/functional.py:1410: CustomMaskWarning: Custom mask layers require a config and must override get_config. When loading, the custom mask layer must be passed to the custom_objects argument.\n",
            "  layer_config = serialize_layer_fn(layer)\n",
            "/usr/local/lib/python3.7/dist-packages/keras/saving/saved_model/layer_serialization.py:112: CustomMaskWarning: Custom mask layers require a config and must override get_config. When loading, the custom mask layer must be passed to the custom_objects argument.\n",
            "  return generic_utils.serialize_keras_object(obj)\n"
          ]
        },
        {
          "output_type": "stream",
          "name": "stdout",
          "text": [
            "\b\b\b\b\b\b\b\b\b\b\b\b\b\b\b\b\b\b\b\b\b\b\b\b\b\b\b\b\b\b\b\b\b\b\b\b\b\b\b\b\b\b\b\b\b\b\b\b\b\b\b\b\b\b\b\b\b\b\b\b\b\b\b\b\b\b\b\b\b\b\b\b\b\b\b\b\b\b\b\b\b\b\b\b\b\b\r2640/2640 [==============================] - 650s 241ms/step - loss: 0.0352 - accuracy: 0.9876 - val_loss: 6.3255 - val_accuracy: 0.6460\n",
            "Epoch 2/50\n",
            "2640/2640 [==============================] - ETA: 0s - loss: 0.0354 - accuracy: 0.9875INFO:tensorflow:Assets written to: /content/drive/MyDrive/Models/deeplab/deeplab-finalpapersubmission-2020only/assets\n"
          ]
        },
        {
          "output_type": "stream",
          "name": "stderr",
          "text": [
            "/usr/local/lib/python3.7/dist-packages/keras/engine/functional.py:1410: CustomMaskWarning: Custom mask layers require a config and must override get_config. When loading, the custom mask layer must be passed to the custom_objects argument.\n",
            "  layer_config = serialize_layer_fn(layer)\n",
            "/usr/local/lib/python3.7/dist-packages/keras/saving/saved_model/layer_serialization.py:112: CustomMaskWarning: Custom mask layers require a config and must override get_config. When loading, the custom mask layer must be passed to the custom_objects argument.\n",
            "  return generic_utils.serialize_keras_object(obj)\n"
          ]
        },
        {
          "output_type": "stream",
          "name": "stdout",
          "text": [
            "\b\b\b\b\b\b\b\b\b\b\b\b\b\b\b\b\b\b\b\b\b\b\b\b\b\b\b\b\b\b\b\b\b\b\b\b\b\b\b\b\b\b\b\b\b\b\b\b\b\b\b\b\b\b\b\b\b\b\b\b\b\b\b\b\b\b\b\b\b\b\b\b\b\b\b\b\b\b\b\b\b\b\b\b\b\b\r2640/2640 [==============================] - 632s 239ms/step - loss: 0.0354 - accuracy: 0.9875 - val_loss: 4.0017 - val_accuracy: 0.7097\n",
            "Epoch 3/50\n",
            "2640/2640 [==============================] - ETA: 0s - loss: 0.0348 - accuracy: 0.9877INFO:tensorflow:Assets written to: /content/drive/MyDrive/Models/deeplab/deeplab-finalpapersubmission-2020only/assets\n"
          ]
        },
        {
          "output_type": "stream",
          "name": "stderr",
          "text": [
            "/usr/local/lib/python3.7/dist-packages/keras/engine/functional.py:1410: CustomMaskWarning: Custom mask layers require a config and must override get_config. When loading, the custom mask layer must be passed to the custom_objects argument.\n",
            "  layer_config = serialize_layer_fn(layer)\n",
            "/usr/local/lib/python3.7/dist-packages/keras/saving/saved_model/layer_serialization.py:112: CustomMaskWarning: Custom mask layers require a config and must override get_config. When loading, the custom mask layer must be passed to the custom_objects argument.\n",
            "  return generic_utils.serialize_keras_object(obj)\n"
          ]
        },
        {
          "output_type": "stream",
          "name": "stdout",
          "text": [
            "\b\b\b\b\b\b\b\b\b\b\b\b\b\b\b\b\b\b\b\b\b\b\b\b\b\b\b\b\b\b\b\b\b\b\b\b\b\b\b\b\b\b\b\b\b\b\b\b\b\b\b\b\b\b\b\b\b\b\b\b\b\b\b\b\b\b\b\b\b\b\b\b\b\b\b\b\b\b\b\b\b\b\b\b\b\b\r2640/2640 [==============================] - 674s 255ms/step - loss: 0.0348 - accuracy: 0.9877 - val_loss: 3.9654 - val_accuracy: 0.7082\n",
            "Epoch 4/50\n",
            "2640/2640 [==============================] - ETA: 0s - loss: 0.0336 - accuracy: 0.9880INFO:tensorflow:Assets written to: /content/drive/MyDrive/Models/deeplab/deeplab-finalpapersubmission-2020only/assets\n"
          ]
        },
        {
          "output_type": "stream",
          "name": "stderr",
          "text": [
            "/usr/local/lib/python3.7/dist-packages/keras/engine/functional.py:1410: CustomMaskWarning: Custom mask layers require a config and must override get_config. When loading, the custom mask layer must be passed to the custom_objects argument.\n",
            "  layer_config = serialize_layer_fn(layer)\n",
            "/usr/local/lib/python3.7/dist-packages/keras/saving/saved_model/layer_serialization.py:112: CustomMaskWarning: Custom mask layers require a config and must override get_config. When loading, the custom mask layer must be passed to the custom_objects argument.\n",
            "  return generic_utils.serialize_keras_object(obj)\n"
          ]
        },
        {
          "output_type": "stream",
          "name": "stdout",
          "text": [
            "\b\b\b\b\b\b\b\b\b\b\b\b\b\b\b\b\b\b\b\b\b\b\b\b\b\b\b\b\b\b\b\b\b\b\b\b\b\b\b\b\b\b\b\b\b\b\b\b\b\b\b\b\b\b\b\b\b\b\b\b\b\b\b\b\b\b\b\b\b\b\b\b\b\b\b\b\b\b\b\b\b\b\b\b\b\b\r2640/2640 [==============================] - 673s 255ms/step - loss: 0.0336 - accuracy: 0.9880 - val_loss: 3.9180 - val_accuracy: 0.7189\n",
            "Epoch 5/50\n",
            "2640/2640 [==============================] - ETA: 0s - loss: 0.0335 - accuracy: 0.9881INFO:tensorflow:Assets written to: /content/drive/MyDrive/Models/deeplab/deeplab-finalpapersubmission-2020only/assets\n"
          ]
        },
        {
          "output_type": "stream",
          "name": "stderr",
          "text": [
            "/usr/local/lib/python3.7/dist-packages/keras/engine/functional.py:1410: CustomMaskWarning: Custom mask layers require a config and must override get_config. When loading, the custom mask layer must be passed to the custom_objects argument.\n",
            "  layer_config = serialize_layer_fn(layer)\n",
            "/usr/local/lib/python3.7/dist-packages/keras/saving/saved_model/layer_serialization.py:112: CustomMaskWarning: Custom mask layers require a config and must override get_config. When loading, the custom mask layer must be passed to the custom_objects argument.\n",
            "  return generic_utils.serialize_keras_object(obj)\n"
          ]
        },
        {
          "output_type": "stream",
          "name": "stdout",
          "text": [
            "\b\b\b\b\b\b\b\b\b\b\b\b\b\b\b\b\b\b\b\b\b\b\b\b\b\b\b\b\b\b\b\b\b\b\b\b\b\b\b\b\b\b\b\b\b\b\b\b\b\b\b\b\b\b\b\b\b\b\b\b\b\b\b\b\b\b\b\b\b\b\b\b\b\b\b\b\b\b\b\b\b\b\b\b\b\b\r2640/2640 [==============================] - 673s 255ms/step - loss: 0.0335 - accuracy: 0.9881 - val_loss: 3.6865 - val_accuracy: 0.7271\n",
            "Epoch 6/50\n",
            "2640/2640 [==============================] - ETA: 0s - loss: 0.0331 - accuracy: 0.9882INFO:tensorflow:Assets written to: /content/drive/MyDrive/Models/deeplab/deeplab-finalpapersubmission-2020only/assets\n"
          ]
        },
        {
          "output_type": "stream",
          "name": "stderr",
          "text": [
            "/usr/local/lib/python3.7/dist-packages/keras/engine/functional.py:1410: CustomMaskWarning: Custom mask layers require a config and must override get_config. When loading, the custom mask layer must be passed to the custom_objects argument.\n",
            "  layer_config = serialize_layer_fn(layer)\n",
            "/usr/local/lib/python3.7/dist-packages/keras/saving/saved_model/layer_serialization.py:112: CustomMaskWarning: Custom mask layers require a config and must override get_config. When loading, the custom mask layer must be passed to the custom_objects argument.\n",
            "  return generic_utils.serialize_keras_object(obj)\n"
          ]
        },
        {
          "output_type": "stream",
          "name": "stdout",
          "text": [
            "\b\b\b\b\b\b\b\b\b\b\b\b\b\b\b\b\b\b\b\b\b\b\b\b\b\b\b\b\b\b\b\b\b\b\b\b\b\b\b\b\b\b\b\b\b\b\b\b\b\b\b\b\b\b\b\b\b\b\b\b\b\b\b\b\b\b\b\b\b\b\b\b\b\b\b\b\b\b\b\b\b\b\b\b\b\b\r2640/2640 [==============================] - 633s 240ms/step - loss: 0.0331 - accuracy: 0.9882 - val_loss: 3.5524 - val_accuracy: 0.7700\n",
            "Epoch 7/50\n",
            "2640/2640 [==============================] - 610s 231ms/step - loss: 0.0326 - accuracy: 0.9884 - val_loss: 4.1682 - val_accuracy: 0.7160\n",
            "Epoch 8/50\n",
            "2640/2640 [==============================] - ETA: 0s - loss: 0.0329 - accuracy: 0.9883INFO:tensorflow:Assets written to: /content/drive/MyDrive/Models/deeplab/deeplab-finalpapersubmission-2020only/assets\n"
          ]
        },
        {
          "output_type": "stream",
          "name": "stderr",
          "text": [
            "/usr/local/lib/python3.7/dist-packages/keras/engine/functional.py:1410: CustomMaskWarning: Custom mask layers require a config and must override get_config. When loading, the custom mask layer must be passed to the custom_objects argument.\n",
            "  layer_config = serialize_layer_fn(layer)\n",
            "/usr/local/lib/python3.7/dist-packages/keras/saving/saved_model/layer_serialization.py:112: CustomMaskWarning: Custom mask layers require a config and must override get_config. When loading, the custom mask layer must be passed to the custom_objects argument.\n",
            "  return generic_utils.serialize_keras_object(obj)\n"
          ]
        },
        {
          "output_type": "stream",
          "name": "stdout",
          "text": [
            "\b\b\b\b\b\b\b\b\b\b\b\b\b\b\b\b\b\b\b\b\b\b\b\b\b\b\b\b\b\b\b\b\b\b\b\b\b\b\b\b\b\b\b\b\b\b\b\b\b\b\b\b\b\b\b\b\b\b\b\b\b\b\b\b\b\b\b\b\b\b\b\b\b\b\b\b\b\b\b\b\b\b\b\b\b\b\r2640/2640 [==============================] - 632s 240ms/step - loss: 0.0329 - accuracy: 0.9883 - val_loss: 1.3718 - val_accuracy: 0.7722\n",
            "Epoch 9/50\n",
            "2640/2640 [==============================] - 609s 231ms/step - loss: 0.0327 - accuracy: 0.9883 - val_loss: 3.1462 - val_accuracy: 0.7160\n",
            "Epoch 10/50\n",
            "2640/2640 [==============================] - 609s 231ms/step - loss: 0.0318 - accuracy: 0.9886 - val_loss: 4.1970 - val_accuracy: 0.6570\n",
            "Epoch 11/50\n",
            "2640/2640 [==============================] - 612s 232ms/step - loss: 0.0316 - accuracy: 0.9887 - val_loss: 4.9928 - val_accuracy: 0.6726\n",
            "Epoch 12/50\n",
            "2640/2640 [==============================] - 651s 247ms/step - loss: 0.0307 - accuracy: 0.9889 - val_loss: 3.2418 - val_accuracy: 0.7083\n",
            "Epoch 13/50\n",
            "2640/2640 [==============================] - 610s 231ms/step - loss: 0.0311 - accuracy: 0.9888 - val_loss: 2.9630 - val_accuracy: 0.7222\n",
            "Epoch 14/50\n",
            "2640/2640 [==============================] - 651s 246ms/step - loss: 0.0313 - accuracy: 0.9888 - val_loss: 7.1841 - val_accuracy: 0.6408\n",
            "Epoch 15/50\n",
            "2640/2640 [==============================] - 610s 231ms/step - loss: 0.0303 - accuracy: 0.9890 - val_loss: 4.9689 - val_accuracy: 0.6608\n",
            "Epoch 16/50\n",
            "2640/2640 [==============================] - 610s 231ms/step - loss: 0.0301 - accuracy: 0.9891 - val_loss: 6.3313 - val_accuracy: 0.6035\n",
            "Epoch 17/50\n",
            "2640/2640 [==============================] - 610s 231ms/step - loss: 0.0300 - accuracy: 0.9892 - val_loss: 9.3064 - val_accuracy: 0.6492\n",
            "Epoch 18/50\n",
            "2640/2640 [==============================] - 611s 231ms/step - loss: 0.0297 - accuracy: 0.9893 - val_loss: 6.9242 - val_accuracy: 0.6287\n",
            "Epoch 19/50\n",
            "2640/2640 [==============================] - 610s 231ms/step - loss: 0.0295 - accuracy: 0.9893 - val_loss: 5.8824 - val_accuracy: 0.6178\n",
            "Epoch 20/50\n",
            "2640/2640 [==============================] - 650s 246ms/step - loss: 0.0292 - accuracy: 0.9894 - val_loss: 6.3118 - val_accuracy: 0.6414\n",
            "Epoch 21/50\n",
            "2640/2640 [==============================] - 610s 231ms/step - loss: 0.0291 - accuracy: 0.9895 - val_loss: 8.1338 - val_accuracy: 0.6372\n",
            "Epoch 22/50\n",
            "2640/2640 [==============================] - 650s 246ms/step - loss: 0.0291 - accuracy: 0.9894 - val_loss: 4.9508 - val_accuracy: 0.6838\n",
            "Epoch 23/50\n",
            "2640/2640 [==============================] - 650s 246ms/step - loss: 0.0287 - accuracy: 0.9896 - val_loss: 4.5229 - val_accuracy: 0.7000\n",
            "Epoch 24/50\n",
            "2640/2640 [==============================] - 610s 231ms/step - loss: 0.0284 - accuracy: 0.9896 - val_loss: 5.9395 - val_accuracy: 0.7181\n",
            "Epoch 25/50\n",
            "2640/2640 [==============================] - 610s 231ms/step - loss: 0.0281 - accuracy: 0.9898 - val_loss: 5.2171 - val_accuracy: 0.7010\n",
            "Epoch 26/50\n",
            "2640/2640 [==============================] - 610s 231ms/step - loss: 0.0281 - accuracy: 0.9898 - val_loss: 3.2730 - val_accuracy: 0.7365\n",
            "Epoch 27/50\n",
            "2640/2640 [==============================] - 610s 231ms/step - loss: 0.0281 - accuracy: 0.9898 - val_loss: 3.5989 - val_accuracy: 0.7457\n",
            "Epoch 28/50\n",
            "2640/2640 [==============================] - 611s 231ms/step - loss: 0.0277 - accuracy: 0.9899 - val_loss: 4.0448 - val_accuracy: 0.7407\n",
            "Epoch 29/50\n",
            "2640/2640 [==============================] - 611s 231ms/step - loss: 0.0275 - accuracy: 0.9899 - val_loss: 4.3657 - val_accuracy: 0.7344\n",
            "Epoch 30/50\n",
            "2640/2640 [==============================] - 651s 247ms/step - loss: 0.0272 - accuracy: 0.9901 - val_loss: 3.3490 - val_accuracy: 0.7865\n",
            "Epoch 31/50\n",
            "2640/2640 [==============================] - 610s 231ms/step - loss: 0.0272 - accuracy: 0.9901 - val_loss: 9.0295 - val_accuracy: 0.7216\n",
            "Epoch 32/50\n",
            "2640/2640 [==============================] - 610s 231ms/step - loss: 0.0270 - accuracy: 0.9901 - val_loss: 3.8823 - val_accuracy: 0.7433\n",
            "Epoch 33/50\n",
            "2640/2640 [==============================] - 650s 246ms/step - loss: 0.0267 - accuracy: 0.9902 - val_loss: 3.4099 - val_accuracy: 0.7175\n",
            "Epoch 34/50\n",
            "2640/2640 [==============================] - 650s 246ms/step - loss: 0.0266 - accuracy: 0.9903 - val_loss: 4.5116 - val_accuracy: 0.7221\n",
            "Epoch 35/50\n",
            "2640/2640 [==============================] - 650s 246ms/step - loss: 0.0264 - accuracy: 0.9903 - val_loss: 3.9456 - val_accuracy: 0.6912\n",
            "Epoch 36/50\n",
            "2640/2640 [==============================] - 609s 231ms/step - loss: 0.0261 - accuracy: 0.9904 - val_loss: 4.4402 - val_accuracy: 0.7147\n",
            "Epoch 37/50\n",
            "2640/2640 [==============================] - 609s 231ms/step - loss: 0.0260 - accuracy: 0.9904 - val_loss: 4.6196 - val_accuracy: 0.6994\n",
            "Epoch 38/50\n",
            "2640/2640 [==============================] - 650s 246ms/step - loss: 0.0261 - accuracy: 0.9904 - val_loss: 3.5750 - val_accuracy: 0.6937\n",
            "Epoch 39/50\n",
            "2640/2640 [==============================] - 650s 246ms/step - loss: 0.0259 - accuracy: 0.9905 - val_loss: 4.0189 - val_accuracy: 0.6925\n",
            "Epoch 40/50\n",
            "2640/2640 [==============================] - 610s 231ms/step - loss: 0.0254 - accuracy: 0.9906 - val_loss: 4.8871 - val_accuracy: 0.7017\n",
            "Epoch 41/50\n",
            "2640/2640 [==============================] - 610s 231ms/step - loss: 0.0254 - accuracy: 0.9906 - val_loss: 3.2534 - val_accuracy: 0.7534\n",
            "Epoch 42/50\n",
            "2640/2640 [==============================] - 651s 246ms/step - loss: 0.0254 - accuracy: 0.9906 - val_loss: 5.2639 - val_accuracy: 0.7426\n",
            "Epoch 43/50\n",
            "2640/2640 [==============================] - 651s 246ms/step - loss: 0.0253 - accuracy: 0.9907 - val_loss: 5.6639 - val_accuracy: 0.7248\n",
            "Epoch 44/50\n",
            "2640/2640 [==============================] - 651s 247ms/step - loss: 0.0252 - accuracy: 0.9907 - val_loss: 5.7408 - val_accuracy: 0.6381\n",
            "Epoch 45/50\n",
            "2640/2640 [==============================] - 611s 231ms/step - loss: 0.0256 - accuracy: 0.9905 - val_loss: 3.5845 - val_accuracy: 0.7806\n",
            "Epoch 46/50\n",
            "2640/2640 [==============================] - 651s 247ms/step - loss: 0.0246 - accuracy: 0.9909 - val_loss: 4.7562 - val_accuracy: 0.7213\n",
            "Epoch 47/50\n",
            "2640/2640 [==============================] - 651s 246ms/step - loss: 0.0244 - accuracy: 0.9909 - val_loss: 5.9945 - val_accuracy: 0.7077\n",
            "Epoch 48/50\n",
            "2640/2640 [==============================] - 611s 231ms/step - loss: 0.0246 - accuracy: 0.9909 - val_loss: 6.0556 - val_accuracy: 0.7135\n",
            "Epoch 49/50\n",
            "2640/2640 [==============================] - 611s 231ms/step - loss: 0.0243 - accuracy: 0.9910 - val_loss: 4.9663 - val_accuracy: 0.7147\n",
            "Epoch 50/50\n",
            "2640/2640 [==============================] - 610s 231ms/step - loss: 0.0244 - accuracy: 0.9909 - val_loss: 5.8078 - val_accuracy: 0.7186\n"
          ]
        },
        {
          "output_type": "display_data",
          "data": {
            "image/png": "[encoded data removed]",
            "text/plain": [
              "<Figure size 432x288 with 1 Axes>"
            ]
          },
          "metadata": {
            "needs_background": "light"
          }
        },
        {
          "output_type": "display_data",
          "data": {
            "image/png": "[encoded data removed]",
            "text/plain": [
              "<Figure size 432x288 with 1 Axes>"
            ]
          },
          "metadata": {
            "needs_background": "light"
          }
        },
        {
          "output_type": "display_data",
          "data": {
            "image/png": "[encoded data removed]",
            "text/plain": [
              "<Figure size 432x288 with 1 Axes>"
            ]
          },
          "metadata": {
            "needs_background": "light"
          }
        },
        {
          "output_type": "display_data",
          "data": {
            "image/png": "[encoded data removed]",
            "text/plain": [
              "<Figure size 432x288 with 1 Axes>"
            ]
          },
          "metadata": {
            "needs_background": "light"
          }
        }
      ]
    },
    {
      "cell_type": "code",
      "metadata": {
        "id": "Ib1YVia5QVAu"
      },
      "source": [
        "## Inference \n",
        "## this is to use the saved model for predictions\n",
        "reconstructed_model = keras.models.load_model(\"/content/drive/MyDrive/Models/deeplab-finalpapersubmission\")"
      ],
      "execution_count": null,
      "outputs": []
    },
    {
      "cell_type": "code",
      "metadata": {
        "id": "qnz-wuZq2jV-"
      },
      "source": [
        "import PIL\n",
        "\n",
        "# Loading the Colormap. Defaulting since i have changed the colors hardcoded in the code\n",
        "'''\n",
        "colormap = loadmat(\n",
        "   \"/content/drive/MyDrive/deeplab/human_colormap.mat\")[\"colormap\"]\n",
        "colormap = colormap * 100\n",
        "colormap = colormap.astype(np.uint8)\n",
        "print(\"shape of colormap\", np.shape(colormap)) - (20,3)\n",
        "print(\"type of colormap\", type(colormap)) - ndarray \n",
        "'''\n",
        "\n",
        "colormap = np.ndarray(shape=(7,3), dtype=int);\n",
        "#colormap = np.zeros(7,3) \n",
        "#0 - sky - dark blue\n",
        "colormap[0,0]=0\n",
        "colormap[0,1]=113\n",
        "colormap[0,2]=188\n",
        "\n",
        "#1 - water - orange\n",
        "colormap[1,0]= 216\n",
        "colormap[1,1]= 82\n",
        "colormap[1,2]= 24\n",
        "\n",
        "#2 - bridge - yellow\n",
        "colormap[2,0]= 236\n",
        "colormap[2,1]= 176\n",
        "colormap[2,2]= 31\n",
        "\n",
        "#3 - obstacle - purple\n",
        "colormap[3,0]= 125\n",
        "colormap[3,1]= 46\n",
        "colormap[3,2]= 141\n",
        "\n",
        "#4 - living obstacle - green\n",
        "colormap[4,0]= 118\n",
        "colormap[4,1]= 171\n",
        "colormap[4,2]= 47\n",
        "\n",
        "#5 - backgnd - brown\n",
        "colormap[5,0]= 161\n",
        "colormap[5,1]= 19\n",
        "colormap[5,2]= 46\n",
        "\n",
        "#6 - self - red\n",
        "colormap[6,0]= 255\n",
        "colormap[6,1]= 0\n",
        "colormap[6,2]= 0\n",
        "\n",
        "def infer(model, image_tensor):\n",
        "    #print(\"image tensor looks like\", image_tensor)\n",
        "    predictions = reconstructed_model.predict(np.expand_dims((image_tensor), axis=0))\n",
        "    #print(\"predictions 1st step\", predictions)\n",
        "    predictions = np.squeeze(predictions)\n",
        "    #print(\"predictions 2nd step after squeeze\", predictions)\n",
        "    predictions = np.argmax(predictions, axis=2)\n",
        "    #print(\"predictions 3rd step after argmax\", predictions)\n",
        "    return predictions\n",
        "\n",
        "\n",
        "def decode_segmentation_masks(mask, colormap, n_classes):\n",
        "    r = np.zeros_like(mask).astype(np.uint8)\n",
        "    g = np.zeros_like(mask).astype(np.uint8)\n",
        "    b = np.zeros_like(mask).astype(np.uint8)\n",
        "    \n",
        "    for l in range(0, n_classes):\n",
        "        idx = mask == l\n",
        "        r[idx] = colormap[l, 0]\n",
        "        g[idx] = colormap[l, 1]\n",
        "        b[idx] = colormap[l, 2]\n",
        "    rgb = np.stack([r, g, b], axis=2)\n",
        "    #print(rgb)\n",
        "    return rgb\n",
        "\n",
        "'''\n",
        "def visualize2(predicted_mask):\n",
        "    \"\"\"Quick utility to display a model's prediction. we need color masked images, so displaying both color and black and white\"\"\"\n",
        "    #label_colours = [(59,193,246), (222,168,51), (161,78,69), (177, 168, 52), (238, 159, 231), (240, 244, 74), (160, 253, 134)]  \n",
        "    #label_colours = [(246,193,59), (51,168,222), (69,78,161), (52, 168, 177), (231, 159, 238), (74, 244, 240), (134, 253, 160)]  \n",
        "                    \n",
        "    #0 - sky(dark.blue). \n",
        "    #1 - water(light.blue).   \n",
        "    #2 - bridge(yellow).   \n",
        "    #3 - obstacle(purple).  \n",
        "    #4- living ob(green).  \n",
        "    #5- backgnd (orange). \n",
        "    #6 - self(pink)\n",
        "    # Colors are same as segments.ai scheme\n",
        "    label_colours = [(0,113,188), (216,82,24), (236,176,31), (125, 46, 141), (118, 171, 47), (161, 19, 46), (255,0,0)]  \n",
        "    \n",
        "    print(\"mask shape = \", np.shape(predicted_mask))\n",
        "    print(\"Unique pixel values = \", np.unique(predicted_mask))\n",
        "    print(\"Type of mask = \", type(predicted_mask))\n",
        "    \n",
        "\n",
        "    img1 = PIL.Image.new('RGB', (320, 256))\n",
        "    pixels = img1.load()\n",
        "    print(type(pixels))\n",
        "    print(pixels[0,0])\n",
        "    for j_, j in enumerate(predicted_mask[:, :]):\n",
        "        #print (j_, j)\n",
        "        for k_, k in enumerate(j):\n",
        "              #print(k_, k)\n",
        "              if k < num_classes:\n",
        "                  pixels[k_,j_] = label_colours[k]\n",
        "    output = np.array(img1)\n",
        "    \n",
        "    print(\"this is the colored inferred image\")\n",
        "    display(img1)\n",
        "'''\n",
        "\n",
        "def get_overlay(image, colored_mask):\n",
        "    image = tf.keras.preprocessing.image.array_to_img(image)\n",
        "    image = np.array(image).astype(np.uint8)\n",
        "    overlay = cv2.addWeighted(image, 0.35, colored_mask, 0.65, 0)\n",
        "    return overlay\n",
        "\n",
        "\n",
        "#def plot_samples_matplotlib(display_list, figsize=(5, 3)):\n",
        "def plot_samples_matplotlib(display_list, filename, index, start, figsize=(5, 3)):\n",
        "    _, axes = plt.subplots(nrows=1, ncols=len(display_list), figsize=figsize)\n",
        "    for i in range(len(display_list)):\n",
        "        if display_list[i].shape[-1] == 3:\n",
        "            axes[i].imshow(tf.keras.preprocessing.image.array_to_img(display_list[i]))\n",
        "        else:\n",
        "            axes[i].imshow(display_list[i])\n",
        "\n",
        "    index_mod = index+start \n",
        "    #Saving the inferred segmented image as a picture \n",
        "    plt.savefig('/content/drive/MyDrive/IRdatasetmini-inferences/deeplab/picture/' + str(index_mod) +'--run1--' +  filename)\n",
        "    \n",
        "    #Displays the image on screen         \n",
        "    #print (index)\n",
        "    plt.show()\n",
        "    \n",
        "\n",
        "\n",
        "def plot_predictions(images_list, masks_list, start, colormap, model):\n",
        "    for (index, mask_file) in enumerate(masks_list):\n",
        "      gt_mask_array = ((np.unique(cv2.imread(mask_file,cv2.IMREAD_UNCHANGED))))\n",
        "      #print (\"mask file is\", mask_file)\n",
        "      filename = mask_file.split('/')[-1]\n",
        "      #print(filename)\n",
        "      object_living_array = [3,4]\n",
        "      if((set(object_living_array) & set(gt_mask_array))== set(object_living_array)):\n",
        "            image_tensor = read_image(images_list[index])\n",
        "            prediction_mask = infer(image_tensor=image_tensor, model=reconstructed_model)\n",
        "            #print(prediction_mask)\n",
        "\n",
        "            output_Im = PIL.Image.fromarray(prediction_mask.astype(np.uint8))\n",
        "\n",
        "            index_mod = index+start \n",
        "\n",
        "            ##Saving the category ids in an image for programatic IoU check \n",
        "            output_Im.save(('/content/drive/MyDrive/IRdatasetmini-inferences/deeplab/program/' + str(index_mod) +'--run1--' +  filename))\n",
        "\n",
        "            prediction_colormap = decode_segmentation_masks(prediction_mask, colormap, 7)\n",
        "            overlay = get_overlay(image_tensor, prediction_colormap)\n",
        "            '''\n",
        "            plot_samples_matplotlib(\n",
        "              [image_tensor, overlay, prediction_colormap], figsize=(18, 14) \n",
        "                                  )\n",
        "            '''\n",
        "            plot_samples_matplotlib(\n",
        "              [image_tensor, overlay, prediction_colormap], filename, index, start, figsize=(18, 14) \n",
        "                                  )"
      ],
      "execution_count": null,
      "outputs": []
    },
    {
      "cell_type": "code",
      "metadata": {
        "id": "3V9jArnP2p0_"
      },
      "source": [
        "start = 50\n",
        "end = 100\n",
        "plot_predictions(test_images[start:end], test_masks [start:end], start, colormap, model=reconstructed_model)"
      ],
      "execution_count": null,
      "outputs": []
    },
    {
      "cell_type": "code",
      "metadata": {
        "id": "BQZWiUFfB4Wn"
      },
      "source": [
        "plot_predictions(test_masks[300:301], colormap, model=reconstructed_model)"
      ],
      "execution_count": null,
      "outputs": []
    }
  ]
}