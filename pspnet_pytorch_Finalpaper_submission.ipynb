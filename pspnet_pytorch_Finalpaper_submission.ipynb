{
  "nbformat": 4,
  "nbformat_minor": 0,
  "metadata": {
    "colab": {
      "name": "pspnet-pytorch-Finalpaper_submission.ipynb",
      "provenance": [],
      "collapsed_sections": [],
      "authorship_tag": "ABX9TyNNBu5JwJ1NgFe84sESSrre",
      "include_colab_link": true
    },
    "kernelspec": {
      "name": "python3",
      "display_name": "Python 3"
    },
    "language_info": {
      "name": "python"
    },
    "accelerator": "GPU"
  },
  "cells": [
    {
      "cell_type": "markdown",
      "metadata": {
        "id": "view-in-github",
        "colab_type": "text"
      },
      "source": [
        "<a href=\"https://colab.research.google.com/github/ssnirgudkar/Datasetpaper-final/blob/main/pspnet_pytorch_Finalpaper_submission.ipynb\" target=\"_parent\"><img src=\"https://colab.research.google.com/assets/colab-badge.svg\" alt=\"Open In Colab\"/></a>"
      ]
    },
    {
      "cell_type": "markdown",
      "metadata": {
        "id": "JYlYx-tlnrte"
      },
      "source": [
        "#Encoder - se_resnext50_32x4d, Decoder - FPN, 100 epochs. FPN = next generation pspnet \n",
        "This is the final code that should be used\n",
        "\n",
        "## you need to create the model folder in the drive till the actual file path. model.save only creates the file not the folder"
      ]
    },
    {
      "cell_type": "markdown",
      "metadata": {
        "id": "e-T-DGiWU3kt"
      },
      "source": [
        "https://github.com/qubvel/segmentation_models.pytorch/blob/master/examples/cars%20segmentation%20(camvid).ipynb\n",
        "\n",
        "** our masked image is gray scale with 1 channel (height * width*channel=1). and the pixel values are equal to the class ids. Each pixle value is only 1 value and not (a*b*c). The CV2.imread, with a flag od 0 that reads it as a gray scalae does not work for our images although it works for the other dataset\n",
        "\n",
        "## image size: (256, 320) #it's height and width\n",
        "## Mask - channel - , size - extension.png, gray scale\n",
        "\n",
        "## Use GPU so that CUDA is available\n",
        "\n",
        "##Run1\n",
        "1. train - 2570, val - 740, test - 370 , Epochs - 500 \n",
        "2. batchsize - 10 for train, 5 for validation. \n",
        "3. train running with 4 worker threads, validation with 1.\n",
        "4. i am not using augmentation, and no existing encoder weights.\n",
        "5. Training time - 11 hrs  hrs. Testing time -  8 min\n",
        "\n",
        "##Run2\n",
        "1. train - , val - , test - , Epochs - 100\n",
        "2. NO preloaded / imagenet weights \n",
        "2. batchsize - 10 for train, 5 for validation. \n",
        "3. train running with 4 worker threads, validation with 1.\n",
        "4. i am not using augmentation, and no existing encoder weights.\n",
        "5. Training time - hrs. Testing time -   min\n",
        "\n",
        "##Run3\n",
        "1. train -24814 , val - 7090, test - 3544, Epochs - 76(failed on 77th)\n",
        "2. NO preloaded / imagenet weights \n",
        "2. batchsize - 10 for train, 5 for validation. \n",
        "3. train running with 4 worker threads, validation with 1.\n",
        "4. i am not using augmentation, and no existing encoder weights.\n",
        "5. Training time - 18 hrs. Testing time -  1hr 15 min\n",
        "\n",
        "##Run4\n",
        "1. train - 3438 , val - 982 , test - 492 , Epochs - 50\n",
        "2. NO preloaded / imagenet weights \n",
        "2. batchsize - 10 for train, 5 for validation. \n",
        "3. train running with 4 worker threads, validation with 1.\n",
        "4. i am not using augmentation, and no existing encoder weights.\n",
        "5. Training time - 1 hrs. Testing time -  5 min\n",
        "Model - pspnet-pytorch-finalpapersubmission_V2\n",
        "##Even with 100 epocs 346 images of the 491 have a few pixels that are not mapped and have a value of 0. need to check in the architecture\n",
        "\n",
        "##Run5\n",
        "size - actual size , 2020 only \n",
        "1. train - 3438 , val - 982 , test - 492 , Epochs - 50\n",
        "2. NO preloaded / imagenet weights \n",
        "2. batchsize - 10 for train, 5 for validation. \n",
        "3. train running with 4 worker threads, validation with 1.\n",
        "4. i am not using augmentation, and no existing encoder weights.\n",
        "5. Training time - 1 hrs. Testing time -  5 min\n",
        "Model - pspnet-pytorch-finalpapersubmission_V2\n",
        "##Even with 100 epocs 346 images of the 491 have a few pixels that are not mapped and have a value of 0. need to check in the architecture\n",
        "\n"
      ]
    },
    {
      "cell_type": "markdown",
      "metadata": {
        "id": "11nEKAj4mXcL"
      },
      "source": [
        "#To Do - \n",
        "1. Right now dice loss and iau for accuracy. check if we need to select any other metrics \n",
        "2. We are not plotting the losses / accuracy. need to check what to use to get the plots. should that be consistent across all the models? in that case should we use tensorboard?\n",
        "3. collapse all classes into 1 complete image \n",
        "4. get the file name automatically based on the run number, instead of having to manually add it while saving the image on drive\n",
        "5. Ensure that the sort order is the same between unet and pspnet so that we know that its the same image \n",
        "6. HUman objects are really bad in pspnet. many ob are also missed if they are small. check if any parameter needs to be changed"
      ]
    },
    {
      "cell_type": "code",
      "metadata": {
        "id": "gWlqTikUn49F"
      },
      "source": [
        "!nvidia-smi"
      ],
      "execution_count": null,
      "outputs": []
    },
    {
      "cell_type": "code",
      "metadata": {
        "id": "oBdE7JFgimEH",
        "colab": {
          "base_uri": "https://localhost:8080/"
        },
        "outputId": "f96aa64c-8c48-45b5-ad1f-89e1b6f34029"
      },
      "source": [
        "from google.colab import drive\n",
        "drive.mount('/content/drive', force_remount = True)"
      ],
      "execution_count": 1,
      "outputs": [
        {
          "output_type": "stream",
          "name": "stdout",
          "text": [
            "Mounted at /content/drive\n"
          ]
        }
      ]
    },
    {
      "cell_type": "code",
      "metadata": {
        "id": "GWmjSDMi34CQ",
        "colab": {
          "base_uri": "https://localhost:8080/"
        },
        "outputId": "aa53a177-ffd9-4870-9e9b-5c9d3c33f149"
      },
      "source": [
        "# Install required libs\n",
        "!pip install -U segmentation-models-pytorch==0.2.1 albumentations --user"
      ],
      "execution_count": 2,
      "outputs": [
        {
          "output_type": "stream",
          "name": "stdout",
          "text": [
            "Requirement already satisfied: segmentation-models-pytorch==0.2.1 in /root/.local/lib/python3.7/site-packages (0.2.1)\n",
            "Requirement already satisfied: albumentations in /root/.local/lib/python3.7/site-packages (1.1.0)\n",
            "Requirement already satisfied: timm==0.4.12 in /root/.local/lib/python3.7/site-packages (from segmentation-models-pytorch==0.2.1) (0.4.12)\n",
            "Requirement already satisfied: efficientnet-pytorch==0.6.3 in /root/.local/lib/python3.7/site-packages (from segmentation-models-pytorch==0.2.1) (0.6.3)\n",
            "Requirement already satisfied: pretrainedmodels==0.7.4 in /root/.local/lib/python3.7/site-packages (from segmentation-models-pytorch==0.2.1) (0.7.4)\n",
            "Requirement already satisfied: torchvision>=0.5.0 in /usr/local/lib/python3.7/dist-packages (from segmentation-models-pytorch==0.2.1) (0.11.1+cu111)\n",
            "Requirement already satisfied: torch in /usr/local/lib/python3.7/dist-packages (from efficientnet-pytorch==0.6.3->segmentation-models-pytorch==0.2.1) (1.10.0+cu111)\n",
            "Requirement already satisfied: munch in /root/.local/lib/python3.7/site-packages (from pretrainedmodels==0.7.4->segmentation-models-pytorch==0.2.1) (2.5.0)\n",
            "Requirement already satisfied: tqdm in /usr/local/lib/python3.7/dist-packages (from pretrainedmodels==0.7.4->segmentation-models-pytorch==0.2.1) (4.62.3)\n",
            "Requirement already satisfied: typing-extensions in /usr/local/lib/python3.7/dist-packages (from torch->efficientnet-pytorch==0.6.3->segmentation-models-pytorch==0.2.1) (3.10.0.2)\n",
            "Requirement already satisfied: numpy in /usr/local/lib/python3.7/dist-packages (from torchvision>=0.5.0->segmentation-models-pytorch==0.2.1) (1.19.5)\n",
            "Requirement already satisfied: pillow!=8.3.0,>=5.3.0 in /usr/local/lib/python3.7/dist-packages (from torchvision>=0.5.0->segmentation-models-pytorch==0.2.1) (7.1.2)\n",
            "Requirement already satisfied: PyYAML in /usr/local/lib/python3.7/dist-packages (from albumentations) (3.13)\n",
            "Requirement already satisfied: opencv-python-headless>=4.1.1 in /root/.local/lib/python3.7/site-packages (from albumentations) (4.5.5.62)\n",
            "Requirement already satisfied: qudida>=0.0.4 in /root/.local/lib/python3.7/site-packages (from albumentations) (0.0.4)\n",
            "Requirement already satisfied: scikit-image>=0.16.1 in /usr/local/lib/python3.7/dist-packages (from albumentations) (0.18.3)\n",
            "Requirement already satisfied: scipy in /usr/local/lib/python3.7/dist-packages (from albumentations) (1.4.1)\n",
            "Requirement already satisfied: scikit-learn>=0.19.1 in /usr/local/lib/python3.7/dist-packages (from qudida>=0.0.4->albumentations) (1.0.2)\n",
            "Requirement already satisfied: networkx>=2.0 in /usr/local/lib/python3.7/dist-packages (from scikit-image>=0.16.1->albumentations) (2.6.3)\n",
            "Requirement already satisfied: matplotlib!=3.0.0,>=2.0.0 in /usr/local/lib/python3.7/dist-packages (from scikit-image>=0.16.1->albumentations) (3.2.2)\n",
            "Requirement already satisfied: imageio>=2.3.0 in /usr/local/lib/python3.7/dist-packages (from scikit-image>=0.16.1->albumentations) (2.4.1)\n",
            "Requirement already satisfied: tifffile>=2019.7.26 in /usr/local/lib/python3.7/dist-packages (from scikit-image>=0.16.1->albumentations) (2021.11.2)\n",
            "Requirement already satisfied: PyWavelets>=1.1.1 in /usr/local/lib/python3.7/dist-packages (from scikit-image>=0.16.1->albumentations) (1.2.0)\n",
            "Requirement already satisfied: pyparsing!=2.0.4,!=2.1.2,!=2.1.6,>=2.0.1 in /usr/local/lib/python3.7/dist-packages (from matplotlib!=3.0.0,>=2.0.0->scikit-image>=0.16.1->albumentations) (3.0.6)\n",
            "Requirement already satisfied: kiwisolver>=1.0.1 in /usr/local/lib/python3.7/dist-packages (from matplotlib!=3.0.0,>=2.0.0->scikit-image>=0.16.1->albumentations) (1.3.2)\n",
            "Requirement already satisfied: cycler>=0.10 in /usr/local/lib/python3.7/dist-packages (from matplotlib!=3.0.0,>=2.0.0->scikit-image>=0.16.1->albumentations) (0.11.0)\n",
            "Requirement already satisfied: python-dateutil>=2.1 in /usr/local/lib/python3.7/dist-packages (from matplotlib!=3.0.0,>=2.0.0->scikit-image>=0.16.1->albumentations) (2.8.2)\n",
            "Requirement already satisfied: six>=1.5 in /usr/local/lib/python3.7/dist-packages (from python-dateutil>=2.1->matplotlib!=3.0.0,>=2.0.0->scikit-image>=0.16.1->albumentations) (1.15.0)\n",
            "Requirement already satisfied: joblib>=0.11 in /usr/local/lib/python3.7/dist-packages (from scikit-learn>=0.19.1->qudida>=0.0.4->albumentations) (1.1.0)\n",
            "Requirement already satisfied: threadpoolctl>=2.0.0 in /usr/local/lib/python3.7/dist-packages (from scikit-learn>=0.19.1->qudida>=0.0.4->albumentations) (3.0.0)\n"
          ]
        }
      ]
    },
    {
      "cell_type": "code",
      "source": [
        "#!pip install -U  albumentations --user"
      ],
      "metadata": {
        "id": "pjp_rM3wEJ62"
      },
      "execution_count": null,
      "outputs": []
    },
    {
      "cell_type": "code",
      "metadata": {
        "id": "bshuhFbf4HRM"
      },
      "source": [
        "#!pip uninstall -y segmentation-models-pytorch"
      ],
      "execution_count": null,
      "outputs": []
    },
    {
      "cell_type": "code",
      "metadata": {
        "id": "Oz0adR3tUZVl"
      },
      "source": [
        "#!git clone https://github.com/Cadene/pretrained-models.pytorch.git\n",
        "#!git clone https://github.com/qubvel/segmentation_models.pytorch\n",
        "#!git clone https://github.com/alexgkendall/SegNet-Tutorial"
      ],
      "execution_count": null,
      "outputs": []
    },
    {
      "cell_type": "code",
      "metadata": {
        "id": "7thoJfVhVlga"
      },
      "source": [
        "#!pip install -U segmentation-models-pytorch albumentations --user\n",
        "#!pip uninstall -y segmentation-models-pytorch\n",
        "#!pip install segmentation_models_pytorch\n",
        "\n",
        "#!pip install git+https://github.com/IvyGongoogle/pretrained-models.pytorch\n",
        "#!pip install git+https://github.com/lukemelas/EfficientNet-PyTorch\n"
      ],
      "execution_count": null,
      "outputs": []
    },
    {
      "cell_type": "code",
      "metadata": {
        "id": "9u3NegrvTlOl"
      },
      "source": [
        "#!pip install efficientnet-pytorch\n",
        "#!pip install pretrainedmodels "
      ],
      "execution_count": null,
      "outputs": []
    },
    {
      "cell_type": "code",
      "metadata": {
        "id": "B3_Ebd77C2Hb"
      },
      "source": [
        "#!pip install git+https://github.com/qubvel/segmentation_models.pytorch\n",
        "\n",
        "#!pip install git+https://github.com/qubvel/segmentation_models.pytorch@4f94380815f831605f4641b7193df2eccd5652a3\n"
      ],
      "execution_count": null,
      "outputs": []
    },
    {
      "cell_type": "code",
      "source": [
        "#!pip install git+https://github.com/qubvel/segmentation_models.pytorch@a288d337821716ad67125127b5dd96a1cd833391 #pick the older version of git commit"
      ],
      "metadata": {
        "id": "JSN3nS4nD7WH"
      },
      "execution_count": null,
      "outputs": []
    },
    {
      "cell_type": "markdown",
      "metadata": {
        "id": "W9xamsKiE9c6"
      },
      "source": [
        "# Restart Runtime now from the MENU !!! "
      ]
    },
    {
      "cell_type": "code",
      "metadata": {
        "id": "jkIUWW0c6IJN"
      },
      "source": [
        "import torch\n",
        "import numpy as np\n",
        "import torch.nn as nn\n",
        "import segmentation_models_pytorch as smp"
      ],
      "execution_count": 1,
      "outputs": []
    },
    {
      "cell_type": "code",
      "metadata": {
        "id": "QCpIpta03RyH"
      },
      "source": [
        "import os\n",
        "os.environ['CUDA_VISIBLE_DEVICES'] = '0'\n",
        "\n",
        "import numpy as np\n",
        "import cv2\n",
        "import matplotlib.pyplot as plt"
      ],
      "execution_count": 2,
      "outputs": []
    },
    {
      "cell_type": "code",
      "metadata": {
        "id": "RIQFK_CNoJa5",
        "colab": {
          "base_uri": "https://localhost:8080/"
        },
        "outputId": "261f527c-ce78-4714-a8db-84077c5f17e8"
      },
      "source": [
        "torch.cuda.is_available()\n"
      ],
      "execution_count": 3,
      "outputs": [
        {
          "output_type": "execute_result",
          "data": {
            "text/plain": [
              "True"
            ]
          },
          "metadata": {},
          "execution_count": 3
        }
      ]
    },
    {
      "cell_type": "code",
      "source": [
        "import zipfile\n",
        "zip_ref = zipfile.ZipFile(\"/content/drive/MyDrive/IRDatasetConsolidated/train.zip\", \"r\")\n",
        "zip_ref.extractall(\"/content/IRDatasetFinal\")\n",
        "zip_ref.close()\n",
        "\n",
        "zip_ref = zipfile.ZipFile(\"/content/drive/MyDrive/IRDatasetConsolidated/trainannot.zip\", \"r\")\n",
        "zip_ref.extractall(\"/content/IRDatasetFinal\")\n",
        "zip_ref.close()\n",
        "\n",
        "zip_ref = zipfile.ZipFile(\"/content/drive/MyDrive/IRDatasetConsolidated/val.zip\", \"r\")\n",
        "zip_ref.extractall(\"/content/IRDatasetFinal\")\n",
        "zip_ref.close()\n",
        "\n",
        "zip_ref = zipfile.ZipFile(\"/content/drive/MyDrive/IRDatasetConsolidated/valannot.zip\", \"r\")\n",
        "zip_ref.extractall(\"/content/IRDatasetFinal\")\n",
        "zip_ref.close()"
      ],
      "metadata": {
        "id": "PUg6t9rmb5yz"
      },
      "execution_count": 3,
      "outputs": []
    },
    {
      "cell_type": "code",
      "source": [
        "'''\n",
        "#only for testing humans\n",
        "import zipfile\n",
        "zip_ref = zipfile.ZipFile(\"/content/drive/MyDrive/IRDatasetConsolidated/test.zip\", \"r\")\n",
        "zip_ref.extractall(\"/content/IRDatasetFinal\")\n",
        "zip_ref.close()\n",
        "\n",
        "zip_ref = zipfile.ZipFile(\"/content/drive/MyDrive/IRDatasetConsolidated/testannot.zip\", \"r\")\n",
        "zip_ref.extractall(\"/content/IRDatasetFinal\")\n",
        "zip_ref.close()\n",
        "'''"
      ],
      "metadata": {
        "id": "4xc5_c7jkyFZ"
      },
      "execution_count": 5,
      "outputs": []
    },
    {
      "cell_type": "code",
      "source": [
        "'''images are now on drive \n",
        "#for testing with pure images. no mirror or any other augmentation\n",
        "\n",
        "!cp /content/IRDatasetFinal/train/a*_[0-9][0-9][0-9][0-9][0-9][0-9].png /content/drive/MyDrive/psp-image/train\n",
        "!cp /content/IRDatasetFinal/trainannot/a*_[0-9][0-9][0-9][0-9][0-9][0-9].png /content/drive/MyDrive/psp-image/trainannot\n",
        "\n",
        "!cp /content/IRDatasetFinal/val/a*_[0-9][0-9][0-9][0-9][0-9][0-9].png /content/drive/MyDrive/psp-image/val\n",
        "!cp /content/IRDatasetFinal/valannot/a*_[0-9][0-9][0-9][0-9][0-9][0-9].png /content/drive/MyDrive/psp-image/valannot\n",
        "'''\n"
      ],
      "metadata": {
        "id": "IxDbjNHSjJmT"
      },
      "execution_count": 14,
      "outputs": []
    },
    {
      "cell_type": "code",
      "source": [
        "'''\n",
        "#aX_Y.png\n",
        "#aX_Y_Z.png\n",
        "#!ls /content/IRDatasetFinal/train/a*_*_*.png\n",
        "#!mv /content/IRDatasetFinal/a*_*_*.png /tmp\n",
        "!ls /content/IRDatasetFinal/train/a*_[0-9][0-9][0-9][0-9][0-9][0-9].png \n",
        "'''"
      ],
      "metadata": {
        "id": "6eg98V5VzC3J"
      },
      "execution_count": null,
      "outputs": []
    },
    {
      "cell_type": "code",
      "source": [
        "'''only for testing humans\n",
        "!cp /content/drive/MyDrive/psp-image/train/*.png /content/drive/MyDrive/psp-image/test\n",
        "!cp /content/drive/MyDrive/psp-image/trainannot/*.png /content/drive/MyDrive/psp-image/testannot\n",
        "'''"
      ],
      "metadata": {
        "id": "S9B-XWRQt127"
      },
      "execution_count": null,
      "outputs": []
    },
    {
      "cell_type": "code",
      "source": [
        "#copy raw images from pspimages on drive to ram \n",
        "\n",
        "!mkdir /content/PSPFinal/\n",
        "!mkdir /content/PSPFinal/train\n",
        "!mkdir /content/PSPFinal/trainannot\n",
        "!mkdir /content/PSPFinal/val\n",
        "!mkdir /content/PSPFinal/valannot\n",
        "\n",
        "\n",
        "\n",
        "!cp /content/drive/MyDrive/psp-image/train/*.png  /content/PSPFinal/train\n",
        "!cp /content/drive/MyDrive/psp-image/trainannot/*.png  /content/PSPFinal/trainannot\n",
        "\n",
        "!cp /content/drive/MyDrive/psp-image/val/*.png  /content/PSPFinal/val\n",
        "!cp /content/drive/MyDrive/psp-image/valannot/*.png  /content/PSPFinal/valannot\n"
      ],
      "metadata": {
        "colab": {
          "base_uri": "https://localhost:8080/"
        },
        "id": "vn7JETuj5JcS",
        "outputId": "2f9fef55-4d19-4439-e1c7-d0b7688b4f40"
      },
      "execution_count": 4,
      "outputs": [
        {
          "output_type": "stream",
          "name": "stdout",
          "text": [
            "mkdir: cannot create directory ‘/content/PSPFinal/’: File exists\n",
            "mkdir: cannot create directory ‘/content/PSPFinal/train’: File exists\n",
            "mkdir: cannot create directory ‘/content/PSPFinal/trainannot’: File exists\n",
            "mkdir: cannot create directory ‘/content/PSPFinal/val’: File exists\n",
            "mkdir: cannot create directory ‘/content/PSPFinal/valannot’: File exists\n"
          ]
        }
      ]
    },
    {
      "cell_type": "code",
      "source": [
        "import os \n",
        "#APP_FOLDER = '/content/IRDatasetFinal/val'\n",
        "APP_FOLDER = '/content/PSPFinal/val'\n",
        "totalFiles = 0\n",
        "totalDir = 0\n",
        "\n",
        "for base, dirs, files in os.walk(APP_FOLDER):\n",
        "    print('Searching in : ',base)\n",
        "    for directories in dirs:\n",
        "        totalDir += 1\n",
        "    for Files in files:\n",
        "        totalFiles += 1\n",
        "   \n",
        "\n",
        "print('Total number of files',totalFiles)\n",
        "print('Total Number of directories',totalDir)\n",
        "print('Total:',(totalDir + totalFiles))"
      ],
      "metadata": {
        "colab": {
          "base_uri": "https://localhost:8080/"
        },
        "id": "_tTWrwVLewvQ",
        "outputId": "d10882c9-39a2-4844-bd23-00a263f37310"
      },
      "execution_count": 5,
      "outputs": [
        {
          "output_type": "stream",
          "name": "stdout",
          "text": [
            "Searching in :  /content/PSPFinal/val\n",
            "Total number of files 565\n",
            "Total Number of directories 0\n",
            "Total: 565\n"
          ]
        }
      ]
    },
    {
      "cell_type": "code",
      "metadata": {
        "id": "9c8jJFC435wa"
      },
      "source": [
        "#DATA_DIR = '/content/drive/MyDrive/TheIRDatasetMini'\n",
        "#DATA_DIR = '/content/drive/MyDrive/TheIRDatasetMini_backup'\n",
        "#DATA_DIR = '/content/drive/MyDrive/psp-1.0'\n",
        "#DATA_DIR = '/content/IRDatasetFinal'   #contains all final images 26K. use this unless experiementing \n",
        "DATA_DIR = '/content/PSPFinal' # for testing with raw images. no augmentation. 1977 train, 565 val\n",
        "# load repo with data if it is not exists\n",
        "if not os.path.exists(DATA_DIR):\n",
        "    print('Loading data...')\n",
        "    os.system('git clone https://github.com/alexgkendall/SegNet-Tutorial ./data')\n",
        "    print('Done!')"
      ],
      "execution_count": 6,
      "outputs": []
    },
    {
      "cell_type": "code",
      "source": [
        "CLASSES = ['sky', 'water', 'bridge', 'obstacle', 'human', 'background', 'self']\n",
        "classarray = [CLASSES.index(cls.lower()) for cls in CLASSES]\n",
        "print(\"classarray={0}\".format(classarray))"
      ],
      "metadata": {
        "colab": {
          "base_uri": "https://localhost:8080/"
        },
        "id": "hsGGJRIju--z",
        "outputId": "6cc2201c-9fa0-4573-94a6-5667aa12b361"
      },
      "execution_count": 7,
      "outputs": [
        {
          "output_type": "stream",
          "name": "stdout",
          "text": [
            "classarray=[0, 1, 2, 3, 4, 5, 6]\n"
          ]
        }
      ]
    },
    {
      "cell_type": "code",
      "metadata": {
        "id": "TyxerGLW4FLz"
      },
      "source": [
        "x_train_dir = os.path.join(DATA_DIR, 'train')\n",
        "y_train_dir = os.path.join(DATA_DIR, 'trainannot')\n",
        "\n",
        "x_valid_dir = os.path.join(DATA_DIR, 'val')\n",
        "y_valid_dir = os.path.join(DATA_DIR, 'valannot')\n",
        "\n",
        "#x_test_dir = os.path.join(DATA_DIR, 'test')\n",
        "#y_test_dir = os.path.join(DATA_DIR, 'testannot')\n",
        "\n",
        "NUM_CLASSES = 7 \n",
        "#CLASSES = ['sky', 'water', 'bridge', 'obstacle', 'livingobstacle', 'background', 'self']\n",
        "CLASSES = ['sky', 'water', 'bridge', 'obstacle', 'human', 'background', 'self']\n",
        "\n",
        "#image_width = 320\n",
        "#image_height = 256\n",
        "  \n",
        "image_width = 640\n",
        "image_height = 512\n",
        "\n",
        "train_batch_size = 10 \n",
        "#train_batch_size = 1\n",
        "val_batch_size = 5 \n",
        "#val_batch_size = 1 \n",
        "\n",
        "#learning rate \n",
        "lr=0.0001 \n",
        "\n",
        "#epoch +1 as range is used \n",
        "epoch = 100\n",
        " \n"
      ],
      "execution_count": 16,
      "outputs": []
    },
    {
      "cell_type": "code",
      "metadata": {
        "id": "kHvu2KtF4gzr"
      },
      "source": [
        "'''\n",
        "# helper function for data visualization\n",
        "### TO DO - CHANGE THE COLOR MAP IN MATPLOTLIB FOR CONSISTENCY\n",
        "def visualize(**images):\n",
        "    \"\"\"PLot images in one row.\"\"\"\n",
        "    n = len(images)\n",
        "    plt.figure(figsize=(16, 5))\n",
        "    for i, (name, image) in enumerate(images.items()):\n",
        "        plt.subplot(1, n, i + 1)\n",
        "        plt.xticks([])\n",
        "        plt.yticks([])\n",
        "        plt.title(' '.join(name.split('_')).title())\n",
        "        plt.imshow(image)\n",
        "    plt.show()\n",
        "'''"
      ],
      "execution_count": 32,
      "outputs": []
    },
    {
      "cell_type": "code",
      "metadata": {
        "id": "IzxOM82S0M7X"
      },
      "source": [
        "'''\n",
        "#inference\n",
        "import PIL\n",
        "#def visualize2(input_image, input_mask, predicted_mask):\n",
        "def visualize2(predicted_mask,sequence,imagename):\n",
        "    #NUM_CLASSES = 7\n",
        "    \"\"\"Quick utility to display a model's prediction. we need color masked images, so displaying both color and black and white\"\"\"\n",
        "                   \n",
        "    #0 - sky(dark.blue). \n",
        "    #1 - water(light.blue).   \n",
        "    #2 - bridge(yellow).   \n",
        "    #3 - obstacle(purple).  \n",
        "    #4- living ob(green).  \n",
        "    #5- backgnd (orange). \n",
        "    #6 - self(pink)\n",
        "    #7 - null values. white\n",
        "    # Colors are same as segments.ai scheme\n",
        "    \n",
        "    label_colours = [(0,113,188), (216,82,24), (236,176,31), (125, 46, 141), (118, 171, 47), (161, 19, 46), (255,0,0), (255,255,255)]  \n",
        "    \n",
        "    #print(\"mask shape = \", np.shape(predicted_mask))\n",
        "    #print(\"Unique pixel values = \", np.unique(predicted_mask))\n",
        "    #print(\"Type of mask = \", type(predicted_mask))\n",
        "    \n",
        "\n",
        "    img1 = PIL.Image.new('RGB', (image_width, image_height))\n",
        "    pixels = img1.load()\n",
        "    #print(type(pixels))\n",
        "    #print(pixels[0,0])\n",
        "    #converting incoming predicted mask from float to an int \n",
        "    int_predicted_mask = predicted_mask.astype(int)\n",
        "    #for j_, j in enumerate(predicted_mask[:, :]):\n",
        "    for j_, j in enumerate(int_predicted_mask[:, :]):  \n",
        "        #print (j_, j)\n",
        "        for k_, k in enumerate(j):\n",
        "              #print(k_, k)\n",
        "              if k < NUM_CLASSES:\n",
        "                 pixels[k_,j_] = label_colours[k]\n",
        "    output = np.array(img1)\n",
        "    \n",
        "    #print(\"this is the colored inferred image\")\n",
        "    display(img1)\n",
        "\n",
        "    #save inferred image \n",
        "    #img1.save('/content/drive/MyDrive/IRdatasetmini-inferences/pspnet/picture/' + str(sequence) + '--run1--' + imagename)\n",
        "    img1.save('/content/drive/MyDrive/IRDatasetFinal-Inferences/pspnet/picture/' + str(sequence) + '--run2020-1--' + imagename)\n",
        "'''"
      ],
      "execution_count": null,
      "outputs": []
    },
    {
      "cell_type": "code",
      "metadata": {
        "id": "ex_P5Fvi4mF4"
      },
      "source": [
        "from torch.utils.data import DataLoader\n",
        "from torch.utils.data import Dataset as BaseDataset\n",
        "import random"
      ],
      "execution_count": 8,
      "outputs": []
    },
    {
      "cell_type": "code",
      "metadata": {
        "id": "CLwpyW_P4vtk"
      },
      "source": [
        "class Dataset(BaseDataset):\n",
        "    \"\"\"CamVid Dataset. Read images, apply augmentation and preprocessing transformations.\n",
        "    \n",
        "    Args:\n",
        "        images_dir (str): path to images folder\n",
        "        masks_dir (str): path to segmentation masks folder\n",
        "        class_values (list): values of classes to extract from segmentation mask\n",
        "        augmentation (albumentations.Compose): data transfromation pipeline \n",
        "            (e.g. flip, scale, etc.)\n",
        "        preprocessing (albumentations.Compose): data preprocessing \n",
        "            (e.g. noralization, shape manipulation, etc.)\n",
        "    \n",
        "    \"\"\"\n",
        "\n",
        "    #0 - sky 1 - water 2 - bridge 3 - obstacle 4- living ob  5- backgnd 6 - self  \n",
        "               \n",
        "    \n",
        "    #CLASSES = ['sky', 'water', 'bridge', 'obstacle', 'living obstacle', 'background', 'self']\n",
        "    #NUM_CLASSES = 7              \n",
        "    \n",
        "    def __init__(\n",
        "            self, \n",
        "            images_dir, \n",
        "            masks_dir, \n",
        "            classes=None, \n",
        "            augmentation=None, \n",
        "            preprocessing=None,\n",
        "    ):\n",
        "        self.ids = os.listdir(images_dir)\n",
        "        #removing the sort and replacing with random so that images get trained in a shuffled way\n",
        "        self.images_fps = sorted([os.path.join(images_dir, image_id) for image_id in self.ids])\n",
        "        self.masks_fps = sorted([os.path.join(masks_dir, image_id) for image_id in self.ids])\n",
        "\n",
        "        indices_train = random.sample(range(len(self.images_fps)), len(self.images_fps))\n",
        "        self.images_fps = list(map(self.images_fps.__getitem__, indices_train))\n",
        "        self.masks_fps = list(map(self.masks_fps.__getitem__, indices_train))\n",
        "        \n",
        "        mask1 = cv2.imread(self.masks_fps[0], cv2.IMREAD_UNCHANGED)\n",
        "        #print(\"true unique value of mask\", np.unique(mask1))\n",
        "        # convert str names to class values on masks\n",
        "        #self.class_values = [self.CLASSES.index(cls.lower()) for cls in classes]\n",
        "        self.class_values = [CLASSES.index(cls.lower()) for cls in classes]\n",
        "\n",
        "        self.augmentation = augmentation\n",
        "        self.preprocessing = preprocessing\n",
        "\n",
        "        #print(\"shuffled images are\", self.images_fps[1:5])\n",
        "        #print(\"shuffled masks are\", self.masks_fps[1:5])\n",
        "    \n",
        "    def __getitem__(self, i):\n",
        "        \n",
        "        # read data\n",
        "        image = cv2.imread(self.images_fps[i])\n",
        "        image = cv2.cvtColor(image, cv2.COLOR_BGR2RGB)\n",
        "        #HAD TO CHANGE FLAG 0 TO IM_READ_UNCHANGED BELOW as it was not reading the pixel values otherwise \n",
        "        # mask = cv2.imread(self.masks_fps[i], 0)\n",
        "        mask = cv2.imread(self.masks_fps[i], cv2.IMREAD_UNCHANGED)\n",
        "        #print (\"masked image values\", mask)\n",
        "        #print (\"masked shape\", mask.shape)\n",
        "        #print(\"masked unique values\", np.unique(mask))\n",
        "        #print(\"pixel values of mask\", mask)\n",
        "        \n",
        "        # extract certain classes from mask (e.g. cars)\n",
        "        masks = [(mask == v) for v in self.class_values]\n",
        "        #print (\"masks extraction\", masks)\n",
        "        mask = np.stack(masks, axis=-1).astype('float')\n",
        "        #print(\"stacks of classes for mask\", masks)\n",
        "        #print (\"shape of mask stack\",mask.shape )\n",
        "        \n",
        "        # apply augmentations\n",
        "        if self.augmentation:\n",
        "            sample = self.augmentation(image=image, mask=mask)\n",
        "            image, mask = sample['image'], sample['mask']\n",
        "        \n",
        "        # apply preprocessing\n",
        "        if self.preprocessing:\n",
        "            sample = self.preprocessing(image=image, mask=mask)\n",
        "            image, mask = sample['image'], sample['mask']\n",
        "            #print('file name is', self.masks_fps[i])\n",
        "            #print('unique values in mask', np.unique(mask))\n",
        "            maskOfLivingObs = mask[:, :, 4] # 4 is class id of living obs\n",
        "            #print('Unique values in 4th layer of stacked mask={0}'.format(np.unique(maskOfLivingObs)))\n",
        "            #print('Shape of maskOfLivingObs={0}'.format(np.shape(maskOfLivingObs)))\n",
        "            #print(\"Mask of mid-area={0}\".format(maskOfLivingObs))\n",
        "            \n",
        "        return image, mask\n",
        "        \n",
        "    def __len__(self):\n",
        "        return len(self.ids)"
      ],
      "execution_count": 9,
      "outputs": []
    },
    {
      "cell_type": "code",
      "metadata": {
        "id": "B7UyZe2T5FWv"
      },
      "source": [
        "'''\n",
        "# Lets look at data we have. it can only put 1 class at a time \n",
        "\n",
        "#CLASSES = ['sky', 'water', 'bridge', 'obstacle', 'living obstacle', 'background', 'self']\n",
        "dataset = Dataset(x_train_dir, y_train_dir, classes= [\"background\"])\n",
        "\n",
        "image, mask = dataset[2569] # get some sample. \n",
        "\n",
        "\n",
        "'''\n",
        "#just picking 1 image from the train dataset. Also selecting only class 'obstacle'. \n",
        "#the stacks of classes change when i change the class to sky. so the visualize is only showing the array for that specific class. \n",
        "# it's boolean - yes or No. Sp it will say if every pixel belongs to that class or not. it's able to print the ground truth properly\n",
        "#which means dataset is created properly. \n",
        "'''\n",
        "#print ('masked array' , np.unique(mask))\n",
        "visualize(\n",
        "    image=image, \n",
        "    cars_mask=mask.squeeze(),\n",
        "   \n",
        ")\n",
        "'''"
      ],
      "execution_count": null,
      "outputs": []
    },
    {
      "cell_type": "code",
      "metadata": {
        "id": "IHskJX8u6foc"
      },
      "source": [
        "import albumentations as albu"
      ],
      "execution_count": 10,
      "outputs": []
    },
    {
      "cell_type": "markdown",
      "metadata": {
        "id": "_OSF_x2YHu9p"
      },
      "source": [
        ""
      ]
    },
    {
      "cell_type": "code",
      "metadata": {
        "id": "ZG-uG-R06kNm"
      },
      "source": [
        "def get_training_augmentation():\n",
        "    train_transform = [\n",
        "\n",
        "        albu.HorizontalFlip(p=0.5),\n",
        "\n",
        "        albu.ShiftScaleRotate(scale_limit=0.5, rotate_limit=0, shift_limit=0.1, p=1, border_mode=0),\n",
        "\n",
        "        albu.PadIfNeeded(min_height=320, min_width=320, always_apply=True, border_mode=0),\n",
        "        albu.RandomCrop(height=320, width=320, always_apply=True),\n",
        "\n",
        "        albu.IAAAdditiveGaussianNoise(p=0.2),\n",
        "        albu.IAAPerspective(p=0.5),\n",
        "\n",
        "        albu.OneOf(\n",
        "            [\n",
        "                albu.CLAHE(p=1),\n",
        "                albu.RandomBrightness(p=1),\n",
        "                albu.RandomGamma(p=1),\n",
        "            ],\n",
        "            p=0.9,\n",
        "        ),\n",
        "\n",
        "        albu.OneOf(\n",
        "            [\n",
        "                albu.IAASharpen(p=1),\n",
        "                albu.Blur(blur_limit=3, p=1),\n",
        "                albu.MotionBlur(blur_limit=3, p=1),\n",
        "            ],\n",
        "            p=0.9,\n",
        "        ),\n",
        "\n",
        "        albu.OneOf(\n",
        "            [\n",
        "                albu.RandomContrast(p=1),\n",
        "                albu.HueSaturationValue(p=1),\n",
        "            ],\n",
        "            p=0.9,\n",
        "        ),\n",
        "    ]\n",
        "    return albu.Compose(train_transform)\n",
        "\n",
        "\n",
        "def get_validation_augmentation():\n",
        "    \"\"\"Add paddings to make image shape divisible by 32\"\"\"\n",
        "    test_transform = [\n",
        "        albu.PadIfNeeded(384, 480)\n",
        "    ]\n",
        "    return albu.Compose(test_transform)\n",
        "\n",
        "\n",
        "'''\n",
        "OpenCV img = cv2.imread(path) loads an image with HWC-layout (height, width, channels), \n",
        "while Pytorch requires CHW-layout. So we have to do np.transpose(image,(2,0,1))\n",
        "for HWC->CHW transformation.\n",
        "'''\n",
        "def to_tensor(x, **kwargs):\n",
        "    return x.transpose(2, 0, 1).astype('float32')\n",
        "\n",
        "\n",
        "def get_preprocessing(preprocessing_fn):\n",
        "    \"\"\"Construct preprocessing transform\n",
        "    \n",
        "    Args:\n",
        "        preprocessing_fn (callbale): data normalization function \n",
        "            (can be specific for each pretrained neural network)\n",
        "    Return:\n",
        "        transform: albumentations.Compose\n",
        "    \n",
        "    \"\"\"\n",
        "    \n",
        "    _transform = [\n",
        "        albu.Lambda(image=preprocessing_fn),\n",
        "        albu.Lambda(image=to_tensor, mask=to_tensor),\n",
        "    ]\n",
        "    return albu.Compose(_transform)"
      ],
      "execution_count": 11,
      "outputs": []
    },
    {
      "cell_type": "code",
      "metadata": {
        "id": "tUqMy0pc6qAj"
      },
      "source": [
        "#### Visualize resulted augmented images and masks - thows error after 1st picture. \n",
        "#THIS IS NOT NECESSARY. plus our images have some augmentation\n",
        "'''\n",
        "augmented_dataset = Dataset(\n",
        "    x_train_dir, \n",
        "    y_train_dir, \n",
        "    augmentation=get_training_augmentation(), \n",
        "    classes=['obstacle'],\n",
        ")\n",
        "\n",
        "# same image with different random transforms\n",
        "#for i in range(3):  (Had to comment this out as i only have 1 image. will remove during actual training)\n",
        "for i in range(3):\n",
        "   image, mask = augmented_dataset[1]\n",
        "   visualize(image=image, mask=mask.squeeze(-1))\n",
        "   '''"
      ],
      "execution_count": null,
      "outputs": []
    },
    {
      "cell_type": "code",
      "metadata": {
        "id": "Q2rVoCdu_u5r",
        "colab": {
          "base_uri": "https://localhost:8080/",
          "height": 87
        },
        "outputId": "8a073d90-c8a2-48bc-f4fe-48c58769dfbb"
      },
      "source": [
        "ENCODER = 'se_resnext50_32x4d'\n",
        "ENCODER_WEIGHTS = 'imagenet'\n",
        "#CLASSES = ['sky', 'water', 'bridge', 'obstacle', 'living obstacle', 'background', 'self']\n",
        "ACTIVATION = 'softmax2d' # could be None for logits or 'softmax2d' for multiclass segmentation\n",
        "DEVICE = 'cuda'\n",
        "\n",
        "# create segmentation model with pretrained encoder\n",
        "model = smp.FPN(\n",
        "    encoder_name=ENCODER, \n",
        "    #encoder_weights=ENCODER_WEIGHTS, Do not want to use existing encoder weights. \n",
        "    encoder_weights=None, \n",
        "    classes=len(CLASSES), \n",
        "    activation=ACTIVATION,\n",
        ")\n",
        "\n",
        "preprocessing_fn = smp.encoders.get_preprocessing_fn(ENCODER, ENCODER_WEIGHTS)\n",
        "'''if i use existing encoder weights, then it doesn't display all classes in the prediction for some reason. \n",
        "    have not found out exactly why. but perhaps std classes as sky / water are being taken up from the weights. \n",
        "    obstacle , backngd are not standard and therefore may not be plotted. So i will train the model from scratch\n",
        "''' \n"
      ],
      "execution_count": 12,
      "outputs": [
        {
          "output_type": "execute_result",
          "data": {
            "application/vnd.google.colaboratory.intrinsic+json": {
              "type": "string"
            },
            "text/plain": [
              "\"if i use existing encoder weights, then it doesn't display all classes in the prediction for some reason. \\n    have not found out exactly why. but perhaps std classes as sky / water are being taken up from the weights. \\n    obstacle , backngd are not standard and therefore may not be plotted. So i will train the model from scratch\\n\""
            ]
          },
          "metadata": {},
          "execution_count": 12
        }
      ]
    },
    {
      "cell_type": "code",
      "metadata": {
        "id": "WwDZ6rvsyowG",
        "colab": {
          "base_uri": "https://localhost:8080/"
        },
        "outputId": "ac99a44b-d540-4671-81bb-0e2f1d1a2eff"
      },
      "source": [
        "train_dataset = Dataset(\n",
        "    x_train_dir, \n",
        "    y_train_dir, \n",
        "    #augmentation=get_training_augmentation(), try w/o augmentation \n",
        "    preprocessing=get_preprocessing(preprocessing_fn),\n",
        "    classes=CLASSES, \n",
        ")\n",
        "\n",
        "valid_dataset = Dataset(\n",
        "    x_valid_dir, \n",
        "    y_valid_dir, \n",
        "    #augmentation=get_validation_augmentation(), try w/o augmentation\n",
        "    preprocessing=get_preprocessing(preprocessing_fn),\n",
        "    classes=CLASSES,\n",
        ")\n",
        "\n",
        "\n",
        "train_loader = DataLoader(train_dataset, train_batch_size, shuffle=True, num_workers=4)\n",
        "#train_loader = DataLoader(train_dataset, batch_size=1, shuffle=True, num_workers=12) - used for running iwth 1 image\n",
        "valid_loader = DataLoader(valid_dataset, val_batch_size, shuffle=False, num_workers=1)"
      ],
      "execution_count": 13,
      "outputs": [
        {
          "output_type": "stream",
          "name": "stderr",
          "text": [
            "/usr/local/lib/python3.7/dist-packages/torch/utils/data/dataloader.py:481: UserWarning: This DataLoader will create 4 worker processes in total. Our suggested max number of worker in current system is 2, which is smaller than what this DataLoader is going to create. Please be aware that excessive worker creation might get DataLoader running slow or even freeze, lower the worker number to avoid potential slowness/freeze if necessary.\n",
            "  cpuset_checked))\n"
          ]
        }
      ]
    },
    {
      "cell_type": "code",
      "metadata": {
        "id": "XbzS1HykysUz"
      },
      "source": [
        "\n",
        "loss = smp.utils.losses.DiceLoss()\n",
        "metrics = [\n",
        "    smp.utils.metrics.IoU(threshold=0.5),\n",
        "    #smp.utils.metrics.IoU(threshold=0.6),\n",
        "]\n",
        "\n",
        "optimizer = torch.optim.Adam([ \n",
        "    dict(params=model.parameters(), lr=0.0001),\n",
        "    #dict(params=model.parameters(), lr=0.001),  #changed learning rate to keep it consistent with other models\n",
        "])"
      ],
      "execution_count": 14,
      "outputs": []
    },
    {
      "cell_type": "code",
      "metadata": {
        "id": "uPhMq-P4yvZD",
        "colab": {
          "base_uri": "https://localhost:8080/"
        },
        "outputId": "cd535b56-f075-45f7-aecd-e971c11b28f0"
      },
      "source": [
        "#THIS IS FOR TRAINING 1ST TIME \n",
        "\n",
        "#create train and valid epochs \n",
        "train_epoch = smp.utils.train.TrainEpoch(\n",
        "    model, #use for 1st training. \n",
        "    #best_model, #use this for retraining\n",
        "    loss=loss, \n",
        "    metrics=metrics, \n",
        "    optimizer=optimizer,\n",
        "    device=DEVICE,\n",
        "    verbose=True,\n",
        ")\n",
        "\n",
        "valid_epoch = smp.utils.train.ValidEpoch(\n",
        "    model, \n",
        "    #best_model,\n",
        "    loss=loss, \n",
        "    metrics=metrics, \n",
        "    device=DEVICE,\n",
        "    verbose=True,\n",
        ")\n",
        "\n",
        "#train the model \n",
        "max_score = 0\n",
        "\n",
        "for i in range(0, epoch):\n",
        "    \n",
        "    print('\\nEpoch: {}'.format(i))\n",
        "    train_logs = train_epoch.run(train_loader)\n",
        "    valid_logs = valid_epoch.run(valid_loader)\n",
        "    \n",
        "    # do something (save model, change lr, etc.)\n",
        "    if max_score < valid_logs['iou_score']:\n",
        "        max_score = valid_logs['iou_score']\n",
        "        #torch.save(model, '/content/drive/MyDrive/Models/pspnet/pspnet-many-epochs/best_model.pth')\n",
        "        #torch.save(model, '/content/drive/MyDrive/Models/pspnet/pspnet-without-preprocess/best_model.pth')\n",
        "        #torch.save(model, '/content/drive/MyDrive/Models/pspnet/repeat-runs/best_model.pth'). #this is the latest model. 1 hr 20 min/epoch\n",
        "        torch.save(model, '/content/drive/MyDrive/Models/pspnet/raw-image-only/best_model.pth')  #only with raw images for training\n",
        "        print('Model saved!')\n",
        "        \n",
        "    if i == 25:\n",
        "        optimizer.param_groups[0]['lr'] = 1e-5\n",
        "        print('Decrease decoder learning rate to 1e-5!')"
      ],
      "execution_count": 17,
      "outputs": [
        {
          "output_type": "stream",
          "name": "stdout",
          "text": [
            "\n",
            "Epoch: 0\n",
            "train:   0%|          | 0/198 [00:00<?, ?it/s]"
          ]
        },
        {
          "output_type": "stream",
          "name": "stderr",
          "text": [
            "/usr/local/lib/python3.7/dist-packages/torch/utils/data/dataloader.py:481: UserWarning: This DataLoader will create 4 worker processes in total. Our suggested max number of worker in current system is 2, which is smaller than what this DataLoader is going to create. Please be aware that excessive worker creation might get DataLoader running slow or even freeze, lower the worker number to avoid potential slowness/freeze if necessary.\n",
            "  cpuset_checked))\n"
          ]
        },
        {
          "output_type": "stream",
          "name": "stdout",
          "text": [
            "train: 100%|██████████| 198/198 [05:59<00:00,  1.81s/it, dice_loss - 0.1407, iou_score - 0.7672]\n",
            "valid: 100%|██████████| 113/113 [00:34<00:00,  3.25it/s, dice_loss - 0.08106, iou_score - 0.8552]\n",
            "Model saved!\n",
            "\n",
            "Epoch: 1\n",
            "train: 100%|██████████| 198/198 [06:00<00:00,  1.82s/it, dice_loss - 0.06051, iou_score - 0.8898]\n",
            "valid: 100%|██████████| 113/113 [00:34<00:00,  3.26it/s, dice_loss - 0.05507, iou_score - 0.8996]\n",
            "Model saved!\n",
            "\n",
            "Epoch: 2\n",
            "train: 100%|██████████| 198/198 [06:00<00:00,  1.82s/it, dice_loss - 0.05074, iou_score - 0.9063]\n",
            "valid: 100%|██████████| 113/113 [00:33<00:00,  3.34it/s, dice_loss - 0.05199, iou_score - 0.9045]\n",
            "Model saved!\n",
            "\n",
            "Epoch: 3\n",
            "train: 100%|██████████| 198/198 [06:00<00:00,  1.82s/it, dice_loss - 0.0458, iou_score - 0.9149]\n",
            "valid: 100%|██████████| 113/113 [00:34<00:00,  3.25it/s, dice_loss - 0.0546, iou_score - 0.8999]\n",
            "\n",
            "Epoch: 4\n",
            "train: 100%|██████████| 198/198 [06:00<00:00,  1.82s/it, dice_loss - 0.04369, iou_score - 0.9183]\n",
            "valid: 100%|██████████| 113/113 [00:34<00:00,  3.28it/s, dice_loss - 0.05229, iou_score - 0.9039]\n",
            "\n",
            "Epoch: 5\n",
            "train: 100%|██████████| 198/198 [06:00<00:00,  1.82s/it, dice_loss - 0.04269, iou_score - 0.92]\n",
            "valid: 100%|██████████| 113/113 [00:34<00:00,  3.26it/s, dice_loss - 0.04872, iou_score - 0.9099]\n",
            "Model saved!\n",
            "\n",
            "Epoch: 6\n",
            "train: 100%|██████████| 198/198 [06:00<00:00,  1.82s/it, dice_loss - 0.04134, iou_score - 0.9225]\n",
            "valid: 100%|██████████| 113/113 [00:34<00:00,  3.30it/s, dice_loss - 0.06038, iou_score - 0.8892]\n",
            "\n",
            "Epoch: 7\n",
            "train: 100%|██████████| 198/198 [06:00<00:00,  1.82s/it, dice_loss - 0.04095, iou_score - 0.9233]\n",
            "valid: 100%|██████████| 113/113 [00:34<00:00,  3.25it/s, dice_loss - 0.04776, iou_score - 0.9117]\n",
            "Model saved!\n",
            "\n",
            "Epoch: 8\n",
            "train: 100%|██████████| 198/198 [06:00<00:00,  1.82s/it, dice_loss - 0.04023, iou_score - 0.9244]\n",
            "valid: 100%|██████████| 113/113 [00:33<00:00,  3.35it/s, dice_loss - 0.04575, iou_score - 0.915]\n",
            "Model saved!\n",
            "\n",
            "Epoch: 9\n",
            "train: 100%|██████████| 198/198 [06:01<00:00,  1.82s/it, dice_loss - 0.03762, iou_score - 0.9289]\n",
            "valid: 100%|██████████| 113/113 [00:34<00:00,  3.23it/s, dice_loss - 0.04786, iou_score - 0.9114]\n",
            "\n",
            "Epoch: 10\n",
            "train: 100%|██████████| 198/198 [06:01<00:00,  1.83s/it, dice_loss - 0.03789, iou_score - 0.9285]\n",
            "valid: 100%|██████████| 113/113 [00:38<00:00,  2.93it/s, dice_loss - 0.04444, iou_score - 0.9173]\n",
            "Model saved!\n",
            "\n",
            "Epoch: 11\n",
            "train: 100%|██████████| 198/198 [06:03<00:00,  1.83s/it, dice_loss - 0.03621, iou_score - 0.9314]\n",
            "valid: 100%|██████████| 113/113 [00:28<00:00,  3.97it/s, dice_loss - 0.04804, iou_score - 0.9113]\n",
            "\n",
            "Epoch: 12\n",
            "train: 100%|██████████| 198/198 [05:57<00:00,  1.81s/it, dice_loss - 0.03678, iou_score - 0.9304]\n",
            "valid: 100%|██████████| 113/113 [00:29<00:00,  3.90it/s, dice_loss - 0.04498, iou_score - 0.9166]\n",
            "\n",
            "Epoch: 13\n",
            "train: 100%|██████████| 198/198 [05:57<00:00,  1.81s/it, dice_loss - 0.03558, iou_score - 0.9328]\n",
            "valid: 100%|██████████| 113/113 [00:29<00:00,  3.86it/s, dice_loss - 0.04295, iou_score - 0.9198]\n",
            "Model saved!\n",
            "\n",
            "Epoch: 14\n",
            "train: 100%|██████████| 198/198 [05:57<00:00,  1.81s/it, dice_loss - 0.03623, iou_score - 0.9317]\n",
            "valid: 100%|██████████| 113/113 [00:29<00:00,  3.85it/s, dice_loss - 0.05502, iou_score - 0.8997]\n",
            "\n",
            "Epoch: 15\n",
            "train: 100%|██████████| 198/198 [05:57<00:00,  1.81s/it, dice_loss - 0.03495, iou_score - 0.9339]\n",
            "valid: 100%|██████████| 113/113 [00:29<00:00,  3.89it/s, dice_loss - 0.04546, iou_score - 0.9156]\n",
            "\n",
            "Epoch: 16\n",
            "train: 100%|██████████| 198/198 [05:57<00:00,  1.81s/it, dice_loss - 0.03226, iou_score - 0.9387]\n",
            "valid: 100%|██████████| 113/113 [00:29<00:00,  3.86it/s, dice_loss - 0.04121, iou_score - 0.9233]\n",
            "Model saved!\n",
            "\n",
            "Epoch: 17\n",
            "train: 100%|██████████| 198/198 [05:58<00:00,  1.81s/it, dice_loss - 0.03051, iou_score - 0.9421]\n",
            "valid: 100%|██████████| 113/113 [00:30<00:00,  3.71it/s, dice_loss - 0.04121, iou_score - 0.9231]\n",
            "\n",
            "Epoch: 18\n",
            "train: 100%|██████████| 198/198 [05:59<00:00,  1.81s/it, dice_loss - 0.02946, iou_score - 0.944]\n",
            "valid: 100%|██████████| 113/113 [00:31<00:00,  3.59it/s, dice_loss - 0.03921, iou_score - 0.9269]\n",
            "Model saved!\n",
            "\n",
            "Epoch: 19\n",
            "train: 100%|██████████| 198/198 [05:59<00:00,  1.82s/it, dice_loss - 0.02852, iou_score - 0.9458]\n",
            "valid: 100%|██████████| 113/113 [00:32<00:00,  3.45it/s, dice_loss - 0.03997, iou_score - 0.9254]\n",
            "\n",
            "Epoch: 20\n",
            "train: 100%|██████████| 198/198 [05:59<00:00,  1.82s/it, dice_loss - 0.03708, iou_score - 0.9304]\n",
            "valid: 100%|██████████| 113/113 [00:32<00:00,  3.49it/s, dice_loss - 0.04412, iou_score - 0.9183]\n",
            "\n",
            "Epoch: 21\n",
            "train: 100%|██████████| 198/198 [05:59<00:00,  1.82s/it, dice_loss - 0.02942, iou_score - 0.9443]\n",
            "valid: 100%|██████████| 113/113 [00:32<00:00,  3.49it/s, dice_loss - 0.038, iou_score - 0.9292]\n",
            "Model saved!\n",
            "\n",
            "Epoch: 22\n",
            "train: 100%|██████████| 198/198 [05:59<00:00,  1.82s/it, dice_loss - 0.02721, iou_score - 0.9485]\n",
            "valid: 100%|██████████| 113/113 [00:33<00:00,  3.41it/s, dice_loss - 0.03475, iou_score - 0.9348]\n",
            "Model saved!\n",
            "\n",
            "Epoch: 23\n",
            "train: 100%|██████████| 198/198 [05:59<00:00,  1.82s/it, dice_loss - 0.02398, iou_score - 0.9544]\n",
            "valid: 100%|██████████| 113/113 [00:32<00:00,  3.48it/s, dice_loss - 0.03975, iou_score - 0.9258]\n",
            "\n",
            "Epoch: 24\n",
            "train: 100%|██████████| 198/198 [05:59<00:00,  1.82s/it, dice_loss - 0.02331, iou_score - 0.9556]\n",
            "valid: 100%|██████████| 113/113 [00:31<00:00,  3.58it/s, dice_loss - 0.03511, iou_score - 0.9343]\n",
            "\n",
            "Epoch: 25\n",
            "train: 100%|██████████| 198/198 [05:59<00:00,  1.82s/it, dice_loss - 0.02358, iou_score - 0.9552]\n",
            "valid: 100%|██████████| 113/113 [00:30<00:00,  3.74it/s, dice_loss - 0.03018, iou_score - 0.9431]\n",
            "Model saved!\n",
            "Decrease decoder learning rate to 1e-5!\n",
            "\n",
            "Epoch: 26\n",
            "train: 100%|██████████| 198/198 [05:59<00:00,  1.81s/it, dice_loss - 0.01832, iou_score - 0.9649]\n",
            "valid: 100%|██████████| 113/113 [00:32<00:00,  3.44it/s, dice_loss - 0.02743, iou_score - 0.9481]\n",
            "Model saved!\n",
            "\n",
            "Epoch: 27\n",
            "train: 100%|██████████| 198/198 [05:59<00:00,  1.82s/it, dice_loss - 0.01739, iou_score - 0.9667]\n",
            "valid: 100%|██████████| 113/113 [00:32<00:00,  3.45it/s, dice_loss - 0.02711, iou_score - 0.9487]\n",
            "Model saved!\n",
            "\n",
            "Epoch: 28\n",
            "train: 100%|██████████| 198/198 [05:58<00:00,  1.81s/it, dice_loss - 0.01668, iou_score - 0.968]\n",
            "valid: 100%|██████████| 113/113 [00:31<00:00,  3.55it/s, dice_loss - 0.02676, iou_score - 0.9494]\n",
            "Model saved!\n",
            "\n",
            "Epoch: 29\n",
            "train: 100%|██████████| 198/198 [05:58<00:00,  1.81s/it, dice_loss - 0.01632, iou_score - 0.9687]\n",
            "valid: 100%|██████████| 113/113 [00:32<00:00,  3.44it/s, dice_loss - 0.02636, iou_score - 0.9501]\n",
            "Model saved!\n",
            "\n",
            "Epoch: 30\n",
            "train: 100%|██████████| 198/198 [05:59<00:00,  1.82s/it, dice_loss - 0.0159, iou_score - 0.9695]\n",
            "valid: 100%|██████████| 113/113 [00:32<00:00,  3.46it/s, dice_loss - 0.02599, iou_score - 0.9508]\n",
            "Model saved!\n",
            "\n",
            "Epoch: 31\n",
            "train: 100%|██████████| 198/198 [05:59<00:00,  1.82s/it, dice_loss - 0.01557, iou_score - 0.9701]\n",
            "valid: 100%|██████████| 113/113 [00:32<00:00,  3.48it/s, dice_loss - 0.02584, iou_score - 0.9511]\n",
            "Model saved!\n",
            "\n",
            "Epoch: 32\n",
            "train: 100%|██████████| 198/198 [05:59<00:00,  1.82s/it, dice_loss - 0.01517, iou_score - 0.9709]\n",
            "valid: 100%|██████████| 113/113 [00:33<00:00,  3.39it/s, dice_loss - 0.02589, iou_score - 0.951]\n",
            "\n",
            "Epoch: 33\n",
            "train: 100%|██████████| 198/198 [05:59<00:00,  1.82s/it, dice_loss - 0.01479, iou_score - 0.9716]\n",
            "valid: 100%|██████████| 113/113 [00:33<00:00,  3.38it/s, dice_loss - 0.02582, iou_score - 0.9512]\n",
            "Model saved!\n",
            "\n",
            "Epoch: 34\n",
            "train: 100%|██████████| 198/198 [05:59<00:00,  1.82s/it, dice_loss - 0.01455, iou_score - 0.9721]\n",
            "valid: 100%|██████████| 113/113 [00:32<00:00,  3.44it/s, dice_loss - 0.02551, iou_score - 0.9517]\n",
            "Model saved!\n",
            "\n",
            "Epoch: 35\n",
            "train: 100%|██████████| 198/198 [05:59<00:00,  1.82s/it, dice_loss - 0.01418, iou_score - 0.9728]\n",
            "valid: 100%|██████████| 113/113 [00:32<00:00,  3.47it/s, dice_loss - 0.02529, iou_score - 0.9521]\n",
            "Model saved!\n",
            "\n",
            "Epoch: 36\n",
            "train: 100%|██████████| 198/198 [06:00<00:00,  1.82s/it, dice_loss - 0.01394, iou_score - 0.9733]\n",
            "valid: 100%|██████████| 113/113 [00:32<00:00,  3.43it/s, dice_loss - 0.02535, iou_score - 0.952]\n",
            "\n",
            "Epoch: 37\n",
            "train: 100%|██████████| 198/198 [05:59<00:00,  1.82s/it, dice_loss - 0.0137, iou_score - 0.9737]\n",
            "valid: 100%|██████████| 113/113 [00:33<00:00,  3.40it/s, dice_loss - 0.02528, iou_score - 0.9522]\n",
            "Model saved!\n",
            "\n",
            "Epoch: 38\n",
            "train: 100%|██████████| 198/198 [05:59<00:00,  1.82s/it, dice_loss - 0.01347, iou_score - 0.9742]\n",
            "valid: 100%|██████████| 113/113 [00:33<00:00,  3.40it/s, dice_loss - 0.025, iou_score - 0.9526]\n",
            "Model saved!\n",
            "\n",
            "Epoch: 39\n",
            "train: 100%|██████████| 198/198 [06:00<00:00,  1.82s/it, dice_loss - 0.01324, iou_score - 0.9746]\n",
            "valid: 100%|██████████| 113/113 [00:33<00:00,  3.37it/s, dice_loss - 0.02515, iou_score - 0.9524]\n",
            "\n",
            "Epoch: 40\n",
            "train: 100%|██████████| 198/198 [05:59<00:00,  1.82s/it, dice_loss - 0.01295, iou_score - 0.9752]\n",
            "valid: 100%|██████████| 113/113 [00:33<00:00,  3.42it/s, dice_loss - 0.02471, iou_score - 0.9532]\n",
            "Model saved!\n",
            "\n",
            "Epoch: 41\n",
            "train: 100%|██████████| 198/198 [05:59<00:00,  1.82s/it, dice_loss - 0.01287, iou_score - 0.9753]\n",
            "valid: 100%|██████████| 113/113 [00:33<00:00,  3.39it/s, dice_loss - 0.02498, iou_score - 0.9527]\n",
            "\n",
            "Epoch: 42\n",
            "train: 100%|██████████| 198/198 [06:00<00:00,  1.82s/it, dice_loss - 0.01255, iou_score - 0.9759]\n",
            "valid: 100%|██████████| 113/113 [00:32<00:00,  3.47it/s, dice_loss - 0.02493, iou_score - 0.9529]\n",
            "\n",
            "Epoch: 43\n",
            "train: 100%|██████████| 198/198 [05:59<00:00,  1.82s/it, dice_loss - 0.01231, iou_score - 0.9764]\n",
            "valid: 100%|██████████| 113/113 [00:33<00:00,  3.40it/s, dice_loss - 0.02523, iou_score - 0.9523]\n",
            "\n",
            "Epoch: 44\n",
            "train: 100%|██████████| 198/198 [05:59<00:00,  1.82s/it, dice_loss - 0.01207, iou_score - 0.9768]\n",
            "valid: 100%|██████████| 113/113 [00:32<00:00,  3.44it/s, dice_loss - 0.02466, iou_score - 0.9533]\n",
            "Model saved!\n",
            "\n",
            "Epoch: 45\n",
            "train: 100%|██████████| 198/198 [05:59<00:00,  1.82s/it, dice_loss - 0.01193, iou_score - 0.9771]\n",
            "valid: 100%|██████████| 113/113 [00:33<00:00,  3.37it/s, dice_loss - 0.02473, iou_score - 0.9531]\n",
            "\n",
            "Epoch: 46\n",
            "train: 100%|██████████| 198/198 [05:59<00:00,  1.82s/it, dice_loss - 0.01174, iou_score - 0.9775]\n",
            "valid: 100%|██████████| 113/113 [00:32<00:00,  3.43it/s, dice_loss - 0.02484, iou_score - 0.9529]\n",
            "\n",
            "Epoch: 47\n",
            "train: 100%|██████████| 198/198 [05:59<00:00,  1.82s/it, dice_loss - 0.01153, iou_score - 0.9779]\n",
            "valid: 100%|██████████| 113/113 [00:33<00:00,  3.38it/s, dice_loss - 0.02478, iou_score - 0.9531]\n",
            "\n",
            "Epoch: 48\n",
            "train: 100%|██████████| 198/198 [06:00<00:00,  1.82s/it, dice_loss - 0.01145, iou_score - 0.9781]\n",
            "valid: 100%|██████████| 113/113 [00:33<00:00,  3.41it/s, dice_loss - 0.025, iou_score - 0.9526]\n",
            "\n",
            "Epoch: 49\n",
            "train: 100%|██████████| 198/198 [06:00<00:00,  1.82s/it, dice_loss - 0.01119, iou_score - 0.9786]\n",
            "valid: 100%|██████████| 113/113 [00:33<00:00,  3.42it/s, dice_loss - 0.02465, iou_score - 0.9533]\n",
            "Model saved!\n",
            "\n",
            "Epoch: 50\n",
            "train: 100%|██████████| 198/198 [06:00<00:00,  1.82s/it, dice_loss - 0.01101, iou_score - 0.9789]\n",
            "valid: 100%|██████████| 113/113 [00:33<00:00,  3.38it/s, dice_loss - 0.02479, iou_score - 0.9531]\n",
            "\n",
            "Epoch: 51\n",
            "train: 100%|██████████| 198/198 [06:00<00:00,  1.82s/it, dice_loss - 0.01096, iou_score - 0.979]\n",
            "valid: 100%|██████████| 113/113 [00:32<00:00,  3.44it/s, dice_loss - 0.02498, iou_score - 0.9527]\n",
            "\n",
            "Epoch: 52\n",
            "train: 100%|██████████| 198/198 [06:00<00:00,  1.82s/it, dice_loss - 0.01078, iou_score - 0.9794]\n",
            "valid: 100%|██████████| 113/113 [00:33<00:00,  3.42it/s, dice_loss - 0.02486, iou_score - 0.9529]\n",
            "\n",
            "Epoch: 53\n",
            "train: 100%|██████████| 198/198 [06:00<00:00,  1.82s/it, dice_loss - 0.0106, iou_score - 0.9797]\n",
            "valid: 100%|██████████| 113/113 [00:33<00:00,  3.36it/s, dice_loss - 0.02455, iou_score - 0.9535]\n",
            "Model saved!\n",
            "\n",
            "Epoch: 54\n",
            "train: 100%|██████████| 198/198 [06:00<00:00,  1.82s/it, dice_loss - 0.01047, iou_score - 0.98]\n",
            "valid: 100%|██████████| 113/113 [00:32<00:00,  3.47it/s, dice_loss - 0.02477, iou_score - 0.953]\n",
            "\n",
            "Epoch: 55\n",
            "train: 100%|██████████| 198/198 [06:00<00:00,  1.82s/it, dice_loss - 0.0103, iou_score - 0.9803]\n",
            "valid: 100%|██████████| 113/113 [00:33<00:00,  3.39it/s, dice_loss - 0.02497, iou_score - 0.9527]\n",
            "\n",
            "Epoch: 56\n",
            "train: 100%|██████████| 198/198 [06:00<00:00,  1.82s/it, dice_loss - 0.01021, iou_score - 0.9805]\n",
            "valid: 100%|██████████| 113/113 [00:33<00:00,  3.40it/s, dice_loss - 0.02455, iou_score - 0.9535]\n",
            "\n",
            "Epoch: 57\n",
            "train: 100%|██████████| 198/198 [06:00<00:00,  1.82s/it, dice_loss - 0.01007, iou_score - 0.9807]\n",
            "valid: 100%|██████████| 113/113 [00:33<00:00,  3.38it/s, dice_loss - 0.02489, iou_score - 0.9528]\n",
            "\n",
            "Epoch: 58\n",
            "train: 100%|██████████| 198/198 [05:59<00:00,  1.82s/it, dice_loss - 0.009956, iou_score - 0.981]\n",
            "valid: 100%|██████████| 113/113 [00:33<00:00,  3.38it/s, dice_loss - 0.02468, iou_score - 0.9532]\n",
            "\n",
            "Epoch: 59\n",
            "train: 100%|██████████| 198/198 [06:00<00:00,  1.82s/it, dice_loss - 0.009805, iou_score - 0.9812]\n",
            "valid: 100%|██████████| 113/113 [00:32<00:00,  3.43it/s, dice_loss - 0.02465, iou_score - 0.9533]\n",
            "\n",
            "Epoch: 60\n",
            "train: 100%|██████████| 198/198 [06:00<00:00,  1.82s/it, dice_loss - 0.009725, iou_score - 0.9814]\n",
            "valid: 100%|██████████| 113/113 [00:32<00:00,  3.43it/s, dice_loss - 0.02488, iou_score - 0.9528]\n",
            "\n",
            "Epoch: 61\n",
            "train: 100%|██████████| 198/198 [06:00<00:00,  1.82s/it, dice_loss - 0.009632, iou_score - 0.9816]\n",
            "valid: 100%|██████████| 113/113 [00:33<00:00,  3.40it/s, dice_loss - 0.02458, iou_score - 0.9534]\n",
            "\n",
            "Epoch: 62\n",
            "train: 100%|██████████| 198/198 [05:59<00:00,  1.82s/it, dice_loss - 0.009529, iou_score - 0.9818]\n",
            "valid: 100%|██████████| 113/113 [00:32<00:00,  3.46it/s, dice_loss - 0.02472, iou_score - 0.9531]\n",
            "\n",
            "Epoch: 63\n",
            "train: 100%|██████████| 198/198 [05:59<00:00,  1.82s/it, dice_loss - 0.009432, iou_score - 0.982]\n",
            "valid: 100%|██████████| 113/113 [00:33<00:00,  3.36it/s, dice_loss - 0.02461, iou_score - 0.9533]\n",
            "\n",
            "Epoch: 64\n",
            "train: 100%|██████████| 198/198 [05:59<00:00,  1.82s/it, dice_loss - 0.009349, iou_score - 0.9821]\n",
            "valid: 100%|██████████| 113/113 [00:32<00:00,  3.43it/s, dice_loss - 0.0245, iou_score - 0.9535]\n",
            "Model saved!\n",
            "\n",
            "Epoch: 65\n",
            "train: 100%|██████████| 198/198 [05:59<00:00,  1.82s/it, dice_loss - 0.009272, iou_score - 0.9823]\n",
            "valid: 100%|██████████| 113/113 [00:33<00:00,  3.36it/s, dice_loss - 0.02461, iou_score - 0.9533]\n",
            "\n",
            "Epoch: 66\n",
            "train: 100%|██████████| 198/198 [05:59<00:00,  1.82s/it, dice_loss - 0.009229, iou_score - 0.9823]\n",
            "valid: 100%|██████████| 113/113 [00:33<00:00,  3.38it/s, dice_loss - 0.02466, iou_score - 0.9532]\n",
            "\n",
            "Epoch: 67\n",
            "train: 100%|██████████| 198/198 [06:00<00:00,  1.82s/it, dice_loss - 0.009101, iou_score - 0.9826]\n",
            "valid: 100%|██████████| 113/113 [00:33<00:00,  3.41it/s, dice_loss - 0.02451, iou_score - 0.9535]\n",
            "\n",
            "Epoch: 68\n",
            "train: 100%|██████████| 198/198 [06:00<00:00,  1.82s/it, dice_loss - 0.008979, iou_score - 0.9828]\n",
            "valid: 100%|██████████| 113/113 [00:33<00:00,  3.34it/s, dice_loss - 0.02437, iou_score - 0.9537]\n",
            "Model saved!\n",
            "\n",
            "Epoch: 69\n",
            "train: 100%|██████████| 198/198 [06:00<00:00,  1.82s/it, dice_loss - 0.008917, iou_score - 0.9829]\n",
            "valid: 100%|██████████| 113/113 [00:33<00:00,  3.42it/s, dice_loss - 0.025, iou_score - 0.9526]\n",
            "\n",
            "Epoch: 70\n",
            "train: 100%|██████████| 198/198 [06:00<00:00,  1.82s/it, dice_loss - 0.008834, iou_score - 0.9831]\n",
            "valid: 100%|██████████| 113/113 [00:33<00:00,  3.37it/s, dice_loss - 0.02445, iou_score - 0.9535]\n",
            "\n",
            "Epoch: 71\n",
            "train: 100%|██████████| 198/198 [06:00<00:00,  1.82s/it, dice_loss - 0.008809, iou_score - 0.9832]\n",
            "valid: 100%|██████████| 113/113 [00:33<00:00,  3.37it/s, dice_loss - 0.02452, iou_score - 0.9534]\n",
            "\n",
            "Epoch: 72\n",
            "train: 100%|██████████| 198/198 [06:00<00:00,  1.82s/it, dice_loss - 0.008748, iou_score - 0.9833]\n",
            "valid: 100%|██████████| 113/113 [00:33<00:00,  3.39it/s, dice_loss - 0.02471, iou_score - 0.9531]\n",
            "\n",
            "Epoch: 73\n",
            "train: 100%|██████████| 198/198 [05:59<00:00,  1.82s/it, dice_loss - 0.008604, iou_score - 0.9836]\n",
            "valid: 100%|██████████| 113/113 [00:33<00:00,  3.38it/s, dice_loss - 0.02452, iou_score - 0.9534]\n",
            "\n",
            "Epoch: 74\n",
            "train: 100%|██████████| 198/198 [06:00<00:00,  1.82s/it, dice_loss - 0.008575, iou_score - 0.9836]\n",
            "valid: 100%|██████████| 113/113 [00:33<00:00,  3.39it/s, dice_loss - 0.02476, iou_score - 0.953]\n",
            "\n",
            "Epoch: 75\n",
            "train: 100%|██████████| 198/198 [05:59<00:00,  1.82s/it, dice_loss - 0.008526, iou_score - 0.9837]\n",
            "valid: 100%|██████████| 113/113 [00:32<00:00,  3.43it/s, dice_loss - 0.0245, iou_score - 0.9534]\n",
            "\n",
            "Epoch: 76\n",
            "train: 100%|██████████| 198/198 [05:59<00:00,  1.82s/it, dice_loss - 0.008412, iou_score - 0.9839]\n",
            "valid: 100%|██████████| 113/113 [00:33<00:00,  3.38it/s, dice_loss - 0.02451, iou_score - 0.9534]\n",
            "\n",
            "Epoch: 77\n",
            "train: 100%|██████████| 198/198 [06:00<00:00,  1.82s/it, dice_loss - 0.008373, iou_score - 0.984]\n",
            "valid: 100%|██████████| 113/113 [00:33<00:00,  3.38it/s, dice_loss - 0.02486, iou_score - 0.9528]\n",
            "\n",
            "Epoch: 78\n",
            "train: 100%|██████████| 198/198 [06:00<00:00,  1.82s/it, dice_loss - 0.008331, iou_score - 0.9841]\n",
            "valid: 100%|██████████| 113/113 [00:33<00:00,  3.37it/s, dice_loss - 0.02459, iou_score - 0.9533]\n",
            "\n",
            "Epoch: 79\n",
            "train: 100%|██████████| 198/198 [06:00<00:00,  1.82s/it, dice_loss - 0.00829, iou_score - 0.9842]\n",
            "valid: 100%|██████████| 113/113 [00:33<00:00,  3.42it/s, dice_loss - 0.02483, iou_score - 0.9528]\n",
            "\n",
            "Epoch: 80\n",
            "train: 100%|██████████| 198/198 [06:00<00:00,  1.82s/it, dice_loss - 0.008177, iou_score - 0.9844]\n",
            "valid: 100%|██████████| 113/113 [00:33<00:00,  3.41it/s, dice_loss - 0.025, iou_score - 0.9525]\n",
            "\n",
            "Epoch: 81\n",
            "train: 100%|██████████| 198/198 [06:00<00:00,  1.82s/it, dice_loss - 0.008174, iou_score - 0.9844]\n",
            "valid: 100%|██████████| 113/113 [00:33<00:00,  3.38it/s, dice_loss - 0.02495, iou_score - 0.9526]\n",
            "\n",
            "Epoch: 82\n",
            "train: 100%|██████████| 198/198 [06:00<00:00,  1.82s/it, dice_loss - 0.008072, iou_score - 0.9846]\n",
            "valid: 100%|██████████| 113/113 [00:33<00:00,  3.36it/s, dice_loss - 0.02466, iou_score - 0.9531]\n",
            "\n",
            "Epoch: 83\n",
            "train: 100%|██████████| 198/198 [06:00<00:00,  1.82s/it, dice_loss - 0.008013, iou_score - 0.9847]\n",
            "valid: 100%|██████████| 113/113 [00:33<00:00,  3.39it/s, dice_loss - 0.02475, iou_score - 0.953]\n",
            "\n",
            "Epoch: 84\n",
            "train: 100%|██████████| 198/198 [06:00<00:00,  1.82s/it, dice_loss - 0.007959, iou_score - 0.9848]\n",
            "valid: 100%|██████████| 113/113 [00:33<00:00,  3.33it/s, dice_loss - 0.02463, iou_score - 0.9532]\n",
            "\n",
            "Epoch: 85\n",
            "train: 100%|██████████| 198/198 [06:00<00:00,  1.82s/it, dice_loss - 0.007926, iou_score - 0.9849]\n",
            "valid: 100%|██████████| 113/113 [00:33<00:00,  3.37it/s, dice_loss - 0.02478, iou_score - 0.9529]\n",
            "\n",
            "Epoch: 86\n",
            "train: 100%|██████████| 198/198 [06:00<00:00,  1.82s/it, dice_loss - 0.007841, iou_score - 0.985]\n",
            "valid: 100%|██████████| 113/113 [00:34<00:00,  3.31it/s, dice_loss - 0.02466, iou_score - 0.9531]\n",
            "\n",
            "Epoch: 87\n",
            "train: 100%|██████████| 198/198 [06:00<00:00,  1.82s/it, dice_loss - 0.007781, iou_score - 0.9851]\n",
            "valid: 100%|██████████| 113/113 [00:33<00:00,  3.36it/s, dice_loss - 0.02496, iou_score - 0.9526]\n",
            "\n",
            "Epoch: 88\n",
            "train: 100%|██████████| 198/198 [06:00<00:00,  1.82s/it, dice_loss - 0.00776, iou_score - 0.9852]\n",
            "valid: 100%|██████████| 113/113 [00:33<00:00,  3.37it/s, dice_loss - 0.02502, iou_score - 0.9525]\n",
            "\n",
            "Epoch: 89\n",
            "train: 100%|██████████| 198/198 [06:00<00:00,  1.82s/it, dice_loss - 0.007713, iou_score - 0.9853]\n",
            "valid: 100%|██████████| 113/113 [00:33<00:00,  3.37it/s, dice_loss - 0.02465, iou_score - 0.9532]\n",
            "\n",
            "Epoch: 90\n",
            "train: 100%|██████████| 198/198 [06:00<00:00,  1.82s/it, dice_loss - 0.007696, iou_score - 0.9853]\n",
            "valid: 100%|██████████| 113/113 [00:33<00:00,  3.36it/s, dice_loss - 0.02486, iou_score - 0.9528]\n",
            "\n",
            "Epoch: 91\n",
            "train: 100%|██████████| 198/198 [06:00<00:00,  1.82s/it, dice_loss - 0.007624, iou_score - 0.9855]\n",
            "valid: 100%|██████████| 113/113 [00:33<00:00,  3.38it/s, dice_loss - 0.02497, iou_score - 0.9526]\n",
            "\n",
            "Epoch: 92\n",
            "train: 100%|██████████| 198/198 [06:00<00:00,  1.82s/it, dice_loss - 0.007558, iou_score - 0.9856]\n",
            "valid: 100%|██████████| 113/113 [00:33<00:00,  3.41it/s, dice_loss - 0.02482, iou_score - 0.9528]\n",
            "\n",
            "Epoch: 93\n",
            "train: 100%|██████████| 198/198 [06:00<00:00,  1.82s/it, dice_loss - 0.007523, iou_score - 0.9857]\n",
            "valid: 100%|██████████| 113/113 [00:34<00:00,  3.31it/s, dice_loss - 0.02487, iou_score - 0.9528]\n",
            "\n",
            "Epoch: 94\n",
            "train: 100%|██████████| 198/198 [06:00<00:00,  1.82s/it, dice_loss - 0.007452, iou_score - 0.9858]\n",
            "valid: 100%|██████████| 113/113 [00:33<00:00,  3.38it/s, dice_loss - 0.02495, iou_score - 0.9526]\n",
            "\n",
            "Epoch: 95\n",
            "train: 100%|██████████| 198/198 [06:00<00:00,  1.82s/it, dice_loss - 0.007417, iou_score - 0.9859]\n",
            "valid: 100%|██████████| 113/113 [00:33<00:00,  3.33it/s, dice_loss - 0.02469, iou_score - 0.9531]\n",
            "\n",
            "Epoch: 96\n",
            "train: 100%|██████████| 198/198 [06:00<00:00,  1.82s/it, dice_loss - 0.007402, iou_score - 0.9859]\n",
            "valid: 100%|██████████| 113/113 [00:33<00:00,  3.34it/s, dice_loss - 0.02487, iou_score - 0.9527]\n",
            "\n",
            "Epoch: 97\n",
            "train: 100%|██████████| 198/198 [06:00<00:00,  1.82s/it, dice_loss - 0.00741, iou_score - 0.9859]\n",
            "valid: 100%|██████████| 113/113 [00:33<00:00,  3.40it/s, dice_loss - 0.02471, iou_score - 0.953]\n",
            "\n",
            "Epoch: 98\n",
            "train: 100%|██████████| 198/198 [06:00<00:00,  1.82s/it, dice_loss - 0.007326, iou_score - 0.986]\n",
            "valid: 100%|██████████| 113/113 [00:33<00:00,  3.36it/s, dice_loss - 0.02491, iou_score - 0.9527]\n",
            "\n",
            "Epoch: 99\n",
            "train: 100%|██████████| 198/198 [06:00<00:00,  1.82s/it, dice_loss - 0.007329, iou_score - 0.986]\n",
            "valid: 100%|██████████| 113/113 [00:32<00:00,  3.49it/s, dice_loss - 0.02467, iou_score - 0.9531]\n"
          ]
        }
      ]
    },
    {
      "cell_type": "code",
      "metadata": {
        "id": "rvUHOusgy3-2",
        "colab": {
          "base_uri": "https://localhost:8080/",
          "height": 1000
        },
        "outputId": "e470e756-f30a-4b93-aff7-e69b011df659"
      },
      "source": [
        "### THIS IS FOR TRAINING 2ND TIME ON. \n",
        "\n",
        "#load the model\n",
        "best_model = torch.load('/content/drive/MyDrive/Models/pspnet/raw-image-only/best_model.pth')\n",
        "#best_model = torch.load('/content/drive/MyDrive/Models/pspnet/repeat-runs/best_model.pth')\n",
        "#best_model = torch.load('/content/drive/MyDrive/Models/pspnet/pspnet-many-epochs/best_model.pth')\n",
        "#best_model = torch.load('/content/drive/MyDrive/Models/pspnet/pspnet-7classes-finalpapersubmission_2019&2020_shuffled/best_model.pth')\n",
        "\n",
        "## below line is if we want to run using cpu\n",
        "#best_model = torch.load('/content/drive/MyDrive/Models/pspnet-pytorch/best_model.pth', map_location=torch.device('cpu')) \n",
        "\n",
        "'''\n",
        "#load existing weights \n",
        "checkpoint = torch.load('/content/drive/MyDrive/Models/pspnet/repeat-runs/best_model.pth')\n",
        "model.load_state_dict(checkpoint['model_state_dict'])\n",
        "optimizer.load_state_dict(checkpoint['optimizer_state_dict'])\n",
        "epoch = checkpoint['epoch']\n",
        "loss = checkpoint['loss']\n",
        "'''\n",
        "\n",
        "#create the train and valid epochs\n",
        "train_epoch = smp.utils.train.TrainEpoch(\n",
        "    #model, #use for 1st training. \n",
        "    best_model, #use this for retraining\n",
        "    loss=loss, \n",
        "    metrics=metrics, \n",
        "    optimizer=optimizer,\n",
        "    device=DEVICE,\n",
        "    verbose=True,\n",
        ")\n",
        "\n",
        "valid_epoch = smp.utils.train.ValidEpoch(\n",
        "    #model, \n",
        "    best_model,\n",
        "    loss=loss, \n",
        "    metrics=metrics, \n",
        "    device=DEVICE,\n",
        "    verbose=True,\n",
        ")\n",
        "\n",
        "max_score = 0.9519\n",
        "\n",
        "#train the model  \n",
        "'''\n",
        "optimizer.param_groups[0]['lr'] = 1e-5\n",
        "print('Decrease decoder learning rate to 1e-5!')\n",
        "max_score = 0.9018\n",
        "print (\"Max score is\", max_score)\n",
        "'''\n",
        "for i in range(0, epoch):\n",
        "    \n",
        "    print('\\nEpoch: {}'.format(i))\n",
        "    train_logs = train_epoch.run(train_loader)\n",
        "    valid_logs = valid_epoch.run(valid_loader)\n",
        "    \n",
        "    # do something (save model, change lr, etc.)\n",
        "    if max_score < valid_logs['iou_score']:\n",
        "        max_score = valid_logs['iou_score']\n",
        "        torch.save(model, '/content/drive/MyDrive/Models/pspnet/raw-image-only/best_model.pth')\n",
        "        print('Model saved!')\n",
        "        \n",
        "    "
      ],
      "execution_count": 16,
      "outputs": [
        {
          "output_type": "stream",
          "name": "stdout",
          "text": [
            "\n",
            "Epoch: 0\n",
            "train:   0%|          | 0/198 [00:00<?, ?it/s]"
          ]
        },
        {
          "output_type": "stream",
          "name": "stderr",
          "text": [
            "/usr/local/lib/python3.7/dist-packages/torch/utils/data/dataloader.py:481: UserWarning: This DataLoader will create 4 worker processes in total. Our suggested max number of worker in current system is 2, which is smaller than what this DataLoader is going to create. Please be aware that excessive worker creation might get DataLoader running slow or even freeze, lower the worker number to avoid potential slowness/freeze if necessary.\n",
            "  cpuset_checked))\n"
          ]
        },
        {
          "output_type": "stream",
          "name": "stdout",
          "text": [
            "train: 100%|██████████| 198/198 [05:55<00:00,  1.80s/it, dice_loss - 0.9463, iou_score - 0.008102]\n",
            "valid: 100%|██████████| 113/113 [00:32<00:00,  3.45it/s, dice_loss - 0.9593, iou_score - 0.00472]\n",
            "\n",
            "Epoch: 1\n",
            "train: 100%|██████████| 198/198 [05:56<00:00,  1.80s/it, dice_loss - 0.9463, iou_score - 0.008]\n",
            "valid: 100%|██████████| 113/113 [00:32<00:00,  3.43it/s, dice_loss - 0.9595, iou_score - 0.004689]\n",
            "\n",
            "Epoch: 2\n",
            "train: 100%|██████████| 198/198 [05:56<00:00,  1.80s/it, dice_loss - 0.9472, iou_score - 0.008126]\n",
            "valid: 100%|██████████| 113/113 [00:32<00:00,  3.45it/s, dice_loss - 0.9576, iou_score - 0.004714]\n",
            "\n",
            "Epoch: 3\n",
            "train: 100%|██████████| 198/198 [05:55<00:00,  1.80s/it, dice_loss - 0.9457, iou_score - 0.008341]\n",
            "valid: 100%|██████████| 113/113 [00:32<00:00,  3.43it/s, dice_loss - 0.9577, iou_score - 0.004707]\n",
            "\n",
            "Epoch: 4\n",
            "train: 100%|██████████| 198/198 [05:56<00:00,  1.80s/it, dice_loss - 0.9474, iou_score - 0.007947]\n",
            "valid: 100%|██████████| 113/113 [00:33<00:00,  3.39it/s, dice_loss - 0.9586, iou_score - 0.0047]\n",
            "\n",
            "Epoch: 5\n",
            "train: 100%|██████████| 198/198 [05:56<00:00,  1.80s/it, dice_loss - 0.9467, iou_score - 0.008206]\n",
            "valid: 100%|██████████| 113/113 [00:33<00:00,  3.41it/s, dice_loss - 0.9582, iou_score - 0.004705]\n",
            "\n",
            "Epoch: 6\n",
            "train: 100%|██████████| 198/198 [05:55<00:00,  1.80s/it, dice_loss - 0.9475, iou_score - 0.007872]\n",
            "valid: 100%|██████████| 113/113 [00:32<00:00,  3.46it/s, dice_loss - 0.9583, iou_score - 0.004713]\n",
            "\n",
            "Epoch: 7\n",
            "train: 100%|██████████| 198/198 [05:56<00:00,  1.80s/it, dice_loss - 0.9467, iou_score - 0.008031]\n",
            "valid: 100%|██████████| 113/113 [00:33<00:00,  3.42it/s, dice_loss - 0.9585, iou_score - 0.004706]\n",
            "\n",
            "Epoch: 8\n",
            "train: 100%|██████████| 198/198 [05:55<00:00,  1.80s/it, dice_loss - 0.9482, iou_score - 0.007638]\n",
            "valid: 100%|██████████| 113/113 [00:33<00:00,  3.39it/s, dice_loss - 0.9603, iou_score - 0.004704]\n",
            "\n",
            "Epoch: 9\n",
            "train: 100%|██████████| 198/198 [05:55<00:00,  1.80s/it, dice_loss - 0.9466, iou_score - 0.007837]\n",
            "valid: 100%|██████████| 113/113 [00:33<00:00,  3.41it/s, dice_loss - 0.9578, iou_score - 0.004712]\n",
            "\n",
            "Epoch: 10\n",
            "train: 100%|██████████| 198/198 [05:56<00:00,  1.80s/it, dice_loss - 0.9464, iou_score - 0.008082]\n",
            "valid: 100%|██████████| 113/113 [00:33<00:00,  3.40it/s, dice_loss - 0.9585, iou_score - 0.004715]\n",
            "\n",
            "Epoch: 11\n",
            "train: 100%|██████████| 198/198 [05:56<00:00,  1.80s/it, dice_loss - 0.9462, iou_score - 0.008146]\n",
            "valid: 100%|██████████| 113/113 [00:34<00:00,  3.32it/s, dice_loss - 0.9588, iou_score - 0.004706]\n",
            "\n",
            "Epoch: 12\n",
            "train: 100%|██████████| 198/198 [05:56<00:00,  1.80s/it, dice_loss - 0.9468, iou_score - 0.007901]\n",
            "valid: 100%|██████████| 113/113 [00:33<00:00,  3.42it/s, dice_loss - 0.9595, iou_score - 0.0047]\n",
            "\n",
            "Epoch: 13\n",
            "train: 100%|██████████| 198/198 [05:56<00:00,  1.80s/it, dice_loss - 0.9463, iou_score - 0.007981]\n",
            "valid: 100%|██████████| 113/113 [00:33<00:00,  3.33it/s, dice_loss - 0.9591, iou_score - 0.004694]\n",
            "\n",
            "Epoch: 14\n",
            "train: 100%|██████████| 198/198 [05:56<00:00,  1.80s/it, dice_loss - 0.9464, iou_score - 0.008125]\n",
            "valid: 100%|██████████| 113/113 [00:34<00:00,  3.30it/s, dice_loss - 0.9588, iou_score - 0.004712]\n",
            "\n",
            "Epoch: 15\n",
            "train: 100%|██████████| 198/198 [05:56<00:00,  1.80s/it, dice_loss - 0.9464, iou_score - 0.007957]\n",
            "valid: 100%|██████████| 113/113 [00:33<00:00,  3.37it/s, dice_loss - 0.958, iou_score - 0.004731]\n",
            "\n",
            "Epoch: 16\n",
            "train: 100%|██████████| 198/198 [05:56<00:00,  1.80s/it, dice_loss - 0.945, iou_score - 0.008397]\n",
            "valid: 100%|██████████| 113/113 [00:33<00:00,  3.34it/s, dice_loss - 0.9585, iou_score - 0.004705]\n",
            "\n",
            "Epoch: 17\n",
            "train: 100%|██████████| 198/198 [05:56<00:00,  1.80s/it, dice_loss - 0.9468, iou_score - 0.007978]\n",
            "valid: 100%|██████████| 113/113 [00:33<00:00,  3.34it/s, dice_loss - 0.9598, iou_score - 0.00471]\n",
            "\n",
            "Epoch: 18\n",
            "train: 100%|██████████| 198/198 [05:56<00:00,  1.80s/it, dice_loss - 0.9471, iou_score - 0.008181]\n",
            "valid: 100%|██████████| 113/113 [00:34<00:00,  3.31it/s, dice_loss - 0.9575, iou_score - 0.004693]\n",
            "\n",
            "Epoch: 19\n",
            "train: 100%|██████████| 198/198 [05:56<00:00,  1.80s/it, dice_loss - 0.9475, iou_score - 0.007939]\n",
            "valid: 100%|██████████| 113/113 [00:34<00:00,  3.31it/s, dice_loss - 0.9602, iou_score - 0.004691]\n",
            "\n",
            "Epoch: 20\n",
            "train: 100%|██████████| 198/198 [05:56<00:00,  1.80s/it, dice_loss - 0.9458, iou_score - 0.008469]\n",
            "valid: 100%|██████████| 113/113 [00:34<00:00,  3.32it/s, dice_loss - 0.9582, iou_score - 0.004711]\n",
            "\n",
            "Epoch: 21\n",
            "train:  20%|██        | 40/198 [01:15<04:58,  1.89s/it, dice_loss - 0.9481, iou_score - 0.007487]\n"
          ]
        },
        {
          "output_type": "error",
          "ename": "KeyboardInterrupt",
          "evalue": "ignored",
          "traceback": [
            "\u001b[0;31m---------------------------------------------------------------------------\u001b[0m",
            "\u001b[0;31mKeyboardInterrupt\u001b[0m                         Traceback (most recent call last)",
            "\u001b[0;32m<ipython-input-16-44f95a81e925>\u001b[0m in \u001b[0;36m<module>\u001b[0;34m()\u001b[0m\n\u001b[1;32m     51\u001b[0m \u001b[0;34m\u001b[0m\u001b[0m\n\u001b[1;32m     52\u001b[0m     \u001b[0mprint\u001b[0m\u001b[0;34m(\u001b[0m\u001b[0;34m'\\nEpoch: {}'\u001b[0m\u001b[0;34m.\u001b[0m\u001b[0mformat\u001b[0m\u001b[0;34m(\u001b[0m\u001b[0mi\u001b[0m\u001b[0;34m)\u001b[0m\u001b[0;34m)\u001b[0m\u001b[0;34m\u001b[0m\u001b[0;34m\u001b[0m\u001b[0m\n\u001b[0;32m---> 53\u001b[0;31m     \u001b[0mtrain_logs\u001b[0m \u001b[0;34m=\u001b[0m \u001b[0mtrain_epoch\u001b[0m\u001b[0;34m.\u001b[0m\u001b[0mrun\u001b[0m\u001b[0;34m(\u001b[0m\u001b[0mtrain_loader\u001b[0m\u001b[0;34m)\u001b[0m\u001b[0;34m\u001b[0m\u001b[0;34m\u001b[0m\u001b[0m\n\u001b[0m\u001b[1;32m     54\u001b[0m     \u001b[0mvalid_logs\u001b[0m \u001b[0;34m=\u001b[0m \u001b[0mvalid_epoch\u001b[0m\u001b[0;34m.\u001b[0m\u001b[0mrun\u001b[0m\u001b[0;34m(\u001b[0m\u001b[0mvalid_loader\u001b[0m\u001b[0;34m)\u001b[0m\u001b[0;34m\u001b[0m\u001b[0;34m\u001b[0m\u001b[0m\n\u001b[1;32m     55\u001b[0m \u001b[0;34m\u001b[0m\u001b[0m\n",
            "\u001b[0;32m/root/.local/lib/python3.7/site-packages/segmentation_models_pytorch/utils/train.py\u001b[0m in \u001b[0;36mrun\u001b[0;34m(self, dataloader)\u001b[0m\n\u001b[1;32m     48\u001b[0m \u001b[0;34m\u001b[0m\u001b[0m\n\u001b[1;32m     49\u001b[0m                 \u001b[0;31m# update loss logs\u001b[0m\u001b[0;34m\u001b[0m\u001b[0;34m\u001b[0m\u001b[0;34m\u001b[0m\u001b[0m\n\u001b[0;32m---> 50\u001b[0;31m                 \u001b[0mloss_value\u001b[0m \u001b[0;34m=\u001b[0m \u001b[0mloss\u001b[0m\u001b[0;34m.\u001b[0m\u001b[0mcpu\u001b[0m\u001b[0;34m(\u001b[0m\u001b[0;34m)\u001b[0m\u001b[0;34m.\u001b[0m\u001b[0mdetach\u001b[0m\u001b[0;34m(\u001b[0m\u001b[0;34m)\u001b[0m\u001b[0;34m.\u001b[0m\u001b[0mnumpy\u001b[0m\u001b[0;34m(\u001b[0m\u001b[0;34m)\u001b[0m\u001b[0;34m\u001b[0m\u001b[0;34m\u001b[0m\u001b[0m\n\u001b[0m\u001b[1;32m     51\u001b[0m                 \u001b[0mloss_meter\u001b[0m\u001b[0;34m.\u001b[0m\u001b[0madd\u001b[0m\u001b[0;34m(\u001b[0m\u001b[0mloss_value\u001b[0m\u001b[0;34m)\u001b[0m\u001b[0;34m\u001b[0m\u001b[0;34m\u001b[0m\u001b[0m\n\u001b[1;32m     52\u001b[0m                 \u001b[0mloss_logs\u001b[0m \u001b[0;34m=\u001b[0m \u001b[0;34m{\u001b[0m\u001b[0mself\u001b[0m\u001b[0;34m.\u001b[0m\u001b[0mloss\u001b[0m\u001b[0;34m.\u001b[0m\u001b[0m__name__\u001b[0m\u001b[0;34m:\u001b[0m \u001b[0mloss_meter\u001b[0m\u001b[0;34m.\u001b[0m\u001b[0mmean\u001b[0m\u001b[0;34m}\u001b[0m\u001b[0;34m\u001b[0m\u001b[0;34m\u001b[0m\u001b[0m\n",
            "\u001b[0;31mKeyboardInterrupt\u001b[0m: "
          ]
        }
      ]
    },
    {
      "cell_type": "code",
      "metadata": {
        "id": "CXdduyOcy7pI"
      },
      "source": [
        "'''\n",
        "#inference\n",
        "# create test dataset\n",
        "test_dataset = Dataset(\n",
        "    x_test_dir, \n",
        "    y_test_dir, \n",
        "    #x_train_dir, - check with trained images to see if that gives any prediction\n",
        "    #y_train_dir,\n",
        "    #augmentation=get_validation_augmentation(), \n",
        "    preprocessing=get_preprocessing(preprocessing_fn),\n",
        "    classes=CLASSES,\n",
        "    \n",
        ")\n",
        "\n",
        "test_dataloader = DataLoader(test_dataset, shuffle=False, num_workers=1)\n",
        "'''"
      ],
      "execution_count": null,
      "outputs": []
    },
    {
      "cell_type": "code",
      "metadata": {
        "id": "f0sxWoPLy-VN",
        "colab": {
          "base_uri": "https://localhost:8080/"
        },
        "outputId": "ef8dcf69-fa91-4f4b-9fbd-f8ea50a7d5de"
      },
      "source": [
        "'''\n",
        "#inference\n",
        "## evaluate model on test set. THIS IS WHERE YOU ARE TESTING THE TEST DATA SET ON THE MODEL\n",
        "test_epoch = smp.utils.train.ValidEpoch(\n",
        "    model=best_model,\n",
        "    loss=loss,\n",
        "    metrics=metrics,\n",
        "    device=DEVICE,\n",
        ")\n",
        "\n",
        "logs = test_epoch.run(test_dataloader)\n",
        "'''"
      ],
      "execution_count": null,
      "outputs": [
        {
          "output_type": "stream",
          "name": "stdout",
          "text": [
            "valid: 100%|██████████| 491/491 [00:14<00:00, 34.20it/s, dice_loss - 0.01979, iou_score - 0.9634]\n"
          ]
        }
      ]
    },
    {
      "cell_type": "code",
      "metadata": {
        "id": "hfeP4lx8zA88"
      },
      "source": [
        "'''\n",
        "#inference \n",
        "# test dataset without transformations for image visualization\n",
        "test_dataset_vis = Dataset(\n",
        "    x_test_dir, y_test_dir, \n",
        "    #x_train_dir, y_train_dir, - checking with train dataset \n",
        "    classes=CLASSES,\n",
        "    \n",
        ")\n",
        "'''"
      ],
      "execution_count": null,
      "outputs": []
    },
    {
      "cell_type": "code",
      "metadata": {
        "id": "VgQgkpxiptDY"
      },
      "source": [
        "'''\n",
        "#inference\n",
        "from torchvision.utils import save_image\n",
        "import torch\n",
        "import torchvision\n",
        "'''"
      ],
      "execution_count": null,
      "outputs": []
    },
    {
      "cell_type": "code",
      "metadata": {
        "id": "YJBflBNqzDRo"
      },
      "source": [
        "'''\n",
        "## THIS CODE PREDICTS ONE CLASS AT A TIME. NOT NEEDED NOW DUE TO FUSION. KEEPING IT TO DEBUG AS NECESSARY\n",
        "#CLASSES = ['sky', 'water', 'bridge', 'obstacle', 'living obstacle', 'background', 'self']\n",
        "import numpy as np \n",
        "DEVICE = 'cuda'\n",
        "for i in range(1):\n",
        "    #the below line will visualize for any random sample. we need specific. so i have removed it. keep changing value of n. \n",
        "    # i think value of i should loop thru no of classes.but we cna check it later\n",
        "    #n = np.random.choice(len(test_dataset))\n",
        "    n = 2\n",
        "    image_name = os.listdir(x_test_dir)[n]\n",
        "    image_vis = test_dataset_vis[n][0].astype('uint8')\n",
        "    image, gt_mask = test_dataset[n]\n",
        "        \n",
        "    #image_vis = test_dataset_vis[10][0].astype('uint8')\n",
        "    #image, gt_mask = test_dataset[10]\n",
        "    '''\n",
        "    print('gt mask before squeeze - 0', np.unique(gt_mask[0]))\n",
        "    print('gt mask before squeeze - 1', np.unique(gt_mask[1]))\n",
        "    print('gt mask before squeeze - 2', np.unique(gt_mask[2]))\n",
        "    print('gt mask before squeeze - 3', np.unique(gt_mask[3]))\n",
        "    print('gt mask before squeeze - 4', np.unique(gt_mask[4]))\n",
        "    print('gt mask before squeeze - 5', np.unique(gt_mask[5]))\n",
        "    print('gt mask before squeeze - 6', np.unique(gt_mask[6]))\n",
        "    '''\n",
        "    if (np.unique(gt_mask[3]).any() == 1) or (np.unique(gt_mask[4]).all() == 0):  \n",
        "       print (\"there are living ob and obstacles\")\n",
        "       print(\"Name of the image being predicted\",os.listdir(x_test_dir)[n])\n",
        "       gt_mask = gt_mask.squeeze()\n",
        "       x_tensor = torch.from_numpy(image).to(DEVICE).unsqueeze(0)\n",
        "       #x_tensor = torch.from_numpy(image).unsqueeze(0)\n",
        "       pr_mask = best_model.predict(x_tensor)\n",
        "       pr_mask1 = (pr_mask.squeeze().cpu().numpy().round())\n",
        "       print(\"type of pr_mask\",type(pr_mask))\n",
        "       #print(pr_mask[0])\n",
        "       #print(\"x shape = {0}\".format(x_tensor.shape))\n",
        "       #print (\"shape of pr mask\", pr_mask.shape)\n",
        "       #print (\"shape of gt mask\", gt_mask.shape)\n",
        "       #print (\"shape of pr mask1\", pr_mask1.shape)\n",
        "\n",
        "       #print(\"unique values of pr mask\", np.unique(pr_mask[0]))\n",
        "       #print(\"unique values of gt mask\", np.unique(gt_mask))\n",
        "       #print(\"unique values of pr mask\", np.unique(pr_mask1[0]))\n",
        "       print(\"unique values of pr mask1\", np.unique(pr_mask1[2]))\n",
        "\n",
        "       #want to save the array as an image#\n",
        "       img1 = pr_mask.squeeze()\n",
        "       #print (\"shape of img1 after squeeze\", img1.shape)\n",
        "       #print (\"type of img1 after squeeze\", type(img1))\n",
        "       # we are only saving 1 class at a time. since we want obstacles, i have put 3 in the array below#\n",
        "       #save_image(img1[3], '/content/drive/MyDrive/TheIRDataset-Inferences/pspnet/Prediction-obstacles/0--run1--1570555911.468876_1_2.png') \n",
        "       #instead of hardcoding the name, dynamically getting it from the value of n\n",
        "       #save_image(img1[3], '/content/drive/MyDrive/IRdatasetmini-inferences/pspnet/Prediction-obstacles/0--run1--' + image_name)\n",
        "    \n",
        "       #CLASSES = ['sky', 'water', 'bridge', 'obstacle', 'living obstacle', 'background', 'self']\n",
        "       #              0.      1.       2.        3             4                 5           6\n",
        "       visualize(\n",
        "          image=image_vis, \n",
        "          ground_truth_mask=gt_mask[2], \n",
        "          predicted_mask=pr_mask1[2]\n",
        "               )\n",
        "       \n",
        "       visualize2(\n",
        "          #image=image_vis, \n",
        "          #ground_truth_mask=gt_mask[3], \n",
        "          predicted_mask=pr_mask1[2]\n",
        "               )\n",
        "'''"
      ],
      "execution_count": null,
      "outputs": []
    },
    {
      "cell_type": "code",
      "metadata": {
        "id": "Nu0LcU_dladE"
      },
      "source": [
        "'''\n",
        "mask_image = cv2.imread(\"/content/img1.png\", cv2.IMREAD_UNCHANGED)\n",
        "print(np.unique(mask_image))\n",
        "print(mask_image)\n",
        "'''"
      ],
      "execution_count": null,
      "outputs": []
    },
    {
      "cell_type": "markdown",
      "metadata": {
        "id": "jXaRFYzpoZeN"
      },
      "source": [
        "The predicted mask of dimensions (7,256,320) is collapsed into (256,320) 2D array. The (7,256,320) 3D array is a binary mask for each type of class. 7 layers correspond to 7 classes. E.g. in 0th layer, if sky is present (class id=0) then that array entry will be 1 everything else will be 0. So when we convert this 3D array to 2D array, 0th slice is multiplied by 1, 1st slice by 2, .. so on and so forth. This preserves the information of 0th class ID. Then all the 2D slices are summed up to obtain (256,320) mask image. Then, 1 is subtracted from this 2D array so that the class IDs match with ground truth.\n",
        "Now, theoretically speaking, there should not be any 0 values in predicted mask because we are multiplying sky mask (class id=0) with 1 so where ever sky is present, it will produce 1 and rest of the entries will be occupied by other classes. However, there are some spurious entries with value 0 in the prediction mask. There are anomaly or noise. I need to decide what should be done with it.\n",
        "1. Check if PSPNet is happy with ground truth having 0 as valid class id. Many a times, there is hidden assumption that the class id will not be 0. WaSR had such assumption which was explicitly stated. If PSPNet has such assumption then I will need to regenerate/preprocess all the ground truth masks such that sky is 1, water is 2 etc. and then we should try PSPNet again."
      ]
    },
    {
      "cell_type": "code",
      "metadata": {
        "id": "f4zr_MnrhHW9"
      },
      "source": [
        "'''\n",
        "#inference \n",
        "# THIS COMBINES ALL CLASSES IN 1. FOR CHECKING EACH IMAGE SEPARATELY, CHANGE VALUE OF N. \n",
        "#FOR CHECKING ALL IMAGES TOGETHER, YOU WILL HAVE TO REMOVE N. AND USE I EVERYWHERE\n",
        "#CLASSES = ['sky', 'water', 'bridge', 'obstacle', 'living obstacle', 'background', 'self']\n",
        "import numpy as np \n",
        "import PIL\n",
        "from PIL import Image\n",
        "\n",
        "\n",
        "DEVICE = 'cuda'\n",
        "rawimagefilenamelist = sorted(os.listdir(x_test_dir))\n",
        "for i in range(50,100):\n",
        "    #the below line will visualize for any random sample. we need specific. so i have removed it. keep changing value of n. \n",
        "    # i think value of i should loop thru no of classes.but we cna check it later\n",
        "    #n = np.random.choice(len(test_dataset))\n",
        "    #print(\"the iteration that is running is\", i)\n",
        "    image_name = rawimagefilenamelist[i]\n",
        "    image_vis = test_dataset_vis[i][0].astype('uint8')\n",
        "    image, gt_mask = test_dataset[i]\n",
        "        \n",
        "    #image_vis = test_dataset_vis[10][0].astype('uint8')\n",
        "    #image, gt_mask = test_dataset[10]\n",
        "    \n",
        "    #print('gt mask before squeeze', np.unique(gt_mask))\n",
        "    # only throw images if the ground truth has both obstacle and living obstacle \n",
        "    if (np.unique(gt_mask[3]).any() == 1) and (np.unique(gt_mask[4]).any() == 1):\n",
        "\n",
        "    # only throw images if the ground truth has  obstacle but no living obstacle \n",
        "    #if (np.unique(gt_mask[3]).any() == 1) and (np.unique(gt_mask[4]).all() == 0) - checking if atleast an ob can be found:  \n",
        "    #if (np.unique(gt_mask[3]).any() == 1) and (np.unique(gt_mask[4]).all() == 0) - checking if atleast an ob can be found:  \n",
        "    #if (np.unique(gt_mask[6]).any() == 1 -- no self in test dataset ):  \n",
        "       print(\"There are living obstacles and obstacles in the image\",os.listdir(x_test_dir)[i])\n",
        "       print(\"The position of the file is\", i)\n",
        "       gt_mask = gt_mask.squeeze()\n",
        "       image_tensor = torch.from_numpy(image).to(DEVICE).unsqueeze(0)\n",
        "       #x_tensor = torch.from_numpy(image).unsqueeze(0)\n",
        "       pr_mask = best_model.predict(image_tensor)\n",
        "       pr_mask1 = (pr_mask.squeeze().cpu().numpy().round())\n",
        "       #print(\"type of pr_mask\", type(pr_mask))\n",
        "       #print(\"shape of pr_mask\", pr_mask.shape)\n",
        "       #print(\"type of pr_mask1\", type(pr_mask1))\n",
        "       #print(\"shape of pr_mask1\", pr_mask1.shape)\n",
        "    \n",
        "       #print(\"unique values of pr mask\", np.unique(pr_mask))\n",
        "       #print(\"unique values of gt mask\", np.unique(gt_mask))\n",
        "       #print(\"unique values of pr mask\", np.unique(pr_mask1))\n",
        "       #print(\"unique values of pr mask1\", np.unique(pr_mask1))\n",
        "\n",
        "       #want to save the array as an image#\n",
        "       pr_mask1_sqz = pr_mask1.squeeze()\n",
        "       #print (\"shape of pr_mask1_sqz after squeeze\", pr_mask1_sqz.shape)\n",
        "       #print (\"type of pr_mask1_sqz after squeeze\", type(pr_mask1_sqz))\n",
        "       #print(\"pr_mask1_sqz\", np.unique(pr_mask1_sqz[2, :, :]))\n",
        "       collapsed_pr_mask1_sqz = 1 * pr_mask1_sqz[0, :, :] + 2 * pr_mask1_sqz[1, :, :] + 3 * pr_mask1_sqz[2, :, :] + 4 * pr_mask1_sqz[3, :, :] + 5 * pr_mask1_sqz[4, :, :] + 6 * pr_mask1_sqz[5, :, :] + 7 * pr_mask1_sqz[6, :, :]    \n",
        "       #print (\"pr_mask1_sqz[0, 80, :] = \", pr_mask1_sqz[0, 109, :])\n",
        "       #print (\"pr_mask1_sqz[1, 80, :] = \", pr_mask1_sqz[1, 109, :])\n",
        "       #print (\"pr_mask1_sqz[2, 80, :] = \", pr_mask1_sqz[2, 109, :])\n",
        "       #print (\"pr_mask1_sqz[3, 80, :] = \", pr_mask1_sqz[3, 109, :])\n",
        "       #print (\"pr_mask1_sqz[4, 80, :] = \", pr_mask1_sqz[4, 109, :])\n",
        "       #print (\"pr_mask1_sqz[5, 80, :] = \", pr_mask1_sqz[5, 109, :])\n",
        "       #print (\"pr_mask1_sqz[6, 80, :] = \", pr_mask1_sqz[6, 109, :])\n",
        "       #print (\"Shape of collapsed_pr_mask1_sqz = {0}\".format(collapsed_pr_mask1_sqz.shape))\n",
        "       #print (\"collapsed_pr_mask1_sqz = {0}\".format(collapsed_pr_mask1_sqz))\n",
        "       #print (\"collapsed_pr_mask1_sqz[118] = {0}\".format(collapsed_pr_mask1_sqz[118, :]))\n",
        "       #print (\"Unique values in collapsed_pr_mask1_sqz = \", np.unique(collapsed_pr_mask1_sqz))\n",
        "       # Account for labeling correction: In earlier step, pr_mask_sqz[0, :, :] has to be multiplied by 1 to retain on-pixels. So \n",
        "       # subsequent classes also get (class no. + 1) as multiplier. So now subtract 1 to get back original ids in predicted\n",
        "       result = np.where(collapsed_pr_mask1_sqz==0)\n",
        "       print(\"indices where collapsed_pr_mask1_sqz has 0 value = \", result)\n",
        "       #print (\"values in collapsed_pr_mask1_sqz = \", collapsed_pr_mask1_sqz[25, :])\n",
        "       #print (\"Unique values in collapsed_pr_mask1_sqz = \", np.unique(collapsed_pr_mask1_sqz))\n",
        "       # mask image\n",
        "       collapsed_pr_mask1_sqz = collapsed_pr_mask1_sqz - 1 # why is this needed? \n",
        "       #print (\"Unique values in collapsed_pr_mask1_sqz after subtraction = \", np.unique(collapsed_pr_mask1_sqz))\n",
        "       #since pspnet is giving some pixels value of 0, which means none of the slices are being inferred in that pixel. \n",
        "       #changing that to sky so that there is no -1 in the array for visualization\n",
        "       collapsed_pr_mask1_sqz = np.where(collapsed_pr_mask1_sqz == -1, 0, collapsed_pr_mask1_sqz)\n",
        "       #print (\"Unique values in collapsed_pr_mask1_sqz after changing -1 to 0 = \", np.unique(collapsed_pr_mask1_sqz))\n",
        "       img_collapse = Image.fromarray(collapsed_pr_mask1_sqz) \n",
        "       img_collapse = img_collapse.convert(\"L\")\n",
        "\n",
        "       #Saving the category ids in an image for programatic IoU check \n",
        "       img_collapse.save('/content/drive/MyDrive/IRDatasetFinal-Inferences/pspnet/program/' + str(i) + '--run2020-1--' + image_name)\n",
        "       \n",
        "       #CLASSES = ['sky', 'water', 'bridge', 'obstacle', 'living obstacle', 'background', 'self']\n",
        "       #              0.      1.       2.        3             4                 5           6\n",
        "       visualize(\n",
        "           image=image_vis,\n",
        "           ground_truth_mask=gt_mask[3], \n",
        "           #predicted_mask=collapsed_pr_mask1_sqz\n",
        "               )\n",
        "     \n",
        "       visualize(\n",
        "           #image=image_vis,\n",
        "           ground_truth_mask=gt_mask[4], \n",
        "           #predicted_mask=collapsed_pr_mask1_sqz\n",
        "               )\n",
        "     \n",
        "       visualize2(\n",
        "           #image=image_vis, \n",
        "           #ground_truth_mask=gt_mask[3], \n",
        "           predicted_mask=collapsed_pr_mask1_sqz,\n",
        "           sequence = i,\n",
        "           imagename = image_name \n",
        "                )\n",
        "       \n",
        " '''      \n",
        "\n",
        "\n"
      ],
      "execution_count": null,
      "outputs": []
    },
    {
      "cell_type": "code",
      "metadata": {
        "id": "n692E7if8KT4"
      },
      "source": [
        "'''\n",
        "# out of 490, there are 340 images where there are empty pixels. Below code is to check if there are any 0s.\n",
        "import numpy as np \n",
        "import PIL\n",
        "from PIL import Image\n",
        "DEVICE = 'cuda'\n",
        "count = 0\n",
        "for i in range(0,490):\n",
        "    image_name = os.listdir(x_test_dir)[i]\n",
        "    image_vis = test_dataset_vis[i][0].astype('uint8')\n",
        "    image, gt_mask = test_dataset[i]\n",
        "    #print(\"The position of the file is\", i)\n",
        "    gt_mask = gt_mask.squeeze()\n",
        "    image_tensor = torch.from_numpy(image).to(DEVICE).unsqueeze(0)\n",
        "    pr_mask = best_model.predict(image_tensor)\n",
        "    pr_mask1 = (pr_mask.squeeze().cpu().numpy().round())\n",
        "    pr_mask1_sqz = pr_mask1.squeeze()\n",
        "    collapsed_pr_mask1_sqz = 1 * pr_mask1_sqz[0, :, :] + 2 * pr_mask1_sqz[1, :, :] + 3 * pr_mask1_sqz[2, :, :] + 4 * pr_mask1_sqz[3, :, :] + 5 * pr_mask1_sqz[4, :, :] + 6 * pr_mask1_sqz[5, :, :] + 7 * pr_mask1_sqz[6, :, :]    \n",
        "    result = np.where(collapsed_pr_mask1_sqz==0)\n",
        "    \n",
        "    if (len(result[0]) > 0): \n",
        "        #print(\"indices where collapsed_pr_mask1_sqz has 0 value = \", result)\n",
        "        count = count+1 \n",
        "print(\"total count of images where there are 0s\" , count)\n",
        "'''\n"
      ],
      "execution_count": null,
      "outputs": []
    }
  ]
}